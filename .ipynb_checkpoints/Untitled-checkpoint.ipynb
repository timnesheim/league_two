{
 "cells": [
  {
   "cell_type": "code",
   "execution_count": 1,
   "id": "waiting-consciousness",
   "metadata": {},
   "outputs": [],
   "source": [
    "import os\n",
    "import re\n",
    "import pandas as pd\n",
    "import numpy as np"
   ]
  },
  {
   "cell_type": "code",
   "execution_count": 2,
   "id": "through-order",
   "metadata": {},
   "outputs": [],
   "source": [
    "import plotly.express as px"
   ]
  },
  {
   "cell_type": "code",
   "execution_count": 3,
   "id": "medical-linux",
   "metadata": {},
   "outputs": [],
   "source": [
    "pd.set_option('display.max_columns',None)"
   ]
  },
  {
   "cell_type": "code",
   "execution_count": 4,
   "id": "central-devices",
   "metadata": {},
   "outputs": [],
   "source": [
    "directory = './excel_files'\n",
    "os.chdir(directory)"
   ]
  },
  {
   "cell_type": "code",
   "execution_count": 5,
   "id": "advised-immune",
   "metadata": {},
   "outputs": [],
   "source": [
    "# importing league table data from each Excel file\n",
    "league_tables = {}\n",
    "\n",
    "for file in os.listdir():\n",
    "    name = file.split('.')[0]\n",
    "    table = pd.read_excel(file,sheet_name='table')\n",
    "    league_tables.update({name:table}) "
   ]
  },
  {
   "cell_type": "code",
   "execution_count": 6,
   "id": "stainless-actress",
   "metadata": {},
   "outputs": [],
   "source": [
    "# adding year column to each dataframe and populating with key\n",
    "def update_table_year():\n",
    "    for k,v in league_tables.items():\n",
    "        v['year'] = k\n",
    "    return league_tables"
   ]
  },
  {
   "cell_type": "code",
   "execution_count": 7,
   "id": "animated-discipline",
   "metadata": {},
   "outputs": [],
   "source": [
    "league_tables_updated = update_table_year()"
   ]
  },
  {
   "cell_type": "code",
   "execution_count": 8,
   "id": "unlike-geology",
   "metadata": {},
   "outputs": [],
   "source": [
    "# creating single league table dataframe\n",
    "league_table_df = pd.concat([v for k,v in league_tables_updated.items()]).reset_index(drop=True)"
   ]
  },
  {
   "cell_type": "code",
   "execution_count": 9,
   "id": "classical-modem",
   "metadata": {},
   "outputs": [],
   "source": [
    "# updating year column to year season started\n",
    "years = dict.fromkeys(list(league_table_df['year'].unique()))"
   ]
  },
  {
   "cell_type": "code",
   "execution_count": 10,
   "id": "bright-biodiversity",
   "metadata": {},
   "outputs": [],
   "source": [
    "def format_year():\n",
    "    for k,v in years.items():\n",
    "        years[k] = '20{}'.format(k.split('_')[0])\n",
    "    return years"
   ]
  },
  {
   "cell_type": "code",
   "execution_count": 11,
   "id": "emotional-pizza",
   "metadata": {},
   "outputs": [],
   "source": [
    "years_updated = format_year()"
   ]
  },
  {
   "cell_type": "code",
   "execution_count": 12,
   "id": "reliable-mustang",
   "metadata": {},
   "outputs": [],
   "source": [
    "league_table_df['year'] = league_table_df['year'].map(years_updated)"
   ]
  },
  {
   "cell_type": "code",
   "execution_count": 13,
   "id": "amended-buddy",
   "metadata": {},
   "outputs": [],
   "source": [
    "league_table_df['GD/MP'] = round(league_table_df['GD'] / league_table_df['MP'],2)"
   ]
  },
  {
   "cell_type": "code",
   "execution_count": 14,
   "id": "narrow-jonathan",
   "metadata": {},
   "outputs": [],
   "source": [
    "status_list = list(league_table_df['Notes'].unique())"
   ]
  },
  {
   "cell_type": "code",
   "execution_count": 15,
   "id": "upset-input",
   "metadata": {},
   "outputs": [
    {
     "data": {
      "text/plain": [
       "['Promoted',\n",
       " 'Promoted → Semi-finals',\n",
       " '→ Semi-finals',\n",
       " nan,\n",
       " '3-point deduction 1',\n",
       " 'Relegated',\n",
       " '10-point deduction 1',\n",
       " 'Retained 1',\n",
       " '17-point deduction 2 Relegated']"
      ]
     },
     "execution_count": 15,
     "metadata": {},
     "output_type": "execute_result"
    }
   ],
   "source": [
    "status_list"
   ]
  },
  {
   "cell_type": "code",
   "execution_count": 16,
   "id": "seven-average",
   "metadata": {},
   "outputs": [],
   "source": [
    "# importing standard stats\n",
    "standard_stats = {}\n",
    "\n",
    "for file in os.listdir():\n",
    "    name = file.split('.')[0]\n",
    "    table = pd.read_excel(file,sheet_name='standard')\n",
    "    standard_stats.update({name:table}) "
   ]
  },
  {
   "cell_type": "code",
   "execution_count": 17,
   "id": "behavioral-concentrate",
   "metadata": {},
   "outputs": [
    {
     "data": {
      "text/plain": [
       "{'13_14':               Squad  # Pl   Age  Poss  MP  Starts  Min  90s  Gls  Ast  G-PK  \\\n",
       " 0   Acc'ton Stanley    29  24.4   NaN  46     506  NaN  NaN   53   27    49   \n",
       " 1     AFC Wimbledon    30  25.9   NaN  46     506  NaN  NaN   49   22    44   \n",
       " 2    Bristol Rovers    30  25.0   NaN  46     506  NaN  NaN   43   21    39   \n",
       " 3     Burton Albion    29  25.4   NaN  46     506  NaN  NaN   44   26    39   \n",
       " 4              Bury    46  27.7   NaN  46     505  NaN  NaN   59   37    55   \n",
       " 5        Cheltenham    30  26.8   NaN  46     506  NaN  NaN   51   23    50   \n",
       " 6      Chesterfield    26  26.3   NaN  46     506  NaN  NaN   71   42    65   \n",
       " 7         Dag & Red    30  23.5   NaN  46     506  NaN  NaN   52   23    47   \n",
       " 8       Exeter City    26  26.7   NaN  46     506  NaN  NaN   49   30    49   \n",
       " 9    Fleetwood Town    32  25.6   NaN  46     506  NaN  NaN   65   30    58   \n",
       " 10   Hartlepool Utd    29  24.3   NaN  46     506  NaN  NaN   49   25    45   \n",
       " 11   Mansfield Town    34  27.1   NaN  46     506  NaN  NaN   48   26    46   \n",
       " 12        Morecambe    25  26.6   NaN  46     506  NaN  NaN   49   24    46   \n",
       " 13   Newport County    32  25.6   NaN  46     505  NaN  NaN   55   26    51   \n",
       " 14      Northampton    41  28.2   NaN  46     506  NaN  NaN   39   22    36   \n",
       " 15    Oxford United    23  27.4   NaN  46     506  NaN  NaN   52   24    49   \n",
       " 16  Plymouth Argyle    29  24.9   NaN  46     506  NaN  NaN   51   27    46   \n",
       " 17       Portsmouth    39  25.6   NaN  46     506  NaN  NaN   56   28    53   \n",
       " 18         Rochdale    29  24.6   NaN  46     506  NaN  NaN   68   34    66   \n",
       " 19   Scunthorpe Utd    30  26.1   NaN  46     506  NaN  NaN   66   36    64   \n",
       " 20  Southend United    30  24.7   NaN  46     506  NaN  NaN   55   40    53   \n",
       " 21   Torquay United    35  25.4   NaN  46     506  NaN  NaN   41   29    40   \n",
       " 22          Wycombe    29  24.4   NaN  46     506  NaN  NaN   45   27    40   \n",
       " 23        York City    33  23.9   NaN  46     506  NaN  NaN   50   25    42   \n",
       " \n",
       "     PK  PKatt  CrdY  CrdR  Gls/90  Ast/90  G+A/90  G-PK/90  G+A-PK/90  \n",
       " 0    4      5     0     0    1.15    0.59    1.74     1.07       1.65  \n",
       " 1    5      7     0     0    1.07    0.48    1.54     0.96       1.43  \n",
       " 2    4      5     0     0    0.93    0.46    1.39     0.85       1.30  \n",
       " 3    5      6     0     0    0.96    0.57    1.52     0.85       1.41  \n",
       " 4    4      4     0     0    1.28    0.80    2.09     1.20       2.00  \n",
       " 5    1      3     0     0    1.11    0.50    1.61     1.09       1.59  \n",
       " 6    6      7     0     0    1.54    0.91    2.46     1.41       2.33  \n",
       " 7    5      6     0     0    1.13    0.50    1.63     1.02       1.52  \n",
       " 8    0      1     0     0    1.07    0.65    1.72     1.07       1.72  \n",
       " 9    7      9     0     0    1.41    0.65    2.07     1.26       1.91  \n",
       " 10   4      6     0     0    1.07    0.54    1.61     0.98       1.52  \n",
       " 11   2      3     0     0    1.04    0.57    1.61     1.00       1.57  \n",
       " 12   3      4     0     0    1.07    0.52    1.59     1.00       1.52  \n",
       " 13   4      8     0     0    1.20    0.57    1.76     1.11       1.67  \n",
       " 14   3      6     0     0    0.85    0.48    1.33     0.78       1.26  \n",
       " 15   3      5     0     0    1.13    0.52    1.65     1.07       1.59  \n",
       " 16   5      6     0     0    1.11    0.59    1.70     1.00       1.59  \n",
       " 17   3      5     0     0    1.22    0.61    1.83     1.15       1.76  \n",
       " 18   2      4     0     0    1.48    0.74    2.22     1.43       2.17  \n",
       " 19   2      6     0     0    1.43    0.78    2.22     1.39       2.17  \n",
       " 20   2      2     0     0    1.20    0.87    2.07     1.15       2.02  \n",
       " 21   1      3     0     0    0.89    0.63    1.52     0.87       1.50  \n",
       " 22   5      5     0     0    0.98    0.59    1.57     0.87       1.46  \n",
       " 23   8      9     0     0    1.09    0.54    1.63     0.91       1.46  ,\n",
       " '16_17':               Squad  # Pl   Age  Poss  MP  Starts   Min  90s  Gls  Ast  G-PK  \\\n",
       " 0   Acc'ton Stanley    30  25.0   NaN  46     506  4140   46   59   38    54   \n",
       " 1            Barnet    40  26.1   NaN  46     506  4140   46   57   34    51   \n",
       " 2         Blackpool    27  25.7   NaN  46     506  4140   46   65   38    62   \n",
       " 3     Cambridge Utd    31  25.0   NaN  46     506  4140   46   58   31    53   \n",
       " 4   Carlisle United    32  27.3   NaN  46     506  4140   46   66   42    61   \n",
       " 5        Cheltenham    33  24.6   NaN  46     506  4140   46   49   35    46   \n",
       " 6    Colchester Utd    31  24.1   NaN  46     506  4140   46   64   45    59   \n",
       " 7      Crawley Town    28  25.9   NaN  46     506  4140   46   51   31    46   \n",
       " 8   Crewe Alexandra    25  24.3   NaN  46     506  4140   46   57   45    54   \n",
       " 9         Doncaster    29  25.9   NaN  46     506  4140   46   83   52    77   \n",
       " 10      Exeter City    28  25.6   NaN  46     506  4140   46   75   48    69   \n",
       " 11     Grimsby Town    31  27.0   NaN  46     506  4140   46   58   32    51   \n",
       " 12   Hartlepool Utd    35  24.9   NaN  46     506  4140   46   53   27    50   \n",
       " 13    Leyton Orient    39  24.5   NaN  46     506  4140   46   47   26    44   \n",
       " 14       Luton Town    27  24.3   NaN  46     506  4140   46   67   42    59   \n",
       " 15   Mansfield Town    31  25.8   NaN  46     506  4140   46   53   32    48   \n",
       " 16        Morecambe    28  26.4   NaN  46     506  4140   46   52   23    45   \n",
       " 17   Newport County    40  25.7   NaN  46     506  4140   46   51   26    48   \n",
       " 18     Notts County    33  27.6   NaN  46     506  4140   46   53   32    52   \n",
       " 19  Plymouth Argyle    26  26.4   NaN  46     506  4140   46   71   52    64   \n",
       " 20       Portsmouth    25  28.2   NaN  46     506  4140   46   78   50    71   \n",
       " 21        Stevenage    31  26.9   NaN  46     506  4140   46   65   37    58   \n",
       " 22          Wycombe    27  26.7   NaN  46     506  4140   46   57   36    53   \n",
       " 23      Yeovil Town    26  25.3   NaN  46     506  4140   46   48   24    46   \n",
       " \n",
       "     PK  PKatt  CrdY  CrdR  Gls/90  Ast/90  G+A/90  G-PK/90  G+A-PK/90  \n",
       " 0    5      7     0     1    1.28    0.83    2.11     1.17       2.00  \n",
       " 1    6      8     0     0    1.24    0.74    1.98     1.11       1.85  \n",
       " 2    3      8     0     0    1.41    0.83    2.24     1.35       2.17  \n",
       " 3    5      9     0     0    1.26    0.67    1.93     1.15       1.83  \n",
       " 4    5      5     0     4    1.43    0.91    2.35     1.33       2.24  \n",
       " 5    3      5     0     4    1.07    0.76    1.83     1.00       1.76  \n",
       " 6    5      5     0     0    1.39    0.98    2.37     1.28       2.26  \n",
       " 7    5      5     0     2    1.11    0.67    1.78     1.00       1.67  \n",
       " 8    3      5     0     0    1.24    0.98    2.22     1.17       2.15  \n",
       " 9    6     11     0     1    1.80    1.13    2.93     1.67       2.80  \n",
       " 10   6      7     0     1    1.63    1.04    2.67     1.50       2.54  \n",
       " 11   7      8     0     1    1.26    0.70    1.96     1.11       1.80  \n",
       " 12   3      7     0     2    1.15    0.59    1.74     1.09       1.67  \n",
       " 13   3      4     0     0    1.02    0.57    1.59     0.96       1.52  \n",
       " 14   8     10     0     6    1.46    0.91    2.37     1.28       2.20  \n",
       " 15   5      6     0     3    1.15    0.70    1.85     1.04       1.74  \n",
       " 16   7     10     0     1    1.13    0.50    1.63     0.98       1.48  \n",
       " 17   3      6     0     2    1.11    0.57    1.67     1.04       1.61  \n",
       " 18   1      4     0     2    1.15    0.70    1.85     1.13       1.83  \n",
       " 19   7      7     0     1    1.54    1.13    2.67     1.39       2.52  \n",
       " 20   7     13     0     1    1.70    1.09    2.78     1.54       2.63  \n",
       " 21   7      7     0     1    1.41    0.80    2.22     1.26       2.07  \n",
       " 22   4      4     0     4    1.24    0.78    2.02     1.15       1.93  \n",
       " 23   2      2     0     1    1.04    0.52    1.57     1.00       1.52  ,\n",
       " '20_21':               Squad  # Pl   Age  Poss  MP  Starts   Min  90s  Gls  Ast  G-PK  \\\n",
       " 0            Barrow    34  27.0  47.8  46     506  4140   46   51   27    43   \n",
       " 1            Bolton    34  27.6  56.0  46     506  4140   46   55   38    52   \n",
       " 2     Bradford City    33  25.8  50.6  46     506  4140   46   47   34    45   \n",
       " 3     Cambridge Utd    24  26.0  48.5  46     506  4140   46   71   42    61   \n",
       " 4   Carlisle United    28  25.4  45.8  46     506  4140   46   58   42    55   \n",
       " 5        Cheltenham    25  26.6  52.2  46     506  4140   46   56   36    50   \n",
       " 6    Colchester Utd    32  25.4  48.0  46     506  4140   46   42   28    38   \n",
       " 7      Crawley Town    31  27.4  50.2  46     506  4140   46   52   36    49   \n",
       " 8       Exeter City    26  24.7  54.3  46     506  4140   46   68   46    64   \n",
       " 9         FG Rovers    28  24.4  52.4  46     506  4140   46   58   36    51   \n",
       " 10     Grimsby Town    44  25.9  52.3  46     506  4140   46   37   24    35   \n",
       " 11        Harrogate    29  27.2  50.8  46     506  4140   46   52   38    48   \n",
       " 12    Leyton Orient    27  26.6  54.0  46     506  4140   46   50   35    50   \n",
       " 13   Mansfield Town    29  26.3  50.7  46     506  4140   46   55   33    52   \n",
       " 14        Morecambe    26  26.7  41.7  46     506  4140   46   66   44    62   \n",
       " 15   Newport County    33  26.6  52.5  46     506  4140   46   56   27    47   \n",
       " 16  Oldham Athletic    32  25.0  49.6  46     506  4140   46   71   42    66   \n",
       " 17        Port Vale    27  28.2  47.3  46     506  4140   46   54   36    50   \n",
       " 18     Salford City    27  27.3  53.6  46     506  4140   46   52   37    49   \n",
       " 19   Scunthorpe Utd    32  24.7  46.3  46     506  4140   46   40   31    38   \n",
       " 20  Southend United    43  25.5  46.5  46     506  4140   46   28   18    26   \n",
       " 21        Stevenage    32  25.9  45.9  46     506  4140   46   41   22    36   \n",
       " 22  Tranmere Rovers    30  28.9  54.7  46     506  4140   46   54   31    46   \n",
       " 23          Walsall    30  25.0  49.4  46     506  4140   46   43   30    39   \n",
       " \n",
       "     PK  PKatt  CrdY  CrdR  Gls/90  Ast/90  G+A/90  G-PK/90  G+A-PK/90  \n",
       " 0    8      9    89     3    1.11    0.59    1.70     0.93       1.52  \n",
       " 1    3      3    60     5    1.20    0.83    2.02     1.13       1.96  \n",
       " 2    2      3    65     3    1.02    0.74    1.76     0.98       1.72  \n",
       " 3   10     13    61     0    1.54    0.91    2.46     1.33       2.24  \n",
       " 4    3      4    77     3    1.26    0.91    2.17     1.20       2.11  \n",
       " 5    6      6    48     0    1.22    0.78    2.00     1.09       1.87  \n",
       " 6    4      4    81     2    0.91    0.61    1.52     0.83       1.43  \n",
       " 7    3      4    60     5    1.13    0.78    1.91     1.07       1.85  \n",
       " 8    4      4    46     3    1.48    1.00    2.48     1.39       2.39  \n",
       " 9    7      9    72     4    1.26    0.78    2.04     1.11       1.89  \n",
       " 10   2      2    77     5    0.80    0.52    1.33     0.76       1.28  \n",
       " 11   4      5    50     5    1.13    0.83    1.96     1.04       1.87  \n",
       " 12   0      3    91     3    1.09    0.76    1.85     1.09       1.85  \n",
       " 13   3      5    68     4    1.20    0.72    1.91     1.13       1.85  \n",
       " 14   4      6    77     6    1.43    0.96    2.39     1.35       2.30  \n",
       " 15   9     10    53     5    1.22    0.59    1.80     1.02       1.61  \n",
       " 16   5      7    74     3    1.54    0.91    2.46     1.43       2.35  \n",
       " 17   4      5    66     4    1.17    0.78    1.96     1.09       1.87  \n",
       " 18   3      7    84     3    1.13    0.80    1.93     1.07       1.87  \n",
       " 19   2      2    58     3    0.87    0.67    1.54     0.83       1.50  \n",
       " 20   2      4    76     4    0.61    0.39    1.00     0.57       0.96  \n",
       " 21   5      8    62     1    0.89    0.48    1.37     0.78       1.26  \n",
       " 22   8      9    66     2    1.17    0.67    1.85     1.00       1.67  \n",
       " 23   4      9    70     4    0.93    0.65    1.59     0.85       1.50  ,\n",
       " '11_12':               Squad  # Pl   Age  Poss  MP  Starts  Min  90s  Gls  Ast  G-PK  \\\n",
       " 0   Acc'ton Stanley    37  24.7   NaN  46     506  NaN  NaN   53   38    53   \n",
       " 1     AFC Wimbledon    32  24.4   NaN  46     506  NaN  NaN   58   39    54   \n",
       " 2    Aldershot Town    41  24.5   NaN  46     506  NaN  NaN   52   37    49   \n",
       " 3            Barnet    35  23.9   NaN  46     506  NaN  NaN   52   36    46   \n",
       " 4     Bradford City    40  26.3   NaN  46     506  NaN  NaN   53   33    45   \n",
       " 5    Bristol Rovers    31  26.3   NaN  46     506  NaN  NaN   60   33    51   \n",
       " 6     Burton Albion    31  26.9   NaN  46     506  NaN  NaN   53   41    50   \n",
       " 7        Cheltenham    25  25.2   NaN  46     506  NaN  NaN   65   44    59   \n",
       " 8      Crawley Town    35  27.5   NaN  46     506  NaN  NaN   73   52    65   \n",
       " 9   Crewe Alexandra    26  23.5   NaN  46     508  NaN  NaN   65   45    60   \n",
       " 10        Dag & Red    40  24.5   NaN  46     506  NaN  NaN   49   35    48   \n",
       " 11       Gillingham    31  25.4   NaN  46     506  NaN  NaN   77   50    65   \n",
       " 12  Hereford United    32  25.5   NaN  46     506  NaN  NaN   48   34    44   \n",
       " 13     Macclesfield    35  24.3   NaN  46     506  NaN  NaN   37   20    34   \n",
       " 14        Morecambe    26  28.0   NaN  46     506  NaN  NaN   62   41    56   \n",
       " 15      Northampton    42  24.5   NaN  46     506  NaN  NaN   55   40    51   \n",
       " 16    Oxford United    36  26.6   NaN  46     506  NaN  NaN   59   41    58   \n",
       " 17  Plymouth Argyle    34  24.3   NaN  46     506  NaN  NaN   45   27    38   \n",
       " 18        Port Vale    30  25.4   NaN  46     506  NaN  NaN   67   37    62   \n",
       " 19    Rotherham Utd    31  25.8   NaN  46     506  NaN  NaN   67   48    60   \n",
       " 20       Shrewsbury    25  25.3   NaN  46     506  NaN  NaN   64   49    60   \n",
       " 21  Southend United    33  26.2   NaN  46     506  NaN  NaN   73   55    68   \n",
       " 22     Swindon Town    38  24.3   NaN  46     506  NaN  NaN   74   52    70   \n",
       " 23   Torquay United    23  24.6   NaN  46     506  NaN  NaN   63   40    60   \n",
       " \n",
       "     PK  PKatt  CrdY  CrdR  Gls/90  Ast/90  G+A/90  G-PK/90  G+A-PK/90  \n",
       " 0    0      0    70     8    1.15    0.83    1.98     1.15       1.98  \n",
       " 1    4      6    50     2    1.26    0.85    2.11     1.17       2.02  \n",
       " 2    3      5    66     5    1.13    0.80    1.93     1.07       1.87  \n",
       " 3    6      9    70     3    1.13    0.78    1.91     1.00       1.78  \n",
       " 4    8      9    67     6    1.15    0.72    1.87     0.98       1.70  \n",
       " 5    9      9    79     2    1.30    0.72    2.02     1.11       1.83  \n",
       " 6    3      5    77     5    1.15    0.89    2.04     1.09       1.98  \n",
       " 7    6      8    56     2    1.41    0.96    2.37     1.28       2.24  \n",
       " 8    8      9    62     4    1.59    1.13    2.72     1.41       2.54  \n",
       " 9    5      9    49     4    1.41    0.98    2.39     1.30       2.28  \n",
       " 10   1      1    45     7    1.07    0.76    1.83     1.04       1.80  \n",
       " 11  12     14    80     7    1.67    1.09    2.76     1.41       2.50  \n",
       " 12   4      7    70     4    1.04    0.74    1.78     0.96       1.70  \n",
       " 13   3      4    67     4    0.80    0.43    1.24     0.74       1.17  \n",
       " 14   6      7    53     1    1.35    0.89    2.24     1.22       2.11  \n",
       " 15   4      5    70     4    1.20    0.87    2.07     1.11       1.98  \n",
       " 16   1      3    80     5    1.28    0.89    2.17     1.26       2.15  \n",
       " 17   7      8    80     7    0.98    0.59    1.57     0.83       1.41  \n",
       " 18   5      7    77     4    1.46    0.80    2.26     1.35       2.15  \n",
       " 19   7      8    48     5    1.46    1.04    2.50     1.30       2.35  \n",
       " 20   4      4    61     5    1.39    1.07    2.46     1.30       2.37  \n",
       " 21   5      6    77     4    1.59    1.20    2.78     1.48       2.67  \n",
       " 22   4      5    63     2    1.61    1.13    2.74     1.52       2.65  \n",
       " 23   3      3    65     4    1.37    0.87    2.24     1.30       2.17  ,\n",
       " '18_19':               Squad  # Pl   Age  Poss  MP  Starts   Min  90s  Gls  Ast  G-PK  \\\n",
       " 0              Bury    27  28.1  54.2  46     506  4140   46   82   45    77   \n",
       " 1     Cambridge Utd    27  26.5  50.0  46     506  4140   46   40   27    40   \n",
       " 2   Carlisle United    29  27.3  49.8  46     506  4140   46   67   43    63   \n",
       " 3        Cheltenham    32  27.0  50.4  46     506  4140   46   55   36    48   \n",
       " 4    Colchester Utd    28  25.0  51.0  46     506  4140   46   64   33    59   \n",
       " 5      Crawley Town    28  27.5  51.0  46     506  4140   46   49   24    43   \n",
       " 6   Crewe Alexandra    28  25.0  50.5  46     506  4140   46   58   41    54   \n",
       " 7       Exeter City    26  26.4  49.3  46     506  4140   46   60   32    56   \n",
       " 8         FG Rovers    27  24.7  54.0  46     506  4140   46   66   34    65   \n",
       " 9      Grimsby Town    31  26.2  46.7  46     506  4140   46   42   20    37   \n",
       " 10     Lincoln City    28  27.5  51.2  46     506  4140   46   69   33    60   \n",
       " 11     Macclesfield    31  26.1  48.8  46     506  4140   46   48   27    42   \n",
       " 12   Mansfield Town    28  26.0  51.6  46     506  4140   46   69   37    66   \n",
       " 13          MK Dons    29  26.1  50.7  46     506  4140   46   70   42    63   \n",
       " 14        Morecambe    31  27.0  46.7  46     506  4140   46   53   36    52   \n",
       " 15   Newport County    28  26.2  49.2  46     506  4140   46   58   38    55   \n",
       " 16      Northampton    29  26.5  49.4  46     506  4140   46   63   38    60   \n",
       " 17     Notts County    36  27.8  48.3  46     506  4140   46   47   23    40   \n",
       " 18  Oldham Athletic    32  25.1  50.2  46     506  4140   46   67   37    65   \n",
       " 19        Port Vale    28  26.9  48.6  46     506  4140   46   39   22    34   \n",
       " 20        Stevenage    30  27.1  49.1  46     506  4140   46   58   37    55   \n",
       " 21     Swindon Town    33  25.2  51.4  46     506  4140   46   58   19    50   \n",
       " 22  Tranmere Rovers    29  27.4  50.2  46     506  4140   46   62   45    60   \n",
       " 23      Yeovil Town    36  24.6  47.3  46     506  4140   46   41   25    40   \n",
       " \n",
       "     PK  PKatt  CrdY  CrdR  Gls/90  Ast/90  G+A/90  G-PK/90  G+A-PK/90  \n",
       " 0    5      6    56     2    1.78    0.98    2.76     1.67       2.65  \n",
       " 1    0      2    62     3    0.87    0.59    1.46     0.87       1.46  \n",
       " 2    4      6    61     3    1.46    0.93    2.39     1.37       2.30  \n",
       " 3    7     11    69     2    1.20    0.78    1.98     1.04       1.83  \n",
       " 4    5      6    72     3    1.39    0.72    2.11     1.28       2.00  \n",
       " 5    6      7    84     6    1.07    0.52    1.59     0.93       1.46  \n",
       " 6    4      5    68     1    1.26    0.89    2.15     1.17       2.07  \n",
       " 7    4      8    76     4    1.30    0.70    2.00     1.22       1.91  \n",
       " 8    1      2    69     3    1.43    0.74    2.17     1.41       2.15  \n",
       " 9    5      7    59     9    0.91    0.43    1.35     0.80       1.24  \n",
       " 10   9     11    66     6    1.50    0.72    2.22     1.30       2.02  \n",
       " 11   6      7    61     3    1.04    0.59    1.63     0.91       1.50  \n",
       " 12   3      4    85     4    1.50    0.80    2.30     1.43       2.24  \n",
       " 13   7     11    78     1    1.52    0.91    2.43     1.37       2.28  \n",
       " 14   1      4    69     1    1.15    0.78    1.93     1.13       1.91  \n",
       " 15   3      5    65     3    1.26    0.83    2.09     1.20       2.02  \n",
       " 16   3      3   101     2    1.37    0.83    2.20     1.30       2.13  \n",
       " 17   7      9    79     7    1.02    0.50    1.52     0.87       1.37  \n",
       " 18   2      2    71     3    1.46    0.80    2.26     1.41       2.22  \n",
       " 19   5      6    84     4    0.85    0.48    1.33     0.74       1.22  \n",
       " 20   3      4    65     9    1.26    0.80    2.07     1.20       2.00  \n",
       " 21   8      9    71     4    1.26    0.41    1.67     1.09       1.50  \n",
       " 22   2      2    75     3    1.35    0.98    2.33     1.30       2.28  \n",
       " 23   1      2    81     5    0.89    0.54    1.43     0.87       1.41  ,\n",
       " '12_13':               Squad  # Pl   Age  Poss  MP  Starts  Min  90s  Gls  Ast  G-PK  \\\n",
       " 0   Acc'ton Stanley    36  24.6   NaN  46     506  NaN  NaN   51   34    47   \n",
       " 1     AFC Wimbledon    44  25.4   NaN  46     506  NaN  NaN   53   33    47   \n",
       " 2    Aldershot Town    39  25.2   NaN  46     505  NaN  NaN   41   28    35   \n",
       " 3            Barnet    46  25.0   NaN  46     506  NaN  NaN   47   33    42   \n",
       " 4     Bradford City    28  26.7   NaN  46     506  NaN  NaN   61   41    53   \n",
       " 5    Bristol Rovers    36  24.2   NaN  46     506  NaN  NaN   58   34    53   \n",
       " 6     Burton Albion    34  25.1   NaN  46     507  NaN  NaN   70   42    66   \n",
       " 7        Cheltenham    27  26.7   NaN  46     506  NaN  NaN   57   38    53   \n",
       " 8      Chesterfield    32  25.4   NaN  46     506  NaN  NaN   56   52    55   \n",
       " 9         Dag & Red    30  23.4   NaN  46     506  NaN  NaN   55   40    47   \n",
       " 10      Exeter City    29  28.6   NaN  46     505  NaN  NaN   59   48    56   \n",
       " 11   Fleetwood Town    38  27.0   NaN  46     506  NaN  NaN   53   46    50   \n",
       " 12       Gillingham    33  26.8   NaN  46     505  NaN  NaN   65   43    58   \n",
       " 13        Morecambe    26  28.2   NaN  46     506  NaN  NaN   54   38    49   \n",
       " 14      Northampton    29  25.8   NaN  46     506  NaN  NaN   61   50    57   \n",
       " 15    Oxford United    33  26.0   NaN  46     506  NaN  NaN   59   44    53   \n",
       " 16  Plymouth Argyle    35  24.9   NaN  46     507  NaN  NaN   44   25    37   \n",
       " 17        Port Vale    28  26.6   NaN  46     506  NaN  NaN   85   61    79   \n",
       " 18         Rochdale    31  25.7   NaN  46     506  NaN  NaN   66   46    63   \n",
       " 19    Rotherham Utd    36  27.3   NaN  46     506  NaN  NaN   73   47    68   \n",
       " 20  Southend United    36  26.1   NaN  46     506  NaN  NaN   61   47    57   \n",
       " 21   Torquay United    26  25.6   NaN  46     506  NaN  NaN   53   40    48   \n",
       " 22          Wycombe    36  24.7   NaN  46     506  NaN  NaN   48   33    41   \n",
       " 23        York City    36  26.3   NaN  46     504  NaN  NaN   47   34    43   \n",
       " \n",
       "     PK  PKatt  CrdY  CrdR  Gls/90  Ast/90  G+A/90  G-PK/90  G+A-PK/90  \n",
       " 0    4      4    62     5    1.11    0.74    1.85     1.02       1.76  \n",
       " 1    6      7    58     3    1.15    0.72    1.87     1.02       1.74  \n",
       " 2    6      8    60     5    0.89    0.61    1.50     0.76       1.37  \n",
       " 3    5      6    58     5    1.02    0.72    1.74     0.91       1.63  \n",
       " 4    8      8    42     3    1.33    0.89    2.22     1.15       2.04  \n",
       " 5    5      6    70     6    1.26    0.74    2.00     1.15       1.89  \n",
       " 6    4      5    53     5    1.52    0.91    2.43     1.43       2.35  \n",
       " 7    4      4    68     1    1.24    0.83    2.07     1.15       1.98  \n",
       " 8    1      1    64     3    1.22    1.13    2.35     1.20       2.33  \n",
       " 9    8     13    50     2    1.20    0.87    2.07     1.02       1.89  \n",
       " 10   3      5    57     2    1.28    1.04    2.33     1.22       2.26  \n",
       " 11   3      5    84     7    1.15    1.00    2.15     1.09       2.09  \n",
       " 12   7      7    55     6    1.41    0.93    2.35     1.26       2.20  \n",
       " 13   5      6    54     6    1.17    0.83    2.00     1.07       1.89  \n",
       " 14   4      4    80     4    1.33    1.09    2.41     1.24       2.33  \n",
       " 15   6      8    58     4    1.28    0.96    2.24     1.15       2.11  \n",
       " 16   7      9    67     4    0.96    0.54    1.50     0.80       1.35  \n",
       " 17   6      8    79     3    1.85    1.33    3.17     1.72       3.04  \n",
       " 18   3      6    66     5    1.43    1.00    2.43     1.37       2.37  \n",
       " 19   5      5    63     7    1.59    1.02    2.61     1.48       2.50  \n",
       " 20   4      5    46     5    1.33    1.02    2.35     1.24       2.26  \n",
       " 21   5      5    64     5    1.15    0.87    2.02     1.04       1.91  \n",
       " 22   7      9    69     4    1.04    0.72    1.76     0.89       1.61  \n",
       " 23   4      4    48     0    1.02    0.74    1.76     0.93       1.67  ,\n",
       " '15_16':               Squad  # Pl   Age  Poss  MP  Starts   Min  90s  Gls  Ast  G-PK  \\\n",
       " 0   Acc'ton Stanley    28  23.9   NaN  46     506  4140   46   73   43    64   \n",
       " 1     AFC Wimbledon    29  27.0   NaN  46     506  4140   46   64   42    62   \n",
       " 2            Barnet    39  25.7   NaN  46     506  4140   46   65   41    57   \n",
       " 3    Bristol Rovers    30  26.4   NaN  46     506  4140   46   77   49    73   \n",
       " 4     Cambridge Utd    41  25.1   NaN  46     506  4140   46   66   41    62   \n",
       " 5   Carlisle United    29  25.7   NaN  46     506  4140   46   66   43    63   \n",
       " 6      Crawley Town    37  25.3   NaN  46     506  4140   46   44   24    40   \n",
       " 7         Dag & Red    38  25.0   NaN  46     506  4140   46   46   36    46   \n",
       " 8       Exeter City    26  27.7   NaN  46     506  4140   46   63   46    58   \n",
       " 9    Hartlepool Utd    36  24.4   NaN  46     506  4140   46   48   35    40   \n",
       " 10    Leyton Orient    35  26.0   NaN  46     506  4140   46   59   37    53   \n",
       " 11       Luton Town    34  26.8   NaN  46     506  4140   46   63   38    57   \n",
       " 12   Mansfield Town    26  26.5   NaN  46     506  4140   46   60   35    59   \n",
       " 13        Morecambe    27  26.7   NaN  46     506  4140   46   68   43    57   \n",
       " 14   Newport County    40  24.6   NaN  46     506  4140   46   40   29    40   \n",
       " 15      Northampton    28  26.5   NaN  46     506  4140   46   81   61    76   \n",
       " 16     Notts County    36  27.3   NaN  46     506  4140   46   52   35    48   \n",
       " 17    Oxford United    28  24.8   NaN  46     506  4140   46   83   57    76   \n",
       " 18  Plymouth Argyle    29  24.9   NaN  46     506  4140   46   71   48    69   \n",
       " 19       Portsmouth    32  26.6   NaN  46     506  4140   46   72   52    70   \n",
       " 20        Stevenage    47  26.4   NaN  46     506  4140   46   51   35    49   \n",
       " 21          Wycombe    29  25.5   NaN  46     506  4140   46   44   27    43   \n",
       " 22      Yeovil Town    36  24.8   NaN  46     506  4140   46   43   25    39   \n",
       " 23        York City    42  25.2   NaN  46     506  4140   46   51   33    48   \n",
       " \n",
       "     PK  PKatt  CrdY  CrdR  Gls/90  Ast/90  G+A/90  G-PK/90  G+A-PK/90  \n",
       " 0    9      8     0     0    1.59    0.93    2.52     1.39       2.33  \n",
       " 1    2      4     0     0    1.39    0.91    2.30     1.35       2.26  \n",
       " 2    8     10     0     0    1.41    0.89    2.30     1.24       2.13  \n",
       " 3    4      4     0     0    1.67    1.07    2.74     1.59       2.65  \n",
       " 4    4      5     0     0    1.43    0.89    2.33     1.35       2.24  \n",
       " 5    3      3     0     0    1.43    0.93    2.37     1.37       2.30  \n",
       " 6    4      4     0     0    0.96    0.52    1.48     0.87       1.39  \n",
       " 7    0      2     0     0    1.00    0.78    1.78     1.00       1.78  \n",
       " 8    5      5     0     0    1.37    1.00    2.37     1.26       2.26  \n",
       " 9    8      9     0     0    1.04    0.76    1.80     0.87       1.63  \n",
       " 10   6     11     0     0    1.28    0.80    2.09     1.15       1.96  \n",
       " 11   6      6     0     0    1.37    0.83    2.20     1.24       2.07  \n",
       " 12   1      2     0     0    1.30    0.76    2.07     1.28       2.04  \n",
       " 13  11     15     0     0    1.48    0.93    2.41     1.24       2.17  \n",
       " 14   0      1     0     0    0.87    0.63    1.50     0.87       1.50  \n",
       " 15   5      6     0     0    1.76    1.33    3.09     1.65       2.98  \n",
       " 16   4      5     0     0    1.13    0.76    1.89     1.04       1.80  \n",
       " 17   7     13     0     0    1.80    1.24    3.04     1.65       2.89  \n",
       " 18   2      2     0     0    1.54    1.04    2.59     1.50       2.54  \n",
       " 19   2      3     0     0    1.57    1.13    2.70     1.52       2.65  \n",
       " 20   2      6     0     0    1.11    0.76    1.87     1.07       1.83  \n",
       " 21   1      3     0     0    0.96    0.59    1.54     0.93       1.52  \n",
       " 22   4      6     0     0    0.93    0.54    1.48     0.85       1.39  \n",
       " 23   3      3     0     0    1.11    0.72    1.83     1.04       1.76  ,\n",
       " '19_20':               Squad  # Pl   Age  Poss  MP  Starts   Min  90s  Gls  Ast  G-PK  \\\n",
       " 0     Bradford City    33  26.7  50.2  37     407  3330   37   39   25    34   \n",
       " 1     Cambridge Utd    26  25.1  50.7  37     407  3330   37   40   25    37   \n",
       " 2   Carlisle United    29  26.2  49.1  37     407  3330   37   38   22    36   \n",
       " 3        Cheltenham    27  26.0  52.7  36     396  3240   36   51   37    47   \n",
       " 4    Colchester Utd    28  26.5  50.3  37     407  3330   37   50   36    47   \n",
       " 5      Crawley Town    26  26.3  46.2  37     407  3330   37   50   29    43   \n",
       " 6   Crewe Alexandra    24  25.3  58.3  37     407  3330   37   65   48    62   \n",
       " 7       Exeter City    25  26.4  51.5  37     407  3330   37   52   37    48   \n",
       " 8         FG Rovers    32  24.0  56.1  36     396  3240   36   41   28    37   \n",
       " 9      Grimsby Town    28  26.2  51.7  37     407  3330   37   43   33    39   \n",
       " 10    Leyton Orient    27  25.8  53.4  36     396  3240   36   43   26    38   \n",
       " 11     Macclesfield    28  24.1  45.4  37     407  3330   37   31   18    26   \n",
       " 12   Mansfield Town    28  27.0  48.4  36     396  3240   36   47   32    42   \n",
       " 13        Morecambe    29  27.2  45.3  37     407  3330   37   35   26    35   \n",
       " 14   Newport County    27  25.9  46.1  36     396  3240   36   31   22    28   \n",
       " 15      Northampton    29  27.4  46.8  37     407  3330   37   52   29    46   \n",
       " 16  Oldham Athletic    36  26.1  46.9  37     407  3330   37   44   29    44   \n",
       " 17  Plymouth Argyle    26  26.8  55.0  37     407  3330   37   59   46    54   \n",
       " 18        Port Vale    24  27.8  49.3  37     407  3330   37   47   35    43   \n",
       " 19     Salford City    37  28.0  46.4  37     407  3330   37   48   33    44   \n",
       " 20   Scunthorpe Utd    35  26.6  50.7  37     407  3330   37   43   31    41   \n",
       " 21        Stevenage    42  25.9  47.1  36     396  3240   36   24   16    23   \n",
       " 22     Swindon Town    31  26.6  53.8  36     396  3240   36   58   43    55   \n",
       " 23          Walsall    26  25.6  50.2  36     396  3240   36   39   22    37   \n",
       " \n",
       "     PK  PKatt  CrdY  CrdR  Gls/90  Ast/90  G+A/90  G-PK/90  G+A-PK/90  \n",
       " 0    5      6    67     4    1.05    0.68    1.73     0.92       1.59  \n",
       " 1    3      5    60     3    1.08    0.68    1.76     1.00       1.68  \n",
       " 2    2      2    72     3    1.03    0.59    1.62     0.97       1.57  \n",
       " 3    4      4    60     3    1.42    1.03    2.44     1.31       2.33  \n",
       " 4    3      5    59     4    1.35    0.97    2.32     1.27       2.24  \n",
       " 5    7      9    62     1    1.35    0.78    2.14     1.16       1.95  \n",
       " 6    3      3    38     3    1.76    1.30    3.05     1.68       2.97  \n",
       " 7    4      4    48     3    1.41    1.00    2.41     1.30       2.30  \n",
       " 8    4      8    62     4    1.14    0.78    1.92     1.03       1.81  \n",
       " 9    4      5    65     1    1.16    0.89    2.05     1.05       1.95  \n",
       " 10   5      7    76     3    1.19    0.72    1.92     1.06       1.78  \n",
       " 11   5      6    64     2    0.84    0.49    1.32     0.70       1.19  \n",
       " 12   5      6    64     5    1.31    0.89    2.19     1.17       2.06  \n",
       " 13   0      1    50     6    0.95    0.70    1.65     0.95       1.65  \n",
       " 14   3      5    68     2    0.86    0.61    1.47     0.78       1.39  \n",
       " 15   6      7    85     4    1.41    0.78    2.19     1.24       2.03  \n",
       " 16   0      1    61     4    1.19    0.78    1.97     1.19       1.97  \n",
       " 17   5      6    63     4    1.59    1.24    2.84     1.46       2.70  \n",
       " 18   4      4    63     4    1.27    0.95    2.22     1.16       2.11  \n",
       " 19   4      5    66     2    1.30    0.89    2.19     1.19       2.08  \n",
       " 20   2      3    70     7    1.16    0.84    2.00     1.11       1.95  \n",
       " 21   1      1    56     1    0.67    0.44    1.11     0.64       1.08  \n",
       " 22   3      3    56     2    1.61    1.19    2.81     1.53       2.72  \n",
       " 23   2      3    52     3    1.08    0.61    1.69     1.03       1.64  ,\n",
       " '14_15':               Squad  # Pl   Age  Poss  MP  Starts   Min  90s  Gls  Ast  G-PK  \\\n",
       " 0   Acc'ton Stanley    38  24.4   NaN  46     506  4140   46   58   21    54   \n",
       " 1     AFC Wimbledon    35  27.0   NaN  46     506  4140   46   52   34    50   \n",
       " 2     Burton Albion    36  26.1   NaN  46     506  4140   46   67   36    62   \n",
       " 3              Bury    33  26.3   NaN  46     506  4140   46   59   37    57   \n",
       " 4     Cambridge Utd    41  25.6   NaN  46     506  4140   46   60   39    58   \n",
       " 5   Carlisle United    39  24.3   NaN  46     506  4140   46   56   34    55   \n",
       " 6        Cheltenham    42  25.5   NaN  46     506  4140   46   37   19    35   \n",
       " 7         Dag & Red    31  25.9   NaN  46     506  4140   46   57   37    57   \n",
       " 8       Exeter City    28  26.8   NaN  46     506  4140   46   60   34    51   \n",
       " 9    Hartlepool Utd    39  25.2   NaN  46     506  4140   46   37   23    35   \n",
       " 10       Luton Town    33  26.6   NaN  46     506  4140   46   54   36    53   \n",
       " 11   Mansfield Town    40  25.6   NaN  46     506  4140   46   38   19    38   \n",
       " 12        Morecambe    28  26.5   NaN  46     506  4140   46   52   29    49   \n",
       " 13   Newport County    33  26.3   NaN  46     506  4140   46   51   29    50   \n",
       " 14      Northampton    35  27.2   NaN  46     506  4140   46   66   36    61   \n",
       " 15    Oxford United    41  25.5   NaN  46     506  4140   46   49   21    43   \n",
       " 16  Plymouth Argyle    30  24.2   NaN  46     506  4140   46   55   30    48   \n",
       " 17       Portsmouth    37  26.2   NaN  46     506  4140   46   51   30    48   \n",
       " 18       Shrewsbury    30  24.9   NaN  46     506  4140   46   67   36    63   \n",
       " 19  Southend United    28  24.6   NaN  46     506  4140   46   53   32    47   \n",
       " 20        Stevenage    37  27.3   NaN  46     506  4140   46   59   36    54   \n",
       " 21  Tranmere Rovers    46  25.4   NaN  46     506  4140   46   45   28    44   \n",
       " 22          Wycombe    24  24.8   NaN  46     506  4140   46   67   38    61   \n",
       " 23        York City    32  25.8   NaN  46     506  4140   46   46   31    44   \n",
       " \n",
       "     PK  PKatt  CrdY  CrdR  Gls/90  Ast/90  G+A/90  G-PK/90  G+A-PK/90  \n",
       " 0    4      7     0     0    1.26    0.46    1.72     1.17       1.63  \n",
       " 1    2      5     0     0    1.13    0.74    1.87     1.09       1.83  \n",
       " 2    5      7     0     0    1.46    0.78    2.24     1.35       2.13  \n",
       " 3    2      3     0     0    1.28    0.80    2.09     1.24       2.04  \n",
       " 4    2      4     0     0    1.30    0.85    2.15     1.26       2.11  \n",
       " 5    1      1     0     0    1.22    0.74    1.96     1.20       1.93  \n",
       " 6    2      2     0     0    0.80    0.41    1.22     0.76       1.17  \n",
       " 7    0      2     0     0    1.24    0.80    2.04     1.24       2.04  \n",
       " 8    9      9     0     0    1.30    0.74    2.04     1.11       1.85  \n",
       " 9    2      4     0     0    0.80    0.50    1.30     0.76       1.26  \n",
       " 10   1      4     0     0    1.17    0.78    1.96     1.15       1.93  \n",
       " 11   0      0     0     0    0.83    0.41    1.24     0.83       1.24  \n",
       " 12   3      6     0     0    1.13    0.63    1.76     1.07       1.70  \n",
       " 13   1      1     0     0    1.11    0.63    1.74     1.09       1.72  \n",
       " 14   5      7     0     0    1.43    0.78    2.22     1.33       2.11  \n",
       " 15   6      8     0     0    1.07    0.46    1.52     0.93       1.39  \n",
       " 16   7      7     0     0    1.20    0.65    1.85     1.04       1.70  \n",
       " 17   3      4     0     0    1.11    0.65    1.76     1.04       1.70  \n",
       " 18   4      4     0     0    1.46    0.78    2.24     1.37       2.15  \n",
       " 19   6      9     0     0    1.15    0.70    1.85     1.02       1.72  \n",
       " 20   5      6     0     0    1.28    0.78    2.07     1.17       1.96  \n",
       " 21   1      4     0     0    0.98    0.61    1.59     0.96       1.57  \n",
       " 22   6      7     0     0    1.46    0.83    2.28     1.33       2.15  \n",
       " 23   2      3     0     0    1.00    0.67    1.67     0.96       1.63  ,\n",
       " '17_18':               Squad  # Pl   Age  Poss  MP  Starts   Min  90s  Gls  Ast  G-PK  \\\n",
       " 0   Acc'ton Stanley    31  25.6  51.8  46     507  4140   46   74   45    65   \n",
       " 1            Barnet    37  25.7  50.4  46     506  4140   46   46   31    43   \n",
       " 2     Cambridge Utd    28  26.6  50.6  46     506  4140   46   55   37    51   \n",
       " 3   Carlisle United    26  27.9  51.4  46     506  4140   46   60   40    53   \n",
       " 4        Cheltenham    30  24.8  50.3  46     506  4140   46   67   40    66   \n",
       " 5      Chesterfield    41  25.1  50.6  46     506  4140   46   44   30    39   \n",
       " 6    Colchester Utd    34  23.6  49.3  46     506  4140   46   52   35    49   \n",
       " 7     Coventry City    29  25.2  51.2  46     506  4140   46   62   41    57   \n",
       " 8      Crawley Town    26  26.7  48.8  46     506  4140   46   55   42    49   \n",
       " 9   Crewe Alexandra    28  24.8  48.7  46     506  4140   46   61   32    59   \n",
       " 10      Exeter City    28  25.7  49.6  46     506  4140   46   63   38    57   \n",
       " 11        FG Rovers    35  25.3  51.6  46     506  4140   46   53   32    51   \n",
       " 12     Grimsby Town    31  28.4  47.5  46     506  4140   46   42   23    33   \n",
       " 13     Lincoln City    27  26.3  50.0  46     506  4140   46   62   44    57   \n",
       " 14       Luton Town    27  25.8  54.4  46     506  4140   46   92   58    85   \n",
       " 15   Mansfield Town    27  26.7  50.5  46     506  4140   46   64   36    59   \n",
       " 16        Morecambe    24  27.8  46.9  46     506  4140   46   41   26    40   \n",
       " 17   Newport County    28  26.0  50.2  46     506  4140   46   56   41    55   \n",
       " 18     Notts County    29  28.1  50.5  46     506  4140   46   69   41    64   \n",
       " 19        Port Vale    38  26.1  48.7  46     506  4140   46   48   29    44   \n",
       " 20        Stevenage    35  25.9  48.9  46     506  4140   46   59   36    56   \n",
       " 21     Swindon Town    32  26.1  50.5  46     505  4140   46   66   43    58   \n",
       " 22          Wycombe    29  28.9  51.4  46     506  4140   46   79   44    75   \n",
       " 23      Yeovil Town    30  24.5  46.2  46     506  4140   46   59   34    54   \n",
       " \n",
       "     PK  PKatt  CrdY  CrdR  Gls/90  Ast/90  G+A/90  G-PK/90  G+A-PK/90  \n",
       " 0    9     10   NaN   NaN    1.61    0.98    2.59     1.41       2.39  \n",
       " 1    3      6   NaN   NaN    1.00    0.67    1.67     0.93       1.61  \n",
       " 2    4      5   NaN   NaN    1.20    0.80    2.00     1.11       1.91  \n",
       " 3    7      8   NaN   NaN    1.30    0.87    2.17     1.15       2.02  \n",
       " 4    1      3   NaN   NaN    1.46    0.87    2.33     1.43       2.30  \n",
       " 5    5      5   NaN   NaN    0.96    0.65    1.61     0.85       1.50  \n",
       " 6    3      6   NaN   NaN    1.13    0.76    1.89     1.07       1.83  \n",
       " 7    5      5   NaN   NaN    1.35    0.89    2.24     1.24       2.13  \n",
       " 8    6      7   NaN   NaN    1.20    0.91    2.11     1.07       1.98  \n",
       " 9    2      2   NaN   NaN    1.33    0.70    2.02     1.28       1.98  \n",
       " 10   6      6   NaN   NaN    1.37    0.83    2.20     1.24       2.07  \n",
       " 11   2      3   NaN   NaN    1.15    0.70    1.85     1.11       1.80  \n",
       " 12   9     12   NaN   NaN    0.91    0.50    1.41     0.72       1.22  \n",
       " 13   5      6   NaN   NaN    1.35    0.96    2.30     1.24       2.20  \n",
       " 14   7      9   NaN   NaN    2.00    1.26    3.26     1.85       3.11  \n",
       " 15   5      7   NaN   NaN    1.39    0.78    2.17     1.28       2.07  \n",
       " 16   1      2   NaN   NaN    0.89    0.57    1.46     0.87       1.43  \n",
       " 17   1      1   NaN   NaN    1.22    0.89    2.11     1.20       2.09  \n",
       " 18   5      5   NaN   NaN    1.50    0.89    2.39     1.39       2.28  \n",
       " 19   4      5   NaN   NaN    1.04    0.63    1.67     0.96       1.59  \n",
       " 20   3      1   NaN   NaN    1.28    0.78    2.07     1.22       2.00  \n",
       " 21   8      8   NaN   NaN    1.43    0.93    2.37     1.26       2.20  \n",
       " 22   4      5   NaN   NaN    1.72    0.96    2.67     1.63       2.59  \n",
       " 23   5      6   NaN   NaN    1.28    0.74    2.02     1.17       1.91  ,\n",
       " '21_22':               Squad  # Pl   Age  Poss  MP  Starts   Min  90s  Gls  Ast  G-PK  \\\n",
       " 0            Barrow    23  26.3  50.1  17     187  1530   17   20   10    18   \n",
       " 1     Bradford City    22  27.3  46.2  17     187  1530   17   23   15    21   \n",
       " 2    Bristol Rovers    28  27.8  51.9  17     187  1530   17   21   14    20   \n",
       " 3   Carlisle United    25  25.6  46.6  17     187  1530   17   12    6    10   \n",
       " 4    Colchester Utd    22  28.6  47.5  16     176  1440   16   11    6     9   \n",
       " 5      Crawley Town    25  28.5  46.3  16     176  1440   16   18   15    18   \n",
       " 6       Exeter City    22  26.0  49.9  17     187  1530   17   27   21    27   \n",
       " 7         FG Rovers    18  25.3  54.9  16     176  1440   16   30   21    28   \n",
       " 8         Harrogate    18  28.4  51.5  17     187  1530   17   28   17    25   \n",
       " 9    Hartlepool Utd    26  26.8  51.5  17     187  1530   17   18   11    16   \n",
       " 10    Leyton Orient    19  26.0  51.2  17     187  1530   17   30   19    30   \n",
       " 11   Mansfield Town    25  27.4  49.8  17     187  1530   17   19   14    18   \n",
       " 12   Newport County    25  27.8  49.3  17     187  1530   17   28   22    27   \n",
       " 13      Northampton    20  26.0  47.5  17     187  1530   17   22   15    19   \n",
       " 14  Oldham Athletic    28  26.8  51.1  17     187  1530   17   14   13    14   \n",
       " 15        Port Vale    23  27.2  49.5  17     187  1530   17   28   19    28   \n",
       " 16         Rochdale    21  24.7  53.7  17     187  1530   17   21   18    21   \n",
       " 17     Salford City    26  28.0  54.0  17     187  1530   17   19   17    19   \n",
       " 18   Scunthorpe Utd    27  24.6  43.3  17     187  1530   17   12    6     9   \n",
       " 19        Stevenage    24  27.7  49.4  17     187  1530   17   13   12    12   \n",
       " 20    Sutton United    22  27.9  45.2  17     187  1530   17   23   13    20   \n",
       " 21     Swindon Town    22  24.7  59.9  16     176  1440   16   23   13    19   \n",
       " 22  Tranmere Rovers    22  30.0  55.3  17     187  1530   17   12    8    10   \n",
       " 23          Walsall    19  26.1  46.4  17     187  1530   17   20   11    19   \n",
       " \n",
       "     PK  PKatt  CrdY  CrdR  Gls/90  Ast/90  G+A/90  G-PK/90  G+A-PK/90  \n",
       " 0    2      4    46     2    1.18    0.59    1.76     1.06       1.65  \n",
       " 1    2      3    33     0    1.35    0.88    2.24     1.24       2.12  \n",
       " 2    1      1    38     5    1.24    0.82    2.06     1.18       2.00  \n",
       " 3    2      2    30     2    0.71    0.35    1.06     0.59       0.94  \n",
       " 4    2      2    31     3    0.69    0.37    1.06     0.56       0.94  \n",
       " 5    0      1    26     3    1.13    0.94    2.06     1.13       2.06  \n",
       " 6    0      2    27     2    1.59    1.24    2.82     1.59       2.82  \n",
       " 7    2      3    30     0    1.87    1.31    3.19     1.75       3.06  \n",
       " 8    3      3    22     1    1.65    1.00    2.65     1.47       2.47  \n",
       " 9    2      2    26     1    1.06    0.65    1.71     0.94       1.59  \n",
       " 10   0      1    40     0    1.76    1.12    2.88     1.76       2.88  \n",
       " 11   1      3    34     4    1.12    0.82    1.94     1.06       1.88  \n",
       " 12   1      2    28     2    1.65    1.29    2.94     1.59       2.88  \n",
       " 13   3      3    36     1    1.29    0.88    2.18     1.12       2.00  \n",
       " 14   0      0    32     0    0.82    0.76    1.59     0.82       1.59  \n",
       " 15   0      0    26     1    1.65    1.12    2.76     1.65       2.76  \n",
       " 16   0      0    19     0    1.24    1.06    2.29     1.24       2.29  \n",
       " 17   0      0    36     2    1.12    1.00    2.12     1.12       2.12  \n",
       " 18   3      4    34     2    0.71    0.35    1.06     0.53       0.88  \n",
       " 19   1      1    25     1    0.76    0.71    1.47     0.71       1.41  \n",
       " 20   3      3    23     1    1.35    0.76    2.12     1.18       1.94  \n",
       " 21   4      4    31     1    1.44    0.81    2.25     1.19       2.00  \n",
       " 22   2      3    35     3    0.71    0.47    1.18     0.59       1.06  \n",
       " 23   1      1    20     1    1.18    0.65    1.82     1.12       1.76  }"
      ]
     },
     "execution_count": 17,
     "metadata": {},
     "output_type": "execute_result"
    }
   ],
   "source": [
    "standard_stats"
   ]
  },
  {
   "cell_type": "code",
   "execution_count": 18,
   "id": "velvet-petite",
   "metadata": {},
   "outputs": [],
   "source": [
    "def update_standard_year():\n",
    "    for k,v in standard_stats.items():\n",
    "        v['year'] = k\n",
    "    return standard_stats"
   ]
  },
  {
   "cell_type": "code",
   "execution_count": 19,
   "id": "unlimited-above",
   "metadata": {},
   "outputs": [],
   "source": [
    "standard_stats_updated = update_standard_year()"
   ]
  },
  {
   "cell_type": "code",
   "execution_count": 20,
   "id": "public-jefferson",
   "metadata": {},
   "outputs": [],
   "source": [
    "standard_df = pd.concat([v for k,v in standard_stats_updated.items()]).reset_index(drop=True)"
   ]
  },
  {
   "cell_type": "code",
   "execution_count": 21,
   "id": "fifty-webster",
   "metadata": {},
   "outputs": [],
   "source": [
    "years_standard = dict.fromkeys(list(standard_df['year'].unique()))"
   ]
  },
  {
   "cell_type": "code",
   "execution_count": 22,
   "id": "incredible-melbourne",
   "metadata": {},
   "outputs": [],
   "source": [
    "def format_year_standard():\n",
    "    for k,v in years_standard.items():\n",
    "        years_standard[k] = '20{}'.format(k.split('_')[0])\n",
    "    return years_standard"
   ]
  },
  {
   "cell_type": "code",
   "execution_count": 23,
   "id": "adaptive-monster",
   "metadata": {},
   "outputs": [],
   "source": [
    "years_standard_updated = format_year_standard()"
   ]
  },
  {
   "cell_type": "code",
   "execution_count": 24,
   "id": "coupled-nelson",
   "metadata": {},
   "outputs": [],
   "source": [
    "standard_df['year'] = standard_df['year'].map(years_standard_updated)"
   ]
  },
  {
   "cell_type": "code",
   "execution_count": 25,
   "id": "confused-suggestion",
   "metadata": {},
   "outputs": [],
   "source": [
    "# adding points to standard_df\n",
    "standard_df = pd.merge(right=league_table_df[['Squad','year','Pts']],left=standard_df,on=['Squad','year']).sort_values(by='year')"
   ]
  },
  {
   "cell_type": "code",
   "execution_count": 26,
   "id": "impaired-ferry",
   "metadata": {},
   "outputs": [],
   "source": [
    "# standard_df = standard_df.drop(['Pts_y'],axis=1)\n",
    "standard_df = standard_df.rename(columns={'Pts_x':'Pts'})"
   ]
  },
  {
   "cell_type": "code",
   "execution_count": 27,
   "id": "romantic-electric",
   "metadata": {},
   "outputs": [],
   "source": [
    "standard_df['Pts/MP'] = round(standard_df['Pts']/standard_df['MP'],2)"
   ]
  },
  {
   "cell_type": "code",
   "execution_count": 28,
   "id": "partial-wagner",
   "metadata": {},
   "outputs": [
    {
     "data": {
      "text/html": [
       "<div>\n",
       "<style scoped>\n",
       "    .dataframe tbody tr th:only-of-type {\n",
       "        vertical-align: middle;\n",
       "    }\n",
       "\n",
       "    .dataframe tbody tr th {\n",
       "        vertical-align: top;\n",
       "    }\n",
       "\n",
       "    .dataframe thead th {\n",
       "        text-align: right;\n",
       "    }\n",
       "</style>\n",
       "<table border=\"1\" class=\"dataframe\">\n",
       "  <thead>\n",
       "    <tr style=\"text-align: right;\">\n",
       "      <th></th>\n",
       "      <th>Squad</th>\n",
       "      <th># Pl</th>\n",
       "      <th>Age</th>\n",
       "      <th>Poss</th>\n",
       "      <th>MP</th>\n",
       "      <th>Starts</th>\n",
       "      <th>Min</th>\n",
       "      <th>90s</th>\n",
       "      <th>Gls</th>\n",
       "      <th>Ast</th>\n",
       "      <th>G-PK</th>\n",
       "      <th>PK</th>\n",
       "      <th>PKatt</th>\n",
       "      <th>CrdY</th>\n",
       "      <th>CrdR</th>\n",
       "      <th>Gls/90</th>\n",
       "      <th>Ast/90</th>\n",
       "      <th>G+A/90</th>\n",
       "      <th>G-PK/90</th>\n",
       "      <th>G+A-PK/90</th>\n",
       "      <th>year</th>\n",
       "      <th>Pts</th>\n",
       "      <th>Pts/MP</th>\n",
       "    </tr>\n",
       "  </thead>\n",
       "  <tbody>\n",
       "    <tr>\n",
       "      <th>72</th>\n",
       "      <td>Acc'ton Stanley</td>\n",
       "      <td>37</td>\n",
       "      <td>24.7</td>\n",
       "      <td>NaN</td>\n",
       "      <td>46</td>\n",
       "      <td>506</td>\n",
       "      <td>NaN</td>\n",
       "      <td>NaN</td>\n",
       "      <td>53</td>\n",
       "      <td>38</td>\n",
       "      <td>53</td>\n",
       "      <td>0</td>\n",
       "      <td>0</td>\n",
       "      <td>70.0</td>\n",
       "      <td>8.0</td>\n",
       "      <td>1.15</td>\n",
       "      <td>0.83</td>\n",
       "      <td>1.98</td>\n",
       "      <td>1.15</td>\n",
       "      <td>1.98</td>\n",
       "      <td>2011</td>\n",
       "      <td>57</td>\n",
       "      <td>1.24</td>\n",
       "    </tr>\n",
       "    <tr>\n",
       "      <th>94</th>\n",
       "      <td>Swindon Town</td>\n",
       "      <td>38</td>\n",
       "      <td>24.3</td>\n",
       "      <td>NaN</td>\n",
       "      <td>46</td>\n",
       "      <td>506</td>\n",
       "      <td>NaN</td>\n",
       "      <td>NaN</td>\n",
       "      <td>74</td>\n",
       "      <td>52</td>\n",
       "      <td>70</td>\n",
       "      <td>4</td>\n",
       "      <td>5</td>\n",
       "      <td>63.0</td>\n",
       "      <td>2.0</td>\n",
       "      <td>1.61</td>\n",
       "      <td>1.13</td>\n",
       "      <td>2.74</td>\n",
       "      <td>1.52</td>\n",
       "      <td>2.65</td>\n",
       "      <td>2011</td>\n",
       "      <td>93</td>\n",
       "      <td>2.02</td>\n",
       "    </tr>\n",
       "    <tr>\n",
       "      <th>93</th>\n",
       "      <td>Southend United</td>\n",
       "      <td>33</td>\n",
       "      <td>26.2</td>\n",
       "      <td>NaN</td>\n",
       "      <td>46</td>\n",
       "      <td>506</td>\n",
       "      <td>NaN</td>\n",
       "      <td>NaN</td>\n",
       "      <td>73</td>\n",
       "      <td>55</td>\n",
       "      <td>68</td>\n",
       "      <td>5</td>\n",
       "      <td>6</td>\n",
       "      <td>77.0</td>\n",
       "      <td>4.0</td>\n",
       "      <td>1.59</td>\n",
       "      <td>1.20</td>\n",
       "      <td>2.78</td>\n",
       "      <td>1.48</td>\n",
       "      <td>2.67</td>\n",
       "      <td>2011</td>\n",
       "      <td>83</td>\n",
       "      <td>1.80</td>\n",
       "    </tr>\n",
       "    <tr>\n",
       "      <th>92</th>\n",
       "      <td>Shrewsbury</td>\n",
       "      <td>25</td>\n",
       "      <td>25.3</td>\n",
       "      <td>NaN</td>\n",
       "      <td>46</td>\n",
       "      <td>506</td>\n",
       "      <td>NaN</td>\n",
       "      <td>NaN</td>\n",
       "      <td>64</td>\n",
       "      <td>49</td>\n",
       "      <td>60</td>\n",
       "      <td>4</td>\n",
       "      <td>4</td>\n",
       "      <td>61.0</td>\n",
       "      <td>5.0</td>\n",
       "      <td>1.39</td>\n",
       "      <td>1.07</td>\n",
       "      <td>2.46</td>\n",
       "      <td>1.30</td>\n",
       "      <td>2.37</td>\n",
       "      <td>2011</td>\n",
       "      <td>88</td>\n",
       "      <td>1.91</td>\n",
       "    </tr>\n",
       "    <tr>\n",
       "      <th>91</th>\n",
       "      <td>Rotherham Utd</td>\n",
       "      <td>31</td>\n",
       "      <td>25.8</td>\n",
       "      <td>NaN</td>\n",
       "      <td>46</td>\n",
       "      <td>506</td>\n",
       "      <td>NaN</td>\n",
       "      <td>NaN</td>\n",
       "      <td>67</td>\n",
       "      <td>48</td>\n",
       "      <td>60</td>\n",
       "      <td>7</td>\n",
       "      <td>8</td>\n",
       "      <td>48.0</td>\n",
       "      <td>5.0</td>\n",
       "      <td>1.46</td>\n",
       "      <td>1.04</td>\n",
       "      <td>2.50</td>\n",
       "      <td>1.30</td>\n",
       "      <td>2.35</td>\n",
       "      <td>2011</td>\n",
       "      <td>67</td>\n",
       "      <td>1.46</td>\n",
       "    </tr>\n",
       "    <tr>\n",
       "      <th>...</th>\n",
       "      <td>...</td>\n",
       "      <td>...</td>\n",
       "      <td>...</td>\n",
       "      <td>...</td>\n",
       "      <td>...</td>\n",
       "      <td>...</td>\n",
       "      <td>...</td>\n",
       "      <td>...</td>\n",
       "      <td>...</td>\n",
       "      <td>...</td>\n",
       "      <td>...</td>\n",
       "      <td>...</td>\n",
       "      <td>...</td>\n",
       "      <td>...</td>\n",
       "      <td>...</td>\n",
       "      <td>...</td>\n",
       "      <td>...</td>\n",
       "      <td>...</td>\n",
       "      <td>...</td>\n",
       "      <td>...</td>\n",
       "      <td>...</td>\n",
       "      <td>...</td>\n",
       "      <td>...</td>\n",
       "    </tr>\n",
       "    <tr>\n",
       "      <th>243</th>\n",
       "      <td>Carlisle United</td>\n",
       "      <td>25</td>\n",
       "      <td>25.6</td>\n",
       "      <td>46.6</td>\n",
       "      <td>17</td>\n",
       "      <td>187</td>\n",
       "      <td>1530.0</td>\n",
       "      <td>17.0</td>\n",
       "      <td>12</td>\n",
       "      <td>6</td>\n",
       "      <td>10</td>\n",
       "      <td>2</td>\n",
       "      <td>2</td>\n",
       "      <td>30.0</td>\n",
       "      <td>2.0</td>\n",
       "      <td>0.71</td>\n",
       "      <td>0.35</td>\n",
       "      <td>1.06</td>\n",
       "      <td>0.59</td>\n",
       "      <td>0.94</td>\n",
       "      <td>2021</td>\n",
       "      <td>13</td>\n",
       "      <td>0.76</td>\n",
       "    </tr>\n",
       "    <tr>\n",
       "      <th>242</th>\n",
       "      <td>Bristol Rovers</td>\n",
       "      <td>28</td>\n",
       "      <td>27.8</td>\n",
       "      <td>51.9</td>\n",
       "      <td>17</td>\n",
       "      <td>187</td>\n",
       "      <td>1530.0</td>\n",
       "      <td>17.0</td>\n",
       "      <td>21</td>\n",
       "      <td>14</td>\n",
       "      <td>20</td>\n",
       "      <td>1</td>\n",
       "      <td>1</td>\n",
       "      <td>38.0</td>\n",
       "      <td>5.0</td>\n",
       "      <td>1.24</td>\n",
       "      <td>0.82</td>\n",
       "      <td>2.06</td>\n",
       "      <td>1.18</td>\n",
       "      <td>2.00</td>\n",
       "      <td>2021</td>\n",
       "      <td>22</td>\n",
       "      <td>1.29</td>\n",
       "    </tr>\n",
       "    <tr>\n",
       "      <th>241</th>\n",
       "      <td>Bradford City</td>\n",
       "      <td>22</td>\n",
       "      <td>27.3</td>\n",
       "      <td>46.2</td>\n",
       "      <td>17</td>\n",
       "      <td>187</td>\n",
       "      <td>1530.0</td>\n",
       "      <td>17.0</td>\n",
       "      <td>23</td>\n",
       "      <td>15</td>\n",
       "      <td>21</td>\n",
       "      <td>2</td>\n",
       "      <td>3</td>\n",
       "      <td>33.0</td>\n",
       "      <td>0.0</td>\n",
       "      <td>1.35</td>\n",
       "      <td>0.88</td>\n",
       "      <td>2.24</td>\n",
       "      <td>1.24</td>\n",
       "      <td>2.12</td>\n",
       "      <td>2021</td>\n",
       "      <td>23</td>\n",
       "      <td>1.35</td>\n",
       "    </tr>\n",
       "    <tr>\n",
       "      <th>251</th>\n",
       "      <td>Mansfield Town</td>\n",
       "      <td>25</td>\n",
       "      <td>27.4</td>\n",
       "      <td>49.8</td>\n",
       "      <td>17</td>\n",
       "      <td>187</td>\n",
       "      <td>1530.0</td>\n",
       "      <td>17.0</td>\n",
       "      <td>19</td>\n",
       "      <td>14</td>\n",
       "      <td>18</td>\n",
       "      <td>1</td>\n",
       "      <td>3</td>\n",
       "      <td>34.0</td>\n",
       "      <td>4.0</td>\n",
       "      <td>1.12</td>\n",
       "      <td>0.82</td>\n",
       "      <td>1.94</td>\n",
       "      <td>1.06</td>\n",
       "      <td>1.88</td>\n",
       "      <td>2021</td>\n",
       "      <td>20</td>\n",
       "      <td>1.18</td>\n",
       "    </tr>\n",
       "    <tr>\n",
       "      <th>263</th>\n",
       "      <td>Walsall</td>\n",
       "      <td>19</td>\n",
       "      <td>26.1</td>\n",
       "      <td>46.4</td>\n",
       "      <td>17</td>\n",
       "      <td>187</td>\n",
       "      <td>1530.0</td>\n",
       "      <td>17.0</td>\n",
       "      <td>20</td>\n",
       "      <td>11</td>\n",
       "      <td>19</td>\n",
       "      <td>1</td>\n",
       "      <td>1</td>\n",
       "      <td>20.0</td>\n",
       "      <td>1.0</td>\n",
       "      <td>1.18</td>\n",
       "      <td>0.65</td>\n",
       "      <td>1.82</td>\n",
       "      <td>1.12</td>\n",
       "      <td>1.76</td>\n",
       "      <td>2021</td>\n",
       "      <td>21</td>\n",
       "      <td>1.24</td>\n",
       "    </tr>\n",
       "  </tbody>\n",
       "</table>\n",
       "<p>264 rows × 23 columns</p>\n",
       "</div>"
      ],
      "text/plain": [
       "               Squad  # Pl   Age  Poss  MP  Starts     Min   90s  Gls  Ast  \\\n",
       "72   Acc'ton Stanley    37  24.7   NaN  46     506     NaN   NaN   53   38   \n",
       "94      Swindon Town    38  24.3   NaN  46     506     NaN   NaN   74   52   \n",
       "93   Southend United    33  26.2   NaN  46     506     NaN   NaN   73   55   \n",
       "92        Shrewsbury    25  25.3   NaN  46     506     NaN   NaN   64   49   \n",
       "91     Rotherham Utd    31  25.8   NaN  46     506     NaN   NaN   67   48   \n",
       "..               ...   ...   ...   ...  ..     ...     ...   ...  ...  ...   \n",
       "243  Carlisle United    25  25.6  46.6  17     187  1530.0  17.0   12    6   \n",
       "242   Bristol Rovers    28  27.8  51.9  17     187  1530.0  17.0   21   14   \n",
       "241    Bradford City    22  27.3  46.2  17     187  1530.0  17.0   23   15   \n",
       "251   Mansfield Town    25  27.4  49.8  17     187  1530.0  17.0   19   14   \n",
       "263          Walsall    19  26.1  46.4  17     187  1530.0  17.0   20   11   \n",
       "\n",
       "     G-PK  PK  PKatt  CrdY  CrdR  Gls/90  Ast/90  G+A/90  G-PK/90  G+A-PK/90  \\\n",
       "72     53   0      0  70.0   8.0    1.15    0.83    1.98     1.15       1.98   \n",
       "94     70   4      5  63.0   2.0    1.61    1.13    2.74     1.52       2.65   \n",
       "93     68   5      6  77.0   4.0    1.59    1.20    2.78     1.48       2.67   \n",
       "92     60   4      4  61.0   5.0    1.39    1.07    2.46     1.30       2.37   \n",
       "91     60   7      8  48.0   5.0    1.46    1.04    2.50     1.30       2.35   \n",
       "..    ...  ..    ...   ...   ...     ...     ...     ...      ...        ...   \n",
       "243    10   2      2  30.0   2.0    0.71    0.35    1.06     0.59       0.94   \n",
       "242    20   1      1  38.0   5.0    1.24    0.82    2.06     1.18       2.00   \n",
       "241    21   2      3  33.0   0.0    1.35    0.88    2.24     1.24       2.12   \n",
       "251    18   1      3  34.0   4.0    1.12    0.82    1.94     1.06       1.88   \n",
       "263    19   1      1  20.0   1.0    1.18    0.65    1.82     1.12       1.76   \n",
       "\n",
       "     year  Pts  Pts/MP  \n",
       "72   2011   57    1.24  \n",
       "94   2011   93    2.02  \n",
       "93   2011   83    1.80  \n",
       "92   2011   88    1.91  \n",
       "91   2011   67    1.46  \n",
       "..    ...  ...     ...  \n",
       "243  2021   13    0.76  \n",
       "242  2021   22    1.29  \n",
       "241  2021   23    1.35  \n",
       "251  2021   20    1.18  \n",
       "263  2021   21    1.24  \n",
       "\n",
       "[264 rows x 23 columns]"
      ]
     },
     "execution_count": 28,
     "metadata": {},
     "output_type": "execute_result"
    }
   ],
   "source": [
    "standard_df"
   ]
  },
  {
   "cell_type": "code",
   "execution_count": 29,
   "id": "arranged-fifty",
   "metadata": {},
   "outputs": [
    {
     "data": {
      "text/html": [
       "<div>\n",
       "<style scoped>\n",
       "    .dataframe tbody tr th:only-of-type {\n",
       "        vertical-align: middle;\n",
       "    }\n",
       "\n",
       "    .dataframe tbody tr th {\n",
       "        vertical-align: top;\n",
       "    }\n",
       "\n",
       "    .dataframe thead th {\n",
       "        text-align: right;\n",
       "    }\n",
       "</style>\n",
       "<table border=\"1\" class=\"dataframe\">\n",
       "  <thead>\n",
       "    <tr style=\"text-align: right;\">\n",
       "      <th></th>\n",
       "      <th>Rk</th>\n",
       "      <th>Squad</th>\n",
       "      <th>MP</th>\n",
       "      <th>W</th>\n",
       "      <th>D</th>\n",
       "      <th>L</th>\n",
       "      <th>GF</th>\n",
       "      <th>GA</th>\n",
       "      <th>GD</th>\n",
       "      <th>Pts</th>\n",
       "      <th>Attendance</th>\n",
       "      <th>Top Team Scorer</th>\n",
       "      <th>Goalkeeper</th>\n",
       "      <th>Notes</th>\n",
       "      <th>year</th>\n",
       "      <th>Pts/G</th>\n",
       "      <th>Last 5</th>\n",
       "      <th>GD/MP</th>\n",
       "    </tr>\n",
       "  </thead>\n",
       "  <tbody>\n",
       "    <tr>\n",
       "      <th>0</th>\n",
       "      <td>1</td>\n",
       "      <td>Chesterfield</td>\n",
       "      <td>46</td>\n",
       "      <td>23</td>\n",
       "      <td>15</td>\n",
       "      <td>8</td>\n",
       "      <td>71</td>\n",
       "      <td>40</td>\n",
       "      <td>31</td>\n",
       "      <td>84</td>\n",
       "      <td>6279.0</td>\n",
       "      <td>Eoin Doyle Gary Roberts - 11</td>\n",
       "      <td>Tommy Lee</td>\n",
       "      <td>Promoted</td>\n",
       "      <td>2013</td>\n",
       "      <td>NaN</td>\n",
       "      <td>NaN</td>\n",
       "      <td>0.67</td>\n",
       "    </tr>\n",
       "    <tr>\n",
       "      <th>1</th>\n",
       "      <td>2</td>\n",
       "      <td>Scunthorpe Utd</td>\n",
       "      <td>46</td>\n",
       "      <td>20</td>\n",
       "      <td>21</td>\n",
       "      <td>5</td>\n",
       "      <td>68</td>\n",
       "      <td>44</td>\n",
       "      <td>24</td>\n",
       "      <td>81</td>\n",
       "      <td>4013.0</td>\n",
       "      <td>Sam Winnall - 23</td>\n",
       "      <td>Sam Slocombe</td>\n",
       "      <td>Promoted</td>\n",
       "      <td>2013</td>\n",
       "      <td>NaN</td>\n",
       "      <td>NaN</td>\n",
       "      <td>0.52</td>\n",
       "    </tr>\n",
       "    <tr>\n",
       "      <th>2</th>\n",
       "      <td>3</td>\n",
       "      <td>Rochdale</td>\n",
       "      <td>46</td>\n",
       "      <td>24</td>\n",
       "      <td>9</td>\n",
       "      <td>13</td>\n",
       "      <td>69</td>\n",
       "      <td>48</td>\n",
       "      <td>21</td>\n",
       "      <td>81</td>\n",
       "      <td>2900.0</td>\n",
       "      <td>Scott Hogan - 17</td>\n",
       "      <td>Josh Lillis</td>\n",
       "      <td>Promoted</td>\n",
       "      <td>2013</td>\n",
       "      <td>NaN</td>\n",
       "      <td>NaN</td>\n",
       "      <td>0.46</td>\n",
       "    </tr>\n",
       "    <tr>\n",
       "      <th>3</th>\n",
       "      <td>4</td>\n",
       "      <td>Fleetwood Town</td>\n",
       "      <td>46</td>\n",
       "      <td>22</td>\n",
       "      <td>10</td>\n",
       "      <td>14</td>\n",
       "      <td>66</td>\n",
       "      <td>52</td>\n",
       "      <td>14</td>\n",
       "      <td>76</td>\n",
       "      <td>2819.0</td>\n",
       "      <td>Antoni Sarcevic - 13</td>\n",
       "      <td>Scott Davies</td>\n",
       "      <td>Promoted → Semi-finals</td>\n",
       "      <td>2013</td>\n",
       "      <td>NaN</td>\n",
       "      <td>NaN</td>\n",
       "      <td>0.30</td>\n",
       "    </tr>\n",
       "    <tr>\n",
       "      <th>4</th>\n",
       "      <td>5</td>\n",
       "      <td>Southend United</td>\n",
       "      <td>46</td>\n",
       "      <td>19</td>\n",
       "      <td>15</td>\n",
       "      <td>12</td>\n",
       "      <td>56</td>\n",
       "      <td>39</td>\n",
       "      <td>17</td>\n",
       "      <td>72</td>\n",
       "      <td>5960.0</td>\n",
       "      <td>Barry Corr - 12</td>\n",
       "      <td>Daniel Bentley</td>\n",
       "      <td>→ Semi-finals</td>\n",
       "      <td>2013</td>\n",
       "      <td>NaN</td>\n",
       "      <td>NaN</td>\n",
       "      <td>0.37</td>\n",
       "    </tr>\n",
       "    <tr>\n",
       "      <th>...</th>\n",
       "      <td>...</td>\n",
       "      <td>...</td>\n",
       "      <td>...</td>\n",
       "      <td>...</td>\n",
       "      <td>...</td>\n",
       "      <td>...</td>\n",
       "      <td>...</td>\n",
       "      <td>...</td>\n",
       "      <td>...</td>\n",
       "      <td>...</td>\n",
       "      <td>...</td>\n",
       "      <td>...</td>\n",
       "      <td>...</td>\n",
       "      <td>...</td>\n",
       "      <td>...</td>\n",
       "      <td>...</td>\n",
       "      <td>...</td>\n",
       "      <td>...</td>\n",
       "    </tr>\n",
       "    <tr>\n",
       "      <th>259</th>\n",
       "      <td>20</td>\n",
       "      <td>Colchester Utd</td>\n",
       "      <td>16</td>\n",
       "      <td>4</td>\n",
       "      <td>5</td>\n",
       "      <td>7</td>\n",
       "      <td>12</td>\n",
       "      <td>20</td>\n",
       "      <td>-8</td>\n",
       "      <td>17</td>\n",
       "      <td>2536.0</td>\n",
       "      <td>Freddie Sears - 5</td>\n",
       "      <td>Shamal George</td>\n",
       "      <td>NaN</td>\n",
       "      <td>2021</td>\n",
       "      <td>NaN</td>\n",
       "      <td>D L L W L</td>\n",
       "      <td>-0.50</td>\n",
       "    </tr>\n",
       "    <tr>\n",
       "      <th>260</th>\n",
       "      <td>21</td>\n",
       "      <td>Stevenage</td>\n",
       "      <td>17</td>\n",
       "      <td>4</td>\n",
       "      <td>5</td>\n",
       "      <td>8</td>\n",
       "      <td>13</td>\n",
       "      <td>28</td>\n",
       "      <td>-15</td>\n",
       "      <td>17</td>\n",
       "      <td>3024.0</td>\n",
       "      <td>Elliott List - 6</td>\n",
       "      <td>Joseph Anang</td>\n",
       "      <td>NaN</td>\n",
       "      <td>2021</td>\n",
       "      <td>NaN</td>\n",
       "      <td>L D L L W</td>\n",
       "      <td>-0.88</td>\n",
       "    </tr>\n",
       "    <tr>\n",
       "      <th>261</th>\n",
       "      <td>22</td>\n",
       "      <td>Oldham Athletic</td>\n",
       "      <td>17</td>\n",
       "      <td>4</td>\n",
       "      <td>3</td>\n",
       "      <td>10</td>\n",
       "      <td>15</td>\n",
       "      <td>26</td>\n",
       "      <td>-11</td>\n",
       "      <td>15</td>\n",
       "      <td>4100.0</td>\n",
       "      <td>Davis Keillor-Dunn - 4</td>\n",
       "      <td>Jayson Leutwiler</td>\n",
       "      <td>NaN</td>\n",
       "      <td>2021</td>\n",
       "      <td>NaN</td>\n",
       "      <td>L D L L W</td>\n",
       "      <td>-0.65</td>\n",
       "    </tr>\n",
       "    <tr>\n",
       "      <th>262</th>\n",
       "      <td>23</td>\n",
       "      <td>Carlisle United</td>\n",
       "      <td>17</td>\n",
       "      <td>2</td>\n",
       "      <td>7</td>\n",
       "      <td>8</td>\n",
       "      <td>12</td>\n",
       "      <td>26</td>\n",
       "      <td>-14</td>\n",
       "      <td>13</td>\n",
       "      <td>5086.0</td>\n",
       "      <td>Zach Clough Tristan Abrahams... - 2</td>\n",
       "      <td>Magnus Norman</td>\n",
       "      <td>NaN</td>\n",
       "      <td>2021</td>\n",
       "      <td>NaN</td>\n",
       "      <td>D D L D L</td>\n",
       "      <td>-0.82</td>\n",
       "    </tr>\n",
       "    <tr>\n",
       "      <th>263</th>\n",
       "      <td>24</td>\n",
       "      <td>Scunthorpe Utd</td>\n",
       "      <td>17</td>\n",
       "      <td>2</td>\n",
       "      <td>6</td>\n",
       "      <td>9</td>\n",
       "      <td>13</td>\n",
       "      <td>33</td>\n",
       "      <td>-20</td>\n",
       "      <td>12</td>\n",
       "      <td>2574.0</td>\n",
       "      <td>Myles Hippolyte Jake Scrimshaw... - 2</td>\n",
       "      <td>Rory Watson</td>\n",
       "      <td>NaN</td>\n",
       "      <td>2021</td>\n",
       "      <td>NaN</td>\n",
       "      <td>D W L D L</td>\n",
       "      <td>-1.18</td>\n",
       "    </tr>\n",
       "  </tbody>\n",
       "</table>\n",
       "<p>264 rows × 18 columns</p>\n",
       "</div>"
      ],
      "text/plain": [
       "     Rk            Squad  MP   W   D   L  GF  GA  GD  Pts  Attendance  \\\n",
       "0     1     Chesterfield  46  23  15   8  71  40  31   84      6279.0   \n",
       "1     2   Scunthorpe Utd  46  20  21   5  68  44  24   81      4013.0   \n",
       "2     3         Rochdale  46  24   9  13  69  48  21   81      2900.0   \n",
       "3     4   Fleetwood Town  46  22  10  14  66  52  14   76      2819.0   \n",
       "4     5  Southend United  46  19  15  12  56  39  17   72      5960.0   \n",
       "..   ..              ...  ..  ..  ..  ..  ..  ..  ..  ...         ...   \n",
       "259  20   Colchester Utd  16   4   5   7  12  20  -8   17      2536.0   \n",
       "260  21        Stevenage  17   4   5   8  13  28 -15   17      3024.0   \n",
       "261  22  Oldham Athletic  17   4   3  10  15  26 -11   15      4100.0   \n",
       "262  23  Carlisle United  17   2   7   8  12  26 -14   13      5086.0   \n",
       "263  24   Scunthorpe Utd  17   2   6   9  13  33 -20   12      2574.0   \n",
       "\n",
       "                           Top Team Scorer        Goalkeeper  \\\n",
       "0             Eoin Doyle Gary Roberts - 11         Tommy Lee   \n",
       "1                         Sam Winnall - 23      Sam Slocombe   \n",
       "2                         Scott Hogan - 17       Josh Lillis   \n",
       "3                     Antoni Sarcevic - 13      Scott Davies   \n",
       "4                          Barry Corr - 12    Daniel Bentley   \n",
       "..                                     ...               ...   \n",
       "259                      Freddie Sears - 5     Shamal George   \n",
       "260                       Elliott List - 6      Joseph Anang   \n",
       "261                 Davis Keillor-Dunn - 4  Jayson Leutwiler   \n",
       "262    Zach Clough Tristan Abrahams... - 2     Magnus Norman   \n",
       "263  Myles Hippolyte Jake Scrimshaw... - 2       Rory Watson   \n",
       "\n",
       "                      Notes  year  Pts/G     Last 5  GD/MP  \n",
       "0                  Promoted  2013    NaN        NaN   0.67  \n",
       "1                  Promoted  2013    NaN        NaN   0.52  \n",
       "2                  Promoted  2013    NaN        NaN   0.46  \n",
       "3    Promoted → Semi-finals  2013    NaN        NaN   0.30  \n",
       "4             → Semi-finals  2013    NaN        NaN   0.37  \n",
       "..                      ...   ...    ...        ...    ...  \n",
       "259                     NaN  2021    NaN  D L L W L  -0.50  \n",
       "260                     NaN  2021    NaN  L D L L W  -0.88  \n",
       "261                     NaN  2021    NaN  L D L L W  -0.65  \n",
       "262                     NaN  2021    NaN  D D L D L  -0.82  \n",
       "263                     NaN  2021    NaN  D W L D L  -1.18  \n",
       "\n",
       "[264 rows x 18 columns]"
      ]
     },
     "execution_count": 29,
     "metadata": {},
     "output_type": "execute_result"
    }
   ],
   "source": [
    "league_table_df"
   ]
  },
  {
   "cell_type": "code",
   "execution_count": 30,
   "id": "approved-mileage",
   "metadata": {},
   "outputs": [],
   "source": [
    "# importing shooting stats\n",
    "shooting = {}\n",
    "\n",
    "for file in os.listdir():\n",
    "    name = file.split('.')[0]\n",
    "    table = pd.read_excel(file,sheet_name='shooting')\n",
    "    shooting.update({name:table})"
   ]
  },
  {
   "cell_type": "code",
   "execution_count": 31,
   "id": "coral-allergy",
   "metadata": {},
   "outputs": [],
   "source": [
    "# adding year column to each dataframe and populating with key\n",
    "def update_shooting_year():\n",
    "    for k,v in shooting.items():\n",
    "        v['year'] = k\n",
    "    return shooting"
   ]
  },
  {
   "cell_type": "code",
   "execution_count": 32,
   "id": "color-cedar",
   "metadata": {},
   "outputs": [],
   "source": [
    "shooting_updated = update_shooting_year()"
   ]
  },
  {
   "cell_type": "code",
   "execution_count": 33,
   "id": "useful-brazilian",
   "metadata": {},
   "outputs": [],
   "source": [
    "shooting_df = pd.concat([v for k,v in shooting_updated.items()]).reset_index(drop=True)"
   ]
  },
  {
   "cell_type": "code",
   "execution_count": 34,
   "id": "royal-circulation",
   "metadata": {},
   "outputs": [],
   "source": [
    "years_shooting = dict.fromkeys(list(shooting_df['year'].unique()))"
   ]
  },
  {
   "cell_type": "code",
   "execution_count": 35,
   "id": "municipal-resource",
   "metadata": {},
   "outputs": [],
   "source": [
    "def format_year_shooting():\n",
    "    for k,v in years_shooting.items():\n",
    "        years_shooting[k] = '20{}'.format(k.split('_')[0])\n",
    "    return years_shooting"
   ]
  },
  {
   "cell_type": "code",
   "execution_count": 36,
   "id": "intended-collector",
   "metadata": {},
   "outputs": [],
   "source": [
    "years_shooting_updated = format_year_shooting()"
   ]
  },
  {
   "cell_type": "code",
   "execution_count": 37,
   "id": "paperback-nurse",
   "metadata": {},
   "outputs": [],
   "source": [
    "shooting_df['year'] = shooting_df['year'].map(years_shooting_updated)"
   ]
  },
  {
   "cell_type": "code",
   "execution_count": 38,
   "id": "consolidated-equivalent",
   "metadata": {},
   "outputs": [
    {
     "data": {
      "text/html": [
       "<div>\n",
       "<style scoped>\n",
       "    .dataframe tbody tr th:only-of-type {\n",
       "        vertical-align: middle;\n",
       "    }\n",
       "\n",
       "    .dataframe tbody tr th {\n",
       "        vertical-align: top;\n",
       "    }\n",
       "\n",
       "    .dataframe thead th {\n",
       "        text-align: right;\n",
       "    }\n",
       "</style>\n",
       "<table border=\"1\" class=\"dataframe\">\n",
       "  <thead>\n",
       "    <tr style=\"text-align: right;\">\n",
       "      <th></th>\n",
       "      <th>Squad</th>\n",
       "      <th># Pl</th>\n",
       "      <th>90s</th>\n",
       "      <th>Gls</th>\n",
       "      <th>Sh</th>\n",
       "      <th>SoT</th>\n",
       "      <th>SoT%</th>\n",
       "      <th>Sh/90</th>\n",
       "      <th>SoT/90</th>\n",
       "      <th>G/Sh</th>\n",
       "      <th>G/SoT</th>\n",
       "      <th>Dist</th>\n",
       "      <th>PK</th>\n",
       "      <th>PKatt</th>\n",
       "      <th>year</th>\n",
       "    </tr>\n",
       "  </thead>\n",
       "  <tbody>\n",
       "    <tr>\n",
       "      <th>0</th>\n",
       "      <td>Acc'ton Stanley</td>\n",
       "      <td>29.0</td>\n",
       "      <td>NaN</td>\n",
       "      <td>53.0</td>\n",
       "      <td>NaN</td>\n",
       "      <td>182.0</td>\n",
       "      <td>NaN</td>\n",
       "      <td>NaN</td>\n",
       "      <td>3.96</td>\n",
       "      <td>NaN</td>\n",
       "      <td>0.27</td>\n",
       "      <td>NaN</td>\n",
       "      <td>4.0</td>\n",
       "      <td>5.0</td>\n",
       "      <td>2013</td>\n",
       "    </tr>\n",
       "    <tr>\n",
       "      <th>1</th>\n",
       "      <td>AFC Wimbledon</td>\n",
       "      <td>30.0</td>\n",
       "      <td>NaN</td>\n",
       "      <td>49.0</td>\n",
       "      <td>NaN</td>\n",
       "      <td>184.0</td>\n",
       "      <td>NaN</td>\n",
       "      <td>NaN</td>\n",
       "      <td>4.00</td>\n",
       "      <td>NaN</td>\n",
       "      <td>0.24</td>\n",
       "      <td>NaN</td>\n",
       "      <td>5.0</td>\n",
       "      <td>7.0</td>\n",
       "      <td>2013</td>\n",
       "    </tr>\n",
       "    <tr>\n",
       "      <th>2</th>\n",
       "      <td>Bristol Rovers</td>\n",
       "      <td>30.0</td>\n",
       "      <td>NaN</td>\n",
       "      <td>43.0</td>\n",
       "      <td>NaN</td>\n",
       "      <td>175.0</td>\n",
       "      <td>NaN</td>\n",
       "      <td>NaN</td>\n",
       "      <td>3.80</td>\n",
       "      <td>NaN</td>\n",
       "      <td>0.22</td>\n",
       "      <td>NaN</td>\n",
       "      <td>4.0</td>\n",
       "      <td>5.0</td>\n",
       "      <td>2013</td>\n",
       "    </tr>\n",
       "    <tr>\n",
       "      <th>3</th>\n",
       "      <td>Burton Albion</td>\n",
       "      <td>29.0</td>\n",
       "      <td>NaN</td>\n",
       "      <td>44.0</td>\n",
       "      <td>NaN</td>\n",
       "      <td>221.0</td>\n",
       "      <td>NaN</td>\n",
       "      <td>NaN</td>\n",
       "      <td>4.80</td>\n",
       "      <td>NaN</td>\n",
       "      <td>0.18</td>\n",
       "      <td>NaN</td>\n",
       "      <td>5.0</td>\n",
       "      <td>6.0</td>\n",
       "      <td>2013</td>\n",
       "    </tr>\n",
       "    <tr>\n",
       "      <th>4</th>\n",
       "      <td>Bury</td>\n",
       "      <td>46.0</td>\n",
       "      <td>NaN</td>\n",
       "      <td>59.0</td>\n",
       "      <td>NaN</td>\n",
       "      <td>205.0</td>\n",
       "      <td>NaN</td>\n",
       "      <td>NaN</td>\n",
       "      <td>4.46</td>\n",
       "      <td>NaN</td>\n",
       "      <td>0.27</td>\n",
       "      <td>NaN</td>\n",
       "      <td>4.0</td>\n",
       "      <td>4.0</td>\n",
       "      <td>2013</td>\n",
       "    </tr>\n",
       "    <tr>\n",
       "      <th>...</th>\n",
       "      <td>...</td>\n",
       "      <td>...</td>\n",
       "      <td>...</td>\n",
       "      <td>...</td>\n",
       "      <td>...</td>\n",
       "      <td>...</td>\n",
       "      <td>...</td>\n",
       "      <td>...</td>\n",
       "      <td>...</td>\n",
       "      <td>...</td>\n",
       "      <td>...</td>\n",
       "      <td>...</td>\n",
       "      <td>...</td>\n",
       "      <td>...</td>\n",
       "      <td>...</td>\n",
       "    </tr>\n",
       "    <tr>\n",
       "      <th>235</th>\n",
       "      <td>Stevenage</td>\n",
       "      <td>24.0</td>\n",
       "      <td>17.0</td>\n",
       "      <td>13.0</td>\n",
       "      <td>169.0</td>\n",
       "      <td>58.0</td>\n",
       "      <td>34.3</td>\n",
       "      <td>9.94</td>\n",
       "      <td>3.41</td>\n",
       "      <td>0.07</td>\n",
       "      <td>0.21</td>\n",
       "      <td>NaN</td>\n",
       "      <td>1.0</td>\n",
       "      <td>1.0</td>\n",
       "      <td>2021</td>\n",
       "    </tr>\n",
       "    <tr>\n",
       "      <th>236</th>\n",
       "      <td>Sutton United</td>\n",
       "      <td>22.0</td>\n",
       "      <td>17.0</td>\n",
       "      <td>23.0</td>\n",
       "      <td>238.0</td>\n",
       "      <td>75.0</td>\n",
       "      <td>31.5</td>\n",
       "      <td>14.00</td>\n",
       "      <td>4.41</td>\n",
       "      <td>0.08</td>\n",
       "      <td>0.27</td>\n",
       "      <td>NaN</td>\n",
       "      <td>3.0</td>\n",
       "      <td>3.0</td>\n",
       "      <td>2021</td>\n",
       "    </tr>\n",
       "    <tr>\n",
       "      <th>237</th>\n",
       "      <td>Swindon Town</td>\n",
       "      <td>22.0</td>\n",
       "      <td>16.0</td>\n",
       "      <td>23.0</td>\n",
       "      <td>211.0</td>\n",
       "      <td>87.0</td>\n",
       "      <td>41.2</td>\n",
       "      <td>13.19</td>\n",
       "      <td>5.44</td>\n",
       "      <td>0.09</td>\n",
       "      <td>0.22</td>\n",
       "      <td>NaN</td>\n",
       "      <td>4.0</td>\n",
       "      <td>4.0</td>\n",
       "      <td>2021</td>\n",
       "    </tr>\n",
       "    <tr>\n",
       "      <th>238</th>\n",
       "      <td>Tranmere Rovers</td>\n",
       "      <td>22.0</td>\n",
       "      <td>17.0</td>\n",
       "      <td>12.0</td>\n",
       "      <td>190.0</td>\n",
       "      <td>52.0</td>\n",
       "      <td>27.4</td>\n",
       "      <td>11.18</td>\n",
       "      <td>3.06</td>\n",
       "      <td>0.05</td>\n",
       "      <td>0.19</td>\n",
       "      <td>NaN</td>\n",
       "      <td>2.0</td>\n",
       "      <td>3.0</td>\n",
       "      <td>2021</td>\n",
       "    </tr>\n",
       "    <tr>\n",
       "      <th>239</th>\n",
       "      <td>Walsall</td>\n",
       "      <td>19.0</td>\n",
       "      <td>17.0</td>\n",
       "      <td>20.0</td>\n",
       "      <td>197.0</td>\n",
       "      <td>61.0</td>\n",
       "      <td>31.0</td>\n",
       "      <td>11.59</td>\n",
       "      <td>3.59</td>\n",
       "      <td>0.10</td>\n",
       "      <td>0.31</td>\n",
       "      <td>NaN</td>\n",
       "      <td>1.0</td>\n",
       "      <td>1.0</td>\n",
       "      <td>2021</td>\n",
       "    </tr>\n",
       "  </tbody>\n",
       "</table>\n",
       "<p>240 rows × 15 columns</p>\n",
       "</div>"
      ],
      "text/plain": [
       "               Squad  # Pl   90s   Gls     Sh    SoT  SoT%  Sh/90  SoT/90  \\\n",
       "0    Acc'ton Stanley  29.0   NaN  53.0    NaN  182.0   NaN    NaN    3.96   \n",
       "1      AFC Wimbledon  30.0   NaN  49.0    NaN  184.0   NaN    NaN    4.00   \n",
       "2     Bristol Rovers  30.0   NaN  43.0    NaN  175.0   NaN    NaN    3.80   \n",
       "3      Burton Albion  29.0   NaN  44.0    NaN  221.0   NaN    NaN    4.80   \n",
       "4               Bury  46.0   NaN  59.0    NaN  205.0   NaN    NaN    4.46   \n",
       "..               ...   ...   ...   ...    ...    ...   ...    ...     ...   \n",
       "235        Stevenage  24.0  17.0  13.0  169.0   58.0  34.3   9.94    3.41   \n",
       "236    Sutton United  22.0  17.0  23.0  238.0   75.0  31.5  14.00    4.41   \n",
       "237     Swindon Town  22.0  16.0  23.0  211.0   87.0  41.2  13.19    5.44   \n",
       "238  Tranmere Rovers  22.0  17.0  12.0  190.0   52.0  27.4  11.18    3.06   \n",
       "239          Walsall  19.0  17.0  20.0  197.0   61.0  31.0  11.59    3.59   \n",
       "\n",
       "     G/Sh  G/SoT  Dist   PK  PKatt  year  \n",
       "0     NaN   0.27   NaN  4.0    5.0  2013  \n",
       "1     NaN   0.24   NaN  5.0    7.0  2013  \n",
       "2     NaN   0.22   NaN  4.0    5.0  2013  \n",
       "3     NaN   0.18   NaN  5.0    6.0  2013  \n",
       "4     NaN   0.27   NaN  4.0    4.0  2013  \n",
       "..    ...    ...   ...  ...    ...   ...  \n",
       "235  0.07   0.21   NaN  1.0    1.0  2021  \n",
       "236  0.08   0.27   NaN  3.0    3.0  2021  \n",
       "237  0.09   0.22   NaN  4.0    4.0  2021  \n",
       "238  0.05   0.19   NaN  2.0    3.0  2021  \n",
       "239  0.10   0.31   NaN  1.0    1.0  2021  \n",
       "\n",
       "[240 rows x 15 columns]"
      ]
     },
     "execution_count": 38,
     "metadata": {},
     "output_type": "execute_result"
    }
   ],
   "source": [
    "shooting_df"
   ]
  },
  {
   "cell_type": "code",
   "execution_count": 39,
   "id": "documented-protest",
   "metadata": {},
   "outputs": [
    {
     "name": "stdout",
     "output_type": "stream",
     "text": [
      "<class 'pandas.core.frame.DataFrame'>\n",
      "RangeIndex: 240 entries, 0 to 239\n",
      "Data columns (total 15 columns):\n",
      " #   Column  Non-Null Count  Dtype  \n",
      "---  ------  --------------  -----  \n",
      " 0   Squad   240 non-null    object \n",
      " 1   # Pl    240 non-null    float64\n",
      " 2   90s     168 non-null    float64\n",
      " 3   Gls     240 non-null    float64\n",
      " 4   Sh      120 non-null    float64\n",
      " 5   SoT     240 non-null    float64\n",
      " 6   SoT%    72 non-null     float64\n",
      " 7   Sh/90   120 non-null    float64\n",
      " 8   SoT/90  240 non-null    float64\n",
      " 9   G/Sh    72 non-null     float64\n",
      " 10  G/SoT   240 non-null    float64\n",
      " 11  Dist    0 non-null      float64\n",
      " 12  PK      240 non-null    float64\n",
      " 13  PKatt   240 non-null    float64\n",
      " 14  year    240 non-null    object \n",
      "dtypes: float64(13), object(2)\n",
      "memory usage: 28.2+ KB\n"
     ]
    }
   ],
   "source": [
    "shooting_df.info()"
   ]
  },
  {
   "cell_type": "code",
   "execution_count": 40,
   "id": "absent-harrison",
   "metadata": {},
   "outputs": [],
   "source": [
    "# proxy for goals per 90\n",
    "shooting_df['G/90'] = round(shooting_df['SoT/90']*shooting_df['G/SoT'],2)"
   ]
  },
  {
   "cell_type": "code",
   "execution_count": 41,
   "id": "august-welcome",
   "metadata": {},
   "outputs": [
    {
     "data": {
      "text/html": [
       "<div>\n",
       "<style scoped>\n",
       "    .dataframe tbody tr th:only-of-type {\n",
       "        vertical-align: middle;\n",
       "    }\n",
       "\n",
       "    .dataframe tbody tr th {\n",
       "        vertical-align: top;\n",
       "    }\n",
       "\n",
       "    .dataframe thead th {\n",
       "        text-align: right;\n",
       "    }\n",
       "</style>\n",
       "<table border=\"1\" class=\"dataframe\">\n",
       "  <thead>\n",
       "    <tr style=\"text-align: right;\">\n",
       "      <th></th>\n",
       "      <th>Squad</th>\n",
       "      <th># Pl</th>\n",
       "      <th>90s</th>\n",
       "      <th>Gls</th>\n",
       "      <th>Sh</th>\n",
       "      <th>SoT</th>\n",
       "      <th>SoT%</th>\n",
       "      <th>Sh/90</th>\n",
       "      <th>SoT/90</th>\n",
       "      <th>G/Sh</th>\n",
       "      <th>G/SoT</th>\n",
       "      <th>Dist</th>\n",
       "      <th>PK</th>\n",
       "      <th>PKatt</th>\n",
       "      <th>year</th>\n",
       "      <th>G/90</th>\n",
       "    </tr>\n",
       "  </thead>\n",
       "  <tbody>\n",
       "    <tr>\n",
       "      <th>0</th>\n",
       "      <td>Acc'ton Stanley</td>\n",
       "      <td>29.0</td>\n",
       "      <td>NaN</td>\n",
       "      <td>53.0</td>\n",
       "      <td>NaN</td>\n",
       "      <td>182.0</td>\n",
       "      <td>NaN</td>\n",
       "      <td>NaN</td>\n",
       "      <td>3.96</td>\n",
       "      <td>NaN</td>\n",
       "      <td>0.27</td>\n",
       "      <td>NaN</td>\n",
       "      <td>4.0</td>\n",
       "      <td>5.0</td>\n",
       "      <td>2013</td>\n",
       "      <td>1.07</td>\n",
       "    </tr>\n",
       "    <tr>\n",
       "      <th>1</th>\n",
       "      <td>AFC Wimbledon</td>\n",
       "      <td>30.0</td>\n",
       "      <td>NaN</td>\n",
       "      <td>49.0</td>\n",
       "      <td>NaN</td>\n",
       "      <td>184.0</td>\n",
       "      <td>NaN</td>\n",
       "      <td>NaN</td>\n",
       "      <td>4.00</td>\n",
       "      <td>NaN</td>\n",
       "      <td>0.24</td>\n",
       "      <td>NaN</td>\n",
       "      <td>5.0</td>\n",
       "      <td>7.0</td>\n",
       "      <td>2013</td>\n",
       "      <td>0.96</td>\n",
       "    </tr>\n",
       "    <tr>\n",
       "      <th>2</th>\n",
       "      <td>Bristol Rovers</td>\n",
       "      <td>30.0</td>\n",
       "      <td>NaN</td>\n",
       "      <td>43.0</td>\n",
       "      <td>NaN</td>\n",
       "      <td>175.0</td>\n",
       "      <td>NaN</td>\n",
       "      <td>NaN</td>\n",
       "      <td>3.80</td>\n",
       "      <td>NaN</td>\n",
       "      <td>0.22</td>\n",
       "      <td>NaN</td>\n",
       "      <td>4.0</td>\n",
       "      <td>5.0</td>\n",
       "      <td>2013</td>\n",
       "      <td>0.84</td>\n",
       "    </tr>\n",
       "    <tr>\n",
       "      <th>3</th>\n",
       "      <td>Burton Albion</td>\n",
       "      <td>29.0</td>\n",
       "      <td>NaN</td>\n",
       "      <td>44.0</td>\n",
       "      <td>NaN</td>\n",
       "      <td>221.0</td>\n",
       "      <td>NaN</td>\n",
       "      <td>NaN</td>\n",
       "      <td>4.80</td>\n",
       "      <td>NaN</td>\n",
       "      <td>0.18</td>\n",
       "      <td>NaN</td>\n",
       "      <td>5.0</td>\n",
       "      <td>6.0</td>\n",
       "      <td>2013</td>\n",
       "      <td>0.86</td>\n",
       "    </tr>\n",
       "    <tr>\n",
       "      <th>4</th>\n",
       "      <td>Bury</td>\n",
       "      <td>46.0</td>\n",
       "      <td>NaN</td>\n",
       "      <td>59.0</td>\n",
       "      <td>NaN</td>\n",
       "      <td>205.0</td>\n",
       "      <td>NaN</td>\n",
       "      <td>NaN</td>\n",
       "      <td>4.46</td>\n",
       "      <td>NaN</td>\n",
       "      <td>0.27</td>\n",
       "      <td>NaN</td>\n",
       "      <td>4.0</td>\n",
       "      <td>4.0</td>\n",
       "      <td>2013</td>\n",
       "      <td>1.20</td>\n",
       "    </tr>\n",
       "    <tr>\n",
       "      <th>...</th>\n",
       "      <td>...</td>\n",
       "      <td>...</td>\n",
       "      <td>...</td>\n",
       "      <td>...</td>\n",
       "      <td>...</td>\n",
       "      <td>...</td>\n",
       "      <td>...</td>\n",
       "      <td>...</td>\n",
       "      <td>...</td>\n",
       "      <td>...</td>\n",
       "      <td>...</td>\n",
       "      <td>...</td>\n",
       "      <td>...</td>\n",
       "      <td>...</td>\n",
       "      <td>...</td>\n",
       "      <td>...</td>\n",
       "    </tr>\n",
       "    <tr>\n",
       "      <th>235</th>\n",
       "      <td>Stevenage</td>\n",
       "      <td>24.0</td>\n",
       "      <td>17.0</td>\n",
       "      <td>13.0</td>\n",
       "      <td>169.0</td>\n",
       "      <td>58.0</td>\n",
       "      <td>34.3</td>\n",
       "      <td>9.94</td>\n",
       "      <td>3.41</td>\n",
       "      <td>0.07</td>\n",
       "      <td>0.21</td>\n",
       "      <td>NaN</td>\n",
       "      <td>1.0</td>\n",
       "      <td>1.0</td>\n",
       "      <td>2021</td>\n",
       "      <td>0.72</td>\n",
       "    </tr>\n",
       "    <tr>\n",
       "      <th>236</th>\n",
       "      <td>Sutton United</td>\n",
       "      <td>22.0</td>\n",
       "      <td>17.0</td>\n",
       "      <td>23.0</td>\n",
       "      <td>238.0</td>\n",
       "      <td>75.0</td>\n",
       "      <td>31.5</td>\n",
       "      <td>14.00</td>\n",
       "      <td>4.41</td>\n",
       "      <td>0.08</td>\n",
       "      <td>0.27</td>\n",
       "      <td>NaN</td>\n",
       "      <td>3.0</td>\n",
       "      <td>3.0</td>\n",
       "      <td>2021</td>\n",
       "      <td>1.19</td>\n",
       "    </tr>\n",
       "    <tr>\n",
       "      <th>237</th>\n",
       "      <td>Swindon Town</td>\n",
       "      <td>22.0</td>\n",
       "      <td>16.0</td>\n",
       "      <td>23.0</td>\n",
       "      <td>211.0</td>\n",
       "      <td>87.0</td>\n",
       "      <td>41.2</td>\n",
       "      <td>13.19</td>\n",
       "      <td>5.44</td>\n",
       "      <td>0.09</td>\n",
       "      <td>0.22</td>\n",
       "      <td>NaN</td>\n",
       "      <td>4.0</td>\n",
       "      <td>4.0</td>\n",
       "      <td>2021</td>\n",
       "      <td>1.20</td>\n",
       "    </tr>\n",
       "    <tr>\n",
       "      <th>238</th>\n",
       "      <td>Tranmere Rovers</td>\n",
       "      <td>22.0</td>\n",
       "      <td>17.0</td>\n",
       "      <td>12.0</td>\n",
       "      <td>190.0</td>\n",
       "      <td>52.0</td>\n",
       "      <td>27.4</td>\n",
       "      <td>11.18</td>\n",
       "      <td>3.06</td>\n",
       "      <td>0.05</td>\n",
       "      <td>0.19</td>\n",
       "      <td>NaN</td>\n",
       "      <td>2.0</td>\n",
       "      <td>3.0</td>\n",
       "      <td>2021</td>\n",
       "      <td>0.58</td>\n",
       "    </tr>\n",
       "    <tr>\n",
       "      <th>239</th>\n",
       "      <td>Walsall</td>\n",
       "      <td>19.0</td>\n",
       "      <td>17.0</td>\n",
       "      <td>20.0</td>\n",
       "      <td>197.0</td>\n",
       "      <td>61.0</td>\n",
       "      <td>31.0</td>\n",
       "      <td>11.59</td>\n",
       "      <td>3.59</td>\n",
       "      <td>0.10</td>\n",
       "      <td>0.31</td>\n",
       "      <td>NaN</td>\n",
       "      <td>1.0</td>\n",
       "      <td>1.0</td>\n",
       "      <td>2021</td>\n",
       "      <td>1.11</td>\n",
       "    </tr>\n",
       "  </tbody>\n",
       "</table>\n",
       "<p>240 rows × 16 columns</p>\n",
       "</div>"
      ],
      "text/plain": [
       "               Squad  # Pl   90s   Gls     Sh    SoT  SoT%  Sh/90  SoT/90  \\\n",
       "0    Acc'ton Stanley  29.0   NaN  53.0    NaN  182.0   NaN    NaN    3.96   \n",
       "1      AFC Wimbledon  30.0   NaN  49.0    NaN  184.0   NaN    NaN    4.00   \n",
       "2     Bristol Rovers  30.0   NaN  43.0    NaN  175.0   NaN    NaN    3.80   \n",
       "3      Burton Albion  29.0   NaN  44.0    NaN  221.0   NaN    NaN    4.80   \n",
       "4               Bury  46.0   NaN  59.0    NaN  205.0   NaN    NaN    4.46   \n",
       "..               ...   ...   ...   ...    ...    ...   ...    ...     ...   \n",
       "235        Stevenage  24.0  17.0  13.0  169.0   58.0  34.3   9.94    3.41   \n",
       "236    Sutton United  22.0  17.0  23.0  238.0   75.0  31.5  14.00    4.41   \n",
       "237     Swindon Town  22.0  16.0  23.0  211.0   87.0  41.2  13.19    5.44   \n",
       "238  Tranmere Rovers  22.0  17.0  12.0  190.0   52.0  27.4  11.18    3.06   \n",
       "239          Walsall  19.0  17.0  20.0  197.0   61.0  31.0  11.59    3.59   \n",
       "\n",
       "     G/Sh  G/SoT  Dist   PK  PKatt  year  G/90  \n",
       "0     NaN   0.27   NaN  4.0    5.0  2013  1.07  \n",
       "1     NaN   0.24   NaN  5.0    7.0  2013  0.96  \n",
       "2     NaN   0.22   NaN  4.0    5.0  2013  0.84  \n",
       "3     NaN   0.18   NaN  5.0    6.0  2013  0.86  \n",
       "4     NaN   0.27   NaN  4.0    4.0  2013  1.20  \n",
       "..    ...    ...   ...  ...    ...   ...   ...  \n",
       "235  0.07   0.21   NaN  1.0    1.0  2021  0.72  \n",
       "236  0.08   0.27   NaN  3.0    3.0  2021  1.19  \n",
       "237  0.09   0.22   NaN  4.0    4.0  2021  1.20  \n",
       "238  0.05   0.19   NaN  2.0    3.0  2021  0.58  \n",
       "239  0.10   0.31   NaN  1.0    1.0  2021  1.11  \n",
       "\n",
       "[240 rows x 16 columns]"
      ]
     },
     "execution_count": 41,
     "metadata": {},
     "output_type": "execute_result"
    }
   ],
   "source": [
    "shooting_df"
   ]
  },
  {
   "cell_type": "code",
   "execution_count": 65,
   "id": "dutch-album",
   "metadata": {},
   "outputs": [],
   "source": [
    "# merging table, standard, and shooting dfs\n",
    "overall_df = pd.merge(league_table_df,standard_df,on=['Squad','year'])"
   ]
  },
  {
   "cell_type": "code",
   "execution_count": 66,
   "id": "egyptian-reality",
   "metadata": {},
   "outputs": [],
   "source": [
    "overall_df = pd.merge(overall_df,shooting_df,on=['Squad','year']).sort_values(by=['year','Rk']).reset_index(drop=True)"
   ]
  },
  {
   "cell_type": "code",
   "execution_count": 67,
   "id": "medieval-classics",
   "metadata": {},
   "outputs": [
    {
     "data": {
      "text/html": [
       "<div>\n",
       "<style scoped>\n",
       "    .dataframe tbody tr th:only-of-type {\n",
       "        vertical-align: middle;\n",
       "    }\n",
       "\n",
       "    .dataframe tbody tr th {\n",
       "        vertical-align: top;\n",
       "    }\n",
       "\n",
       "    .dataframe thead th {\n",
       "        text-align: right;\n",
       "    }\n",
       "</style>\n",
       "<table border=\"1\" class=\"dataframe\">\n",
       "  <thead>\n",
       "    <tr style=\"text-align: right;\">\n",
       "      <th></th>\n",
       "      <th>Rk</th>\n",
       "      <th>Squad</th>\n",
       "      <th>MP_x</th>\n",
       "      <th>W</th>\n",
       "      <th>D</th>\n",
       "      <th>L</th>\n",
       "      <th>GF</th>\n",
       "      <th>GA</th>\n",
       "      <th>GD</th>\n",
       "      <th>Pts_x</th>\n",
       "      <th>Attendance</th>\n",
       "      <th>Top Team Scorer</th>\n",
       "      <th>Goalkeeper</th>\n",
       "      <th>Notes</th>\n",
       "      <th>year</th>\n",
       "      <th>Pts/G</th>\n",
       "      <th>Last 5</th>\n",
       "      <th>GD/MP</th>\n",
       "      <th># Pl_x</th>\n",
       "      <th>Age</th>\n",
       "      <th>Poss</th>\n",
       "      <th>MP_y</th>\n",
       "      <th>Starts</th>\n",
       "      <th>Min</th>\n",
       "      <th>90s_x</th>\n",
       "      <th>Gls_x</th>\n",
       "      <th>Ast</th>\n",
       "      <th>G-PK</th>\n",
       "      <th>PK_x</th>\n",
       "      <th>PKatt_x</th>\n",
       "      <th>CrdY</th>\n",
       "      <th>CrdR</th>\n",
       "      <th>Gls/90</th>\n",
       "      <th>Ast/90</th>\n",
       "      <th>G+A/90</th>\n",
       "      <th>G-PK/90</th>\n",
       "      <th>G+A-PK/90</th>\n",
       "      <th>Pts_y</th>\n",
       "      <th>Pts/MP</th>\n",
       "      <th># Pl_y</th>\n",
       "      <th>90s_y</th>\n",
       "      <th>Gls_y</th>\n",
       "      <th>Sh</th>\n",
       "      <th>SoT</th>\n",
       "      <th>SoT%</th>\n",
       "      <th>Sh/90</th>\n",
       "      <th>SoT/90</th>\n",
       "      <th>G/Sh</th>\n",
       "      <th>G/SoT</th>\n",
       "      <th>Dist</th>\n",
       "      <th>PK_y</th>\n",
       "      <th>PKatt_y</th>\n",
       "      <th>G/90</th>\n",
       "    </tr>\n",
       "  </thead>\n",
       "  <tbody>\n",
       "    <tr>\n",
       "      <th>0</th>\n",
       "      <td>1</td>\n",
       "      <td>Swindon Town</td>\n",
       "      <td>46</td>\n",
       "      <td>29</td>\n",
       "      <td>6</td>\n",
       "      <td>11</td>\n",
       "      <td>75</td>\n",
       "      <td>32</td>\n",
       "      <td>43</td>\n",
       "      <td>93</td>\n",
       "      <td>8411.0</td>\n",
       "      <td>Alan Connell Paul Benson - 11</td>\n",
       "      <td>Wes Foderingham</td>\n",
       "      <td>Promoted</td>\n",
       "      <td>2011</td>\n",
       "      <td>NaN</td>\n",
       "      <td>NaN</td>\n",
       "      <td>0.93</td>\n",
       "      <td>38</td>\n",
       "      <td>24.3</td>\n",
       "      <td>NaN</td>\n",
       "      <td>46</td>\n",
       "      <td>506</td>\n",
       "      <td>NaN</td>\n",
       "      <td>NaN</td>\n",
       "      <td>74</td>\n",
       "      <td>52</td>\n",
       "      <td>70</td>\n",
       "      <td>4</td>\n",
       "      <td>5</td>\n",
       "      <td>63.0</td>\n",
       "      <td>2.0</td>\n",
       "      <td>1.61</td>\n",
       "      <td>1.13</td>\n",
       "      <td>2.74</td>\n",
       "      <td>1.52</td>\n",
       "      <td>2.65</td>\n",
       "      <td>93</td>\n",
       "      <td>2.02</td>\n",
       "      <td>38.0</td>\n",
       "      <td>NaN</td>\n",
       "      <td>74.0</td>\n",
       "      <td>NaN</td>\n",
       "      <td>202.0</td>\n",
       "      <td>NaN</td>\n",
       "      <td>NaN</td>\n",
       "      <td>4.39</td>\n",
       "      <td>NaN</td>\n",
       "      <td>0.35</td>\n",
       "      <td>NaN</td>\n",
       "      <td>4.0</td>\n",
       "      <td>5.0</td>\n",
       "      <td>1.54</td>\n",
       "    </tr>\n",
       "    <tr>\n",
       "      <th>1</th>\n",
       "      <td>2</td>\n",
       "      <td>Shrewsbury</td>\n",
       "      <td>46</td>\n",
       "      <td>26</td>\n",
       "      <td>10</td>\n",
       "      <td>10</td>\n",
       "      <td>66</td>\n",
       "      <td>41</td>\n",
       "      <td>25</td>\n",
       "      <td>88</td>\n",
       "      <td>5770.0</td>\n",
       "      <td>James Collins - 14</td>\n",
       "      <td>Chris Neal</td>\n",
       "      <td>Promoted</td>\n",
       "      <td>2011</td>\n",
       "      <td>NaN</td>\n",
       "      <td>NaN</td>\n",
       "      <td>0.54</td>\n",
       "      <td>25</td>\n",
       "      <td>25.3</td>\n",
       "      <td>NaN</td>\n",
       "      <td>46</td>\n",
       "      <td>506</td>\n",
       "      <td>NaN</td>\n",
       "      <td>NaN</td>\n",
       "      <td>64</td>\n",
       "      <td>49</td>\n",
       "      <td>60</td>\n",
       "      <td>4</td>\n",
       "      <td>4</td>\n",
       "      <td>61.0</td>\n",
       "      <td>5.0</td>\n",
       "      <td>1.39</td>\n",
       "      <td>1.07</td>\n",
       "      <td>2.46</td>\n",
       "      <td>1.30</td>\n",
       "      <td>2.37</td>\n",
       "      <td>88</td>\n",
       "      <td>1.91</td>\n",
       "      <td>25.0</td>\n",
       "      <td>NaN</td>\n",
       "      <td>64.0</td>\n",
       "      <td>NaN</td>\n",
       "      <td>217.0</td>\n",
       "      <td>NaN</td>\n",
       "      <td>NaN</td>\n",
       "      <td>4.72</td>\n",
       "      <td>NaN</td>\n",
       "      <td>0.28</td>\n",
       "      <td>NaN</td>\n",
       "      <td>4.0</td>\n",
       "      <td>4.0</td>\n",
       "      <td>1.32</td>\n",
       "    </tr>\n",
       "    <tr>\n",
       "      <th>2</th>\n",
       "      <td>3</td>\n",
       "      <td>Crawley Town</td>\n",
       "      <td>46</td>\n",
       "      <td>23</td>\n",
       "      <td>15</td>\n",
       "      <td>8</td>\n",
       "      <td>76</td>\n",
       "      <td>54</td>\n",
       "      <td>22</td>\n",
       "      <td>84</td>\n",
       "      <td>3256.0</td>\n",
       "      <td>Tyrone Barnett - 13</td>\n",
       "      <td>Scott Shearer</td>\n",
       "      <td>Promoted</td>\n",
       "      <td>2011</td>\n",
       "      <td>NaN</td>\n",
       "      <td>NaN</td>\n",
       "      <td>0.48</td>\n",
       "      <td>35</td>\n",
       "      <td>27.5</td>\n",
       "      <td>NaN</td>\n",
       "      <td>46</td>\n",
       "      <td>506</td>\n",
       "      <td>NaN</td>\n",
       "      <td>NaN</td>\n",
       "      <td>73</td>\n",
       "      <td>52</td>\n",
       "      <td>65</td>\n",
       "      <td>8</td>\n",
       "      <td>9</td>\n",
       "      <td>62.0</td>\n",
       "      <td>4.0</td>\n",
       "      <td>1.59</td>\n",
       "      <td>1.13</td>\n",
       "      <td>2.72</td>\n",
       "      <td>1.41</td>\n",
       "      <td>2.54</td>\n",
       "      <td>84</td>\n",
       "      <td>1.83</td>\n",
       "      <td>35.0</td>\n",
       "      <td>NaN</td>\n",
       "      <td>73.0</td>\n",
       "      <td>NaN</td>\n",
       "      <td>264.0</td>\n",
       "      <td>NaN</td>\n",
       "      <td>NaN</td>\n",
       "      <td>5.74</td>\n",
       "      <td>NaN</td>\n",
       "      <td>0.25</td>\n",
       "      <td>NaN</td>\n",
       "      <td>8.0</td>\n",
       "      <td>9.0</td>\n",
       "      <td>1.44</td>\n",
       "    </tr>\n",
       "    <tr>\n",
       "      <th>3</th>\n",
       "      <td>4</td>\n",
       "      <td>Southend United</td>\n",
       "      <td>46</td>\n",
       "      <td>25</td>\n",
       "      <td>8</td>\n",
       "      <td>13</td>\n",
       "      <td>77</td>\n",
       "      <td>48</td>\n",
       "      <td>29</td>\n",
       "      <td>83</td>\n",
       "      <td>6000.0</td>\n",
       "      <td>Bilel Mohsni - 13</td>\n",
       "      <td>Glenn Morris</td>\n",
       "      <td>→ Semi-finals</td>\n",
       "      <td>2011</td>\n",
       "      <td>NaN</td>\n",
       "      <td>NaN</td>\n",
       "      <td>0.63</td>\n",
       "      <td>33</td>\n",
       "      <td>26.2</td>\n",
       "      <td>NaN</td>\n",
       "      <td>46</td>\n",
       "      <td>506</td>\n",
       "      <td>NaN</td>\n",
       "      <td>NaN</td>\n",
       "      <td>73</td>\n",
       "      <td>55</td>\n",
       "      <td>68</td>\n",
       "      <td>5</td>\n",
       "      <td>6</td>\n",
       "      <td>77.0</td>\n",
       "      <td>4.0</td>\n",
       "      <td>1.59</td>\n",
       "      <td>1.20</td>\n",
       "      <td>2.78</td>\n",
       "      <td>1.48</td>\n",
       "      <td>2.67</td>\n",
       "      <td>83</td>\n",
       "      <td>1.80</td>\n",
       "      <td>33.0</td>\n",
       "      <td>NaN</td>\n",
       "      <td>73.0</td>\n",
       "      <td>NaN</td>\n",
       "      <td>248.0</td>\n",
       "      <td>NaN</td>\n",
       "      <td>NaN</td>\n",
       "      <td>5.39</td>\n",
       "      <td>NaN</td>\n",
       "      <td>0.27</td>\n",
       "      <td>NaN</td>\n",
       "      <td>5.0</td>\n",
       "      <td>6.0</td>\n",
       "      <td>1.46</td>\n",
       "    </tr>\n",
       "    <tr>\n",
       "      <th>4</th>\n",
       "      <td>5</td>\n",
       "      <td>Torquay United</td>\n",
       "      <td>46</td>\n",
       "      <td>23</td>\n",
       "      <td>12</td>\n",
       "      <td>11</td>\n",
       "      <td>63</td>\n",
       "      <td>50</td>\n",
       "      <td>13</td>\n",
       "      <td>81</td>\n",
       "      <td>2869.0</td>\n",
       "      <td>Lee Mansell Rene Howe - 12</td>\n",
       "      <td>Bobby Olejnik</td>\n",
       "      <td>→ Semi-finals</td>\n",
       "      <td>2011</td>\n",
       "      <td>NaN</td>\n",
       "      <td>NaN</td>\n",
       "      <td>0.28</td>\n",
       "      <td>23</td>\n",
       "      <td>24.6</td>\n",
       "      <td>NaN</td>\n",
       "      <td>46</td>\n",
       "      <td>506</td>\n",
       "      <td>NaN</td>\n",
       "      <td>NaN</td>\n",
       "      <td>63</td>\n",
       "      <td>40</td>\n",
       "      <td>60</td>\n",
       "      <td>3</td>\n",
       "      <td>3</td>\n",
       "      <td>65.0</td>\n",
       "      <td>4.0</td>\n",
       "      <td>1.37</td>\n",
       "      <td>0.87</td>\n",
       "      <td>2.24</td>\n",
       "      <td>1.30</td>\n",
       "      <td>2.17</td>\n",
       "      <td>81</td>\n",
       "      <td>1.76</td>\n",
       "      <td>23.0</td>\n",
       "      <td>NaN</td>\n",
       "      <td>63.0</td>\n",
       "      <td>NaN</td>\n",
       "      <td>217.0</td>\n",
       "      <td>NaN</td>\n",
       "      <td>NaN</td>\n",
       "      <td>4.72</td>\n",
       "      <td>NaN</td>\n",
       "      <td>0.28</td>\n",
       "      <td>NaN</td>\n",
       "      <td>3.0</td>\n",
       "      <td>3.0</td>\n",
       "      <td>1.32</td>\n",
       "    </tr>\n",
       "    <tr>\n",
       "      <th>...</th>\n",
       "      <td>...</td>\n",
       "      <td>...</td>\n",
       "      <td>...</td>\n",
       "      <td>...</td>\n",
       "      <td>...</td>\n",
       "      <td>...</td>\n",
       "      <td>...</td>\n",
       "      <td>...</td>\n",
       "      <td>...</td>\n",
       "      <td>...</td>\n",
       "      <td>...</td>\n",
       "      <td>...</td>\n",
       "      <td>...</td>\n",
       "      <td>...</td>\n",
       "      <td>...</td>\n",
       "      <td>...</td>\n",
       "      <td>...</td>\n",
       "      <td>...</td>\n",
       "      <td>...</td>\n",
       "      <td>...</td>\n",
       "      <td>...</td>\n",
       "      <td>...</td>\n",
       "      <td>...</td>\n",
       "      <td>...</td>\n",
       "      <td>...</td>\n",
       "      <td>...</td>\n",
       "      <td>...</td>\n",
       "      <td>...</td>\n",
       "      <td>...</td>\n",
       "      <td>...</td>\n",
       "      <td>...</td>\n",
       "      <td>...</td>\n",
       "      <td>...</td>\n",
       "      <td>...</td>\n",
       "      <td>...</td>\n",
       "      <td>...</td>\n",
       "      <td>...</td>\n",
       "      <td>...</td>\n",
       "      <td>...</td>\n",
       "      <td>...</td>\n",
       "      <td>...</td>\n",
       "      <td>...</td>\n",
       "      <td>...</td>\n",
       "      <td>...</td>\n",
       "      <td>...</td>\n",
       "      <td>...</td>\n",
       "      <td>...</td>\n",
       "      <td>...</td>\n",
       "      <td>...</td>\n",
       "      <td>...</td>\n",
       "      <td>...</td>\n",
       "      <td>...</td>\n",
       "      <td>...</td>\n",
       "    </tr>\n",
       "    <tr>\n",
       "      <th>235</th>\n",
       "      <td>20</td>\n",
       "      <td>Colchester Utd</td>\n",
       "      <td>16</td>\n",
       "      <td>4</td>\n",
       "      <td>5</td>\n",
       "      <td>7</td>\n",
       "      <td>12</td>\n",
       "      <td>20</td>\n",
       "      <td>-8</td>\n",
       "      <td>17</td>\n",
       "      <td>2536.0</td>\n",
       "      <td>Freddie Sears - 5</td>\n",
       "      <td>Shamal George</td>\n",
       "      <td>NaN</td>\n",
       "      <td>2021</td>\n",
       "      <td>NaN</td>\n",
       "      <td>D L L W L</td>\n",
       "      <td>-0.50</td>\n",
       "      <td>22</td>\n",
       "      <td>28.6</td>\n",
       "      <td>47.5</td>\n",
       "      <td>16</td>\n",
       "      <td>176</td>\n",
       "      <td>1440.0</td>\n",
       "      <td>16.0</td>\n",
       "      <td>11</td>\n",
       "      <td>6</td>\n",
       "      <td>9</td>\n",
       "      <td>2</td>\n",
       "      <td>2</td>\n",
       "      <td>31.0</td>\n",
       "      <td>3.0</td>\n",
       "      <td>0.69</td>\n",
       "      <td>0.37</td>\n",
       "      <td>1.06</td>\n",
       "      <td>0.56</td>\n",
       "      <td>0.94</td>\n",
       "      <td>17</td>\n",
       "      <td>1.06</td>\n",
       "      <td>22.0</td>\n",
       "      <td>16.0</td>\n",
       "      <td>11.0</td>\n",
       "      <td>179.0</td>\n",
       "      <td>46.0</td>\n",
       "      <td>25.7</td>\n",
       "      <td>11.19</td>\n",
       "      <td>2.87</td>\n",
       "      <td>0.05</td>\n",
       "      <td>0.20</td>\n",
       "      <td>NaN</td>\n",
       "      <td>2.0</td>\n",
       "      <td>2.0</td>\n",
       "      <td>0.57</td>\n",
       "    </tr>\n",
       "    <tr>\n",
       "      <th>236</th>\n",
       "      <td>21</td>\n",
       "      <td>Stevenage</td>\n",
       "      <td>17</td>\n",
       "      <td>4</td>\n",
       "      <td>5</td>\n",
       "      <td>8</td>\n",
       "      <td>13</td>\n",
       "      <td>28</td>\n",
       "      <td>-15</td>\n",
       "      <td>17</td>\n",
       "      <td>3024.0</td>\n",
       "      <td>Elliott List - 6</td>\n",
       "      <td>Joseph Anang</td>\n",
       "      <td>NaN</td>\n",
       "      <td>2021</td>\n",
       "      <td>NaN</td>\n",
       "      <td>L D L L W</td>\n",
       "      <td>-0.88</td>\n",
       "      <td>24</td>\n",
       "      <td>27.7</td>\n",
       "      <td>49.4</td>\n",
       "      <td>17</td>\n",
       "      <td>187</td>\n",
       "      <td>1530.0</td>\n",
       "      <td>17.0</td>\n",
       "      <td>13</td>\n",
       "      <td>12</td>\n",
       "      <td>12</td>\n",
       "      <td>1</td>\n",
       "      <td>1</td>\n",
       "      <td>25.0</td>\n",
       "      <td>1.0</td>\n",
       "      <td>0.76</td>\n",
       "      <td>0.71</td>\n",
       "      <td>1.47</td>\n",
       "      <td>0.71</td>\n",
       "      <td>1.41</td>\n",
       "      <td>17</td>\n",
       "      <td>1.00</td>\n",
       "      <td>24.0</td>\n",
       "      <td>17.0</td>\n",
       "      <td>13.0</td>\n",
       "      <td>169.0</td>\n",
       "      <td>58.0</td>\n",
       "      <td>34.3</td>\n",
       "      <td>9.94</td>\n",
       "      <td>3.41</td>\n",
       "      <td>0.07</td>\n",
       "      <td>0.21</td>\n",
       "      <td>NaN</td>\n",
       "      <td>1.0</td>\n",
       "      <td>1.0</td>\n",
       "      <td>0.72</td>\n",
       "    </tr>\n",
       "    <tr>\n",
       "      <th>237</th>\n",
       "      <td>22</td>\n",
       "      <td>Oldham Athletic</td>\n",
       "      <td>17</td>\n",
       "      <td>4</td>\n",
       "      <td>3</td>\n",
       "      <td>10</td>\n",
       "      <td>15</td>\n",
       "      <td>26</td>\n",
       "      <td>-11</td>\n",
       "      <td>15</td>\n",
       "      <td>4100.0</td>\n",
       "      <td>Davis Keillor-Dunn - 4</td>\n",
       "      <td>Jayson Leutwiler</td>\n",
       "      <td>NaN</td>\n",
       "      <td>2021</td>\n",
       "      <td>NaN</td>\n",
       "      <td>L D L L W</td>\n",
       "      <td>-0.65</td>\n",
       "      <td>28</td>\n",
       "      <td>26.8</td>\n",
       "      <td>51.1</td>\n",
       "      <td>17</td>\n",
       "      <td>187</td>\n",
       "      <td>1530.0</td>\n",
       "      <td>17.0</td>\n",
       "      <td>14</td>\n",
       "      <td>13</td>\n",
       "      <td>14</td>\n",
       "      <td>0</td>\n",
       "      <td>0</td>\n",
       "      <td>32.0</td>\n",
       "      <td>0.0</td>\n",
       "      <td>0.82</td>\n",
       "      <td>0.76</td>\n",
       "      <td>1.59</td>\n",
       "      <td>0.82</td>\n",
       "      <td>1.59</td>\n",
       "      <td>15</td>\n",
       "      <td>0.88</td>\n",
       "      <td>28.0</td>\n",
       "      <td>17.0</td>\n",
       "      <td>14.0</td>\n",
       "      <td>177.0</td>\n",
       "      <td>52.0</td>\n",
       "      <td>29.4</td>\n",
       "      <td>10.41</td>\n",
       "      <td>3.06</td>\n",
       "      <td>0.08</td>\n",
       "      <td>0.27</td>\n",
       "      <td>NaN</td>\n",
       "      <td>0.0</td>\n",
       "      <td>0.0</td>\n",
       "      <td>0.83</td>\n",
       "    </tr>\n",
       "    <tr>\n",
       "      <th>238</th>\n",
       "      <td>23</td>\n",
       "      <td>Carlisle United</td>\n",
       "      <td>17</td>\n",
       "      <td>2</td>\n",
       "      <td>7</td>\n",
       "      <td>8</td>\n",
       "      <td>12</td>\n",
       "      <td>26</td>\n",
       "      <td>-14</td>\n",
       "      <td>13</td>\n",
       "      <td>5086.0</td>\n",
       "      <td>Zach Clough Tristan Abrahams... - 2</td>\n",
       "      <td>Magnus Norman</td>\n",
       "      <td>NaN</td>\n",
       "      <td>2021</td>\n",
       "      <td>NaN</td>\n",
       "      <td>D D L D L</td>\n",
       "      <td>-0.82</td>\n",
       "      <td>25</td>\n",
       "      <td>25.6</td>\n",
       "      <td>46.6</td>\n",
       "      <td>17</td>\n",
       "      <td>187</td>\n",
       "      <td>1530.0</td>\n",
       "      <td>17.0</td>\n",
       "      <td>12</td>\n",
       "      <td>6</td>\n",
       "      <td>10</td>\n",
       "      <td>2</td>\n",
       "      <td>2</td>\n",
       "      <td>30.0</td>\n",
       "      <td>2.0</td>\n",
       "      <td>0.71</td>\n",
       "      <td>0.35</td>\n",
       "      <td>1.06</td>\n",
       "      <td>0.59</td>\n",
       "      <td>0.94</td>\n",
       "      <td>13</td>\n",
       "      <td>0.76</td>\n",
       "      <td>25.0</td>\n",
       "      <td>17.0</td>\n",
       "      <td>12.0</td>\n",
       "      <td>211.0</td>\n",
       "      <td>66.0</td>\n",
       "      <td>31.3</td>\n",
       "      <td>12.41</td>\n",
       "      <td>3.88</td>\n",
       "      <td>0.05</td>\n",
       "      <td>0.15</td>\n",
       "      <td>NaN</td>\n",
       "      <td>2.0</td>\n",
       "      <td>2.0</td>\n",
       "      <td>0.58</td>\n",
       "    </tr>\n",
       "    <tr>\n",
       "      <th>239</th>\n",
       "      <td>24</td>\n",
       "      <td>Scunthorpe Utd</td>\n",
       "      <td>17</td>\n",
       "      <td>2</td>\n",
       "      <td>6</td>\n",
       "      <td>9</td>\n",
       "      <td>13</td>\n",
       "      <td>33</td>\n",
       "      <td>-20</td>\n",
       "      <td>12</td>\n",
       "      <td>2574.0</td>\n",
       "      <td>Myles Hippolyte Jake Scrimshaw... - 2</td>\n",
       "      <td>Rory Watson</td>\n",
       "      <td>NaN</td>\n",
       "      <td>2021</td>\n",
       "      <td>NaN</td>\n",
       "      <td>D W L D L</td>\n",
       "      <td>-1.18</td>\n",
       "      <td>27</td>\n",
       "      <td>24.6</td>\n",
       "      <td>43.3</td>\n",
       "      <td>17</td>\n",
       "      <td>187</td>\n",
       "      <td>1530.0</td>\n",
       "      <td>17.0</td>\n",
       "      <td>12</td>\n",
       "      <td>6</td>\n",
       "      <td>9</td>\n",
       "      <td>3</td>\n",
       "      <td>4</td>\n",
       "      <td>34.0</td>\n",
       "      <td>2.0</td>\n",
       "      <td>0.71</td>\n",
       "      <td>0.35</td>\n",
       "      <td>1.06</td>\n",
       "      <td>0.53</td>\n",
       "      <td>0.88</td>\n",
       "      <td>12</td>\n",
       "      <td>0.71</td>\n",
       "      <td>27.0</td>\n",
       "      <td>17.0</td>\n",
       "      <td>12.0</td>\n",
       "      <td>163.0</td>\n",
       "      <td>46.0</td>\n",
       "      <td>28.2</td>\n",
       "      <td>9.59</td>\n",
       "      <td>2.71</td>\n",
       "      <td>0.06</td>\n",
       "      <td>0.20</td>\n",
       "      <td>NaN</td>\n",
       "      <td>3.0</td>\n",
       "      <td>4.0</td>\n",
       "      <td>0.54</td>\n",
       "    </tr>\n",
       "  </tbody>\n",
       "</table>\n",
       "<p>240 rows × 53 columns</p>\n",
       "</div>"
      ],
      "text/plain": [
       "     Rk            Squad  MP_x   W   D   L  GF  GA  GD  Pts_x  Attendance  \\\n",
       "0     1     Swindon Town    46  29   6  11  75  32  43     93      8411.0   \n",
       "1     2       Shrewsbury    46  26  10  10  66  41  25     88      5770.0   \n",
       "2     3     Crawley Town    46  23  15   8  76  54  22     84      3256.0   \n",
       "3     4  Southend United    46  25   8  13  77  48  29     83      6000.0   \n",
       "4     5   Torquay United    46  23  12  11  63  50  13     81      2869.0   \n",
       "..   ..              ...   ...  ..  ..  ..  ..  ..  ..    ...         ...   \n",
       "235  20   Colchester Utd    16   4   5   7  12  20  -8     17      2536.0   \n",
       "236  21        Stevenage    17   4   5   8  13  28 -15     17      3024.0   \n",
       "237  22  Oldham Athletic    17   4   3  10  15  26 -11     15      4100.0   \n",
       "238  23  Carlisle United    17   2   7   8  12  26 -14     13      5086.0   \n",
       "239  24   Scunthorpe Utd    17   2   6   9  13  33 -20     12      2574.0   \n",
       "\n",
       "                           Top Team Scorer        Goalkeeper          Notes  \\\n",
       "0            Alan Connell Paul Benson - 11   Wes Foderingham       Promoted   \n",
       "1                       James Collins - 14        Chris Neal       Promoted   \n",
       "2                      Tyrone Barnett - 13     Scott Shearer       Promoted   \n",
       "3                        Bilel Mohsni - 13      Glenn Morris  → Semi-finals   \n",
       "4               Lee Mansell Rene Howe - 12     Bobby Olejnik  → Semi-finals   \n",
       "..                                     ...               ...            ...   \n",
       "235                      Freddie Sears - 5     Shamal George            NaN   \n",
       "236                       Elliott List - 6      Joseph Anang            NaN   \n",
       "237                 Davis Keillor-Dunn - 4  Jayson Leutwiler            NaN   \n",
       "238    Zach Clough Tristan Abrahams... - 2     Magnus Norman            NaN   \n",
       "239  Myles Hippolyte Jake Scrimshaw... - 2       Rory Watson            NaN   \n",
       "\n",
       "     year  Pts/G     Last 5  GD/MP  # Pl_x   Age  Poss  MP_y  Starts     Min  \\\n",
       "0    2011    NaN        NaN   0.93      38  24.3   NaN    46     506     NaN   \n",
       "1    2011    NaN        NaN   0.54      25  25.3   NaN    46     506     NaN   \n",
       "2    2011    NaN        NaN   0.48      35  27.5   NaN    46     506     NaN   \n",
       "3    2011    NaN        NaN   0.63      33  26.2   NaN    46     506     NaN   \n",
       "4    2011    NaN        NaN   0.28      23  24.6   NaN    46     506     NaN   \n",
       "..    ...    ...        ...    ...     ...   ...   ...   ...     ...     ...   \n",
       "235  2021    NaN  D L L W L  -0.50      22  28.6  47.5    16     176  1440.0   \n",
       "236  2021    NaN  L D L L W  -0.88      24  27.7  49.4    17     187  1530.0   \n",
       "237  2021    NaN  L D L L W  -0.65      28  26.8  51.1    17     187  1530.0   \n",
       "238  2021    NaN  D D L D L  -0.82      25  25.6  46.6    17     187  1530.0   \n",
       "239  2021    NaN  D W L D L  -1.18      27  24.6  43.3    17     187  1530.0   \n",
       "\n",
       "     90s_x  Gls_x  Ast  G-PK  PK_x  PKatt_x  CrdY  CrdR  Gls/90  Ast/90  \\\n",
       "0      NaN     74   52    70     4        5  63.0   2.0    1.61    1.13   \n",
       "1      NaN     64   49    60     4        4  61.0   5.0    1.39    1.07   \n",
       "2      NaN     73   52    65     8        9  62.0   4.0    1.59    1.13   \n",
       "3      NaN     73   55    68     5        6  77.0   4.0    1.59    1.20   \n",
       "4      NaN     63   40    60     3        3  65.0   4.0    1.37    0.87   \n",
       "..     ...    ...  ...   ...   ...      ...   ...   ...     ...     ...   \n",
       "235   16.0     11    6     9     2        2  31.0   3.0    0.69    0.37   \n",
       "236   17.0     13   12    12     1        1  25.0   1.0    0.76    0.71   \n",
       "237   17.0     14   13    14     0        0  32.0   0.0    0.82    0.76   \n",
       "238   17.0     12    6    10     2        2  30.0   2.0    0.71    0.35   \n",
       "239   17.0     12    6     9     3        4  34.0   2.0    0.71    0.35   \n",
       "\n",
       "     G+A/90  G-PK/90  G+A-PK/90  Pts_y  Pts/MP  # Pl_y  90s_y  Gls_y     Sh  \\\n",
       "0      2.74     1.52       2.65     93    2.02    38.0    NaN   74.0    NaN   \n",
       "1      2.46     1.30       2.37     88    1.91    25.0    NaN   64.0    NaN   \n",
       "2      2.72     1.41       2.54     84    1.83    35.0    NaN   73.0    NaN   \n",
       "3      2.78     1.48       2.67     83    1.80    33.0    NaN   73.0    NaN   \n",
       "4      2.24     1.30       2.17     81    1.76    23.0    NaN   63.0    NaN   \n",
       "..      ...      ...        ...    ...     ...     ...    ...    ...    ...   \n",
       "235    1.06     0.56       0.94     17    1.06    22.0   16.0   11.0  179.0   \n",
       "236    1.47     0.71       1.41     17    1.00    24.0   17.0   13.0  169.0   \n",
       "237    1.59     0.82       1.59     15    0.88    28.0   17.0   14.0  177.0   \n",
       "238    1.06     0.59       0.94     13    0.76    25.0   17.0   12.0  211.0   \n",
       "239    1.06     0.53       0.88     12    0.71    27.0   17.0   12.0  163.0   \n",
       "\n",
       "       SoT  SoT%  Sh/90  SoT/90  G/Sh  G/SoT  Dist  PK_y  PKatt_y  G/90  \n",
       "0    202.0   NaN    NaN    4.39   NaN   0.35   NaN   4.0      5.0  1.54  \n",
       "1    217.0   NaN    NaN    4.72   NaN   0.28   NaN   4.0      4.0  1.32  \n",
       "2    264.0   NaN    NaN    5.74   NaN   0.25   NaN   8.0      9.0  1.44  \n",
       "3    248.0   NaN    NaN    5.39   NaN   0.27   NaN   5.0      6.0  1.46  \n",
       "4    217.0   NaN    NaN    4.72   NaN   0.28   NaN   3.0      3.0  1.32  \n",
       "..     ...   ...    ...     ...   ...    ...   ...   ...      ...   ...  \n",
       "235   46.0  25.7  11.19    2.87  0.05   0.20   NaN   2.0      2.0  0.57  \n",
       "236   58.0  34.3   9.94    3.41  0.07   0.21   NaN   1.0      1.0  0.72  \n",
       "237   52.0  29.4  10.41    3.06  0.08   0.27   NaN   0.0      0.0  0.83  \n",
       "238   66.0  31.3  12.41    3.88  0.05   0.15   NaN   2.0      2.0  0.58  \n",
       "239   46.0  28.2   9.59    2.71  0.06   0.20   NaN   3.0      4.0  0.54  \n",
       "\n",
       "[240 rows x 53 columns]"
      ]
     },
     "execution_count": 67,
     "metadata": {},
     "output_type": "execute_result"
    }
   ],
   "source": [
    "overall_df"
   ]
  },
  {
   "cell_type": "code",
   "execution_count": 68,
   "id": "organizational-sharp",
   "metadata": {},
   "outputs": [
    {
     "data": {
      "text/plain": [
       "Index(['Rk', 'Squad', 'MP_x', 'W', 'D', 'L', 'GF', 'GA', 'GD', 'Pts_x',\n",
       "       'Attendance', 'Top Team Scorer', 'Goalkeeper', 'Notes', 'year', 'Pts/G',\n",
       "       'Last 5', 'GD/MP', '# Pl_x', 'Age', 'Poss', 'MP_y', 'Starts', 'Min',\n",
       "       '90s_x', 'Gls_x', 'Ast', 'G-PK', 'PK_x', 'PKatt_x', 'CrdY', 'CrdR',\n",
       "       'Gls/90', 'Ast/90', 'G+A/90', 'G-PK/90', 'G+A-PK/90', 'Pts_y', 'Pts/MP',\n",
       "       '# Pl_y', '90s_y', 'Gls_y', 'Sh', 'SoT', 'SoT%', 'Sh/90', 'SoT/90',\n",
       "       'G/Sh', 'G/SoT', 'Dist', 'PK_y', 'PKatt_y', 'G/90'],\n",
       "      dtype='object')"
      ]
     },
     "execution_count": 68,
     "metadata": {},
     "output_type": "execute_result"
    }
   ],
   "source": [
    "overall_df.columns"
   ]
  },
  {
   "cell_type": "code",
   "execution_count": 69,
   "id": "further-valve",
   "metadata": {},
   "outputs": [],
   "source": [
    "overall_df = overall_df.drop(['MP_y','Pts_y','# Pl_y', '90s_y', 'Gls_y','PK_y', 'PKatt_y'],axis=1)"
   ]
  },
  {
   "cell_type": "code",
   "execution_count": 70,
   "id": "piano-marking",
   "metadata": {},
   "outputs": [],
   "source": [
    "overall_df = overall_df.rename(columns={'MP_x':'MP','Pts_x':'Pts','# Pl_x':'# Pl','90s_x':'90s',\n",
    "                                       'Gls_x':'Gls','PK_x':'PK','PKatt_x':'PKatt'})"
   ]
  },
  {
   "cell_type": "code",
   "execution_count": 71,
   "id": "dense-sauce",
   "metadata": {},
   "outputs": [
    {
     "name": "stdout",
     "output_type": "stream",
     "text": [
      "<class 'pandas.core.frame.DataFrame'>\n",
      "RangeIndex: 240 entries, 0 to 239\n",
      "Data columns (total 46 columns):\n",
      " #   Column           Non-Null Count  Dtype  \n",
      "---  ------           --------------  -----  \n",
      " 0   Rk               240 non-null    int64  \n",
      " 1   Squad            240 non-null    object \n",
      " 2   MP               240 non-null    int64  \n",
      " 3   W                240 non-null    int64  \n",
      " 4   D                240 non-null    int64  \n",
      " 5   L                240 non-null    int64  \n",
      " 6   GF               240 non-null    int64  \n",
      " 7   GA               240 non-null    int64  \n",
      " 8   GD               240 non-null    int64  \n",
      " 9   Pts              240 non-null    int64  \n",
      " 10  Attendance       229 non-null    float64\n",
      " 11  Top Team Scorer  240 non-null    object \n",
      " 12  Goalkeeper       240 non-null    object \n",
      " 13  Notes            79 non-null     object \n",
      " 14  year             240 non-null    object \n",
      " 15  Pts/G            24 non-null     float64\n",
      " 16  Last 5           24 non-null     object \n",
      " 17  GD/MP            240 non-null    float64\n",
      " 18  # Pl             240 non-null    int64  \n",
      " 19  Age              240 non-null    float64\n",
      " 20  Poss             96 non-null     float64\n",
      " 21  Starts           240 non-null    int64  \n",
      " 22  Min              168 non-null    float64\n",
      " 23  90s              168 non-null    float64\n",
      " 24  Gls              240 non-null    int64  \n",
      " 25  Ast              240 non-null    int64  \n",
      " 26  G-PK             240 non-null    int64  \n",
      " 27  PK               240 non-null    int64  \n",
      " 28  PKatt            240 non-null    int64  \n",
      " 29  CrdY             216 non-null    float64\n",
      " 30  CrdR             216 non-null    float64\n",
      " 31  Gls/90           240 non-null    float64\n",
      " 32  Ast/90           240 non-null    float64\n",
      " 33  G+A/90           240 non-null    float64\n",
      " 34  G-PK/90          240 non-null    float64\n",
      " 35  G+A-PK/90        240 non-null    float64\n",
      " 36  Pts/MP           240 non-null    float64\n",
      " 37  Sh               120 non-null    float64\n",
      " 38  SoT              240 non-null    float64\n",
      " 39  SoT%             72 non-null     float64\n",
      " 40  Sh/90            120 non-null    float64\n",
      " 41  SoT/90           240 non-null    float64\n",
      " 42  G/Sh             72 non-null     float64\n",
      " 43  G/SoT            240 non-null    float64\n",
      " 44  Dist             0 non-null      float64\n",
      " 45  G/90             240 non-null    float64\n",
      "dtypes: float64(24), int64(16), object(6)\n",
      "memory usage: 86.4+ KB\n"
     ]
    }
   ],
   "source": [
    "overall_df.info()"
   ]
  },
  {
   "cell_type": "code",
   "execution_count": 80,
   "id": "reduced-space",
   "metadata": {},
   "outputs": [
    {
     "data": {
      "application/vnd.plotly.v1+json": {
       "config": {
        "plotlyServerURL": "https://plot.ly"
       },
       "data": [
        {
         "customdata": [
          [
           "Swindon Town",
           1
          ],
          [
           "Shrewsbury",
           2
          ],
          [
           "Crawley Town",
           3
          ],
          [
           "Southend United",
           4
          ],
          [
           "Torquay United",
           5
          ],
          [
           "Cheltenham",
           6
          ],
          [
           "Crewe Alexandra",
           7
          ],
          [
           "Gillingham",
           8
          ],
          [
           "Oxford United",
           9
          ],
          [
           "Rotherham Utd",
           10
          ],
          [
           "Aldershot Town",
           11
          ],
          [
           "Port Vale",
           12
          ],
          [
           "Bristol Rovers",
           13
          ],
          [
           "Acc'ton Stanley",
           14
          ],
          [
           "Morecambe",
           15
          ],
          [
           "AFC Wimbledon",
           16
          ],
          [
           "Burton Albion",
           17
          ],
          [
           "Bradford City",
           18
          ],
          [
           "Dag & Red",
           19
          ],
          [
           "Northampton",
           20
          ],
          [
           "Plymouth Argyle",
           21
          ],
          [
           "Barnet",
           22
          ],
          [
           "Hereford United",
           23
          ],
          [
           "Macclesfield",
           24
          ],
          [
           "Gillingham",
           1
          ],
          [
           "Rotherham Utd",
           2
          ],
          [
           "Port Vale",
           3
          ],
          [
           "Burton Albion",
           4
          ],
          [
           "Cheltenham",
           5
          ],
          [
           "Northampton",
           6
          ],
          [
           "Bradford City",
           7
          ],
          [
           "Chesterfield",
           8
          ],
          [
           "Oxford United",
           9
          ],
          [
           "Exeter City",
           10
          ],
          [
           "Southend United",
           11
          ],
          [
           "Rochdale",
           12
          ],
          [
           "Fleetwood Town",
           13
          ],
          [
           "Bristol Rovers",
           14
          ],
          [
           "Wycombe",
           15
          ],
          [
           "Morecambe",
           16
          ],
          [
           "York City",
           17
          ],
          [
           "Acc'ton Stanley",
           18
          ],
          [
           "Torquay United",
           19
          ],
          [
           "AFC Wimbledon",
           20
          ],
          [
           "Plymouth Argyle",
           21
          ],
          [
           "Dag & Red",
           22
          ],
          [
           "Barnet",
           23
          ],
          [
           "Aldershot Town",
           24
          ],
          [
           "Chesterfield",
           1
          ],
          [
           "Scunthorpe Utd",
           2
          ],
          [
           "Rochdale",
           3
          ],
          [
           "Fleetwood Town",
           4
          ],
          [
           "Southend United",
           5
          ],
          [
           "Burton Albion",
           6
          ],
          [
           "York City",
           7
          ],
          [
           "Oxford United",
           8
          ],
          [
           "Dag & Red",
           9
          ],
          [
           "Plymouth Argyle",
           10
          ],
          [
           "Mansfield Town",
           11
          ],
          [
           "Bury",
           12
          ],
          [
           "Portsmouth",
           13
          ],
          [
           "Newport County",
           14
          ],
          [
           "Acc'ton Stanley",
           15
          ],
          [
           "Exeter City",
           16
          ],
          [
           "Cheltenham",
           17
          ],
          [
           "Morecambe",
           18
          ],
          [
           "Hartlepool Utd",
           19
          ],
          [
           "AFC Wimbledon",
           20
          ],
          [
           "Northampton",
           21
          ],
          [
           "Wycombe",
           22
          ],
          [
           "Bristol Rovers",
           23
          ],
          [
           "Torquay United",
           24
          ],
          [
           "Burton Albion",
           1
          ],
          [
           "Shrewsbury",
           2
          ],
          [
           "Bury",
           3
          ],
          [
           "Wycombe",
           4
          ],
          [
           "Southend United",
           5
          ],
          [
           "Stevenage",
           6
          ],
          [
           "Plymouth Argyle",
           7
          ],
          [
           "Luton Town",
           8
          ],
          [
           "Newport County",
           9
          ],
          [
           "Exeter City",
           10
          ],
          [
           "Morecambe",
           11
          ],
          [
           "Northampton",
           12
          ],
          [
           "Oxford United",
           13
          ],
          [
           "Dag & Red",
           14
          ],
          [
           "AFC Wimbledon",
           15
          ],
          [
           "Portsmouth",
           16
          ],
          [
           "Acc'ton Stanley",
           17
          ],
          [
           "York City",
           18
          ],
          [
           "Cambridge Utd",
           19
          ],
          [
           "Carlisle United",
           20
          ],
          [
           "Mansfield Town",
           21
          ],
          [
           "Hartlepool Utd",
           22
          ],
          [
           "Cheltenham",
           23
          ],
          [
           "Tranmere Rovers",
           24
          ],
          [
           "Northampton",
           1
          ],
          [
           "Oxford United",
           2
          ],
          [
           "Bristol Rovers",
           3
          ],
          [
           "Acc'ton Stanley",
           4
          ],
          [
           "Plymouth Argyle",
           5
          ],
          [
           "Portsmouth",
           6
          ],
          [
           "AFC Wimbledon",
           7
          ],
          [
           "Leyton Orient",
           8
          ],
          [
           "Cambridge Utd",
           9
          ],
          [
           "Carlisle United",
           10
          ],
          [
           "Luton Town",
           11
          ],
          [
           "Mansfield Town",
           12
          ],
          [
           "Wycombe",
           13
          ],
          [
           "Exeter City",
           14
          ],
          [
           "Barnet",
           15
          ],
          [
           "Hartlepool Utd",
           16
          ],
          [
           "Notts County",
           17
          ],
          [
           "Stevenage",
           18
          ],
          [
           "Yeovil Town",
           19
          ],
          [
           "Crawley Town",
           20
          ],
          [
           "Morecambe",
           21
          ],
          [
           "Newport County",
           22
          ],
          [
           "Dag & Red",
           23
          ],
          [
           "York City",
           24
          ],
          [
           "Portsmouth",
           1
          ],
          [
           "Plymouth Argyle",
           2
          ],
          [
           "Doncaster",
           3
          ],
          [
           "Luton Town",
           4
          ],
          [
           "Exeter City",
           5
          ],
          [
           "Carlisle United",
           6
          ],
          [
           "Blackpool",
           7
          ],
          [
           "Colchester Utd",
           8
          ],
          [
           "Wycombe",
           9
          ],
          [
           "Stevenage",
           10
          ],
          [
           "Cambridge Utd",
           11
          ],
          [
           "Mansfield Town",
           12
          ],
          [
           "Acc'ton Stanley",
           13
          ],
          [
           "Grimsby Town",
           14
          ],
          [
           "Barnet",
           15
          ],
          [
           "Notts County",
           16
          ],
          [
           "Crewe Alexandra",
           17
          ],
          [
           "Morecambe",
           18
          ],
          [
           "Crawley Town",
           19
          ],
          [
           "Yeovil Town",
           20
          ],
          [
           "Cheltenham",
           21
          ],
          [
           "Newport County",
           22
          ],
          [
           "Hartlepool Utd",
           23
          ],
          [
           "Leyton Orient",
           24
          ],
          [
           "Acc'ton Stanley",
           1
          ],
          [
           "Luton Town",
           2
          ],
          [
           "Wycombe",
           3
          ],
          [
           "Exeter City",
           4
          ],
          [
           "Notts County",
           5
          ],
          [
           "Coventry City",
           6
          ],
          [
           "Lincoln City",
           7
          ],
          [
           "Mansfield Town",
           8
          ],
          [
           "Swindon Town",
           9
          ],
          [
           "Carlisle United",
           10
          ],
          [
           "Newport County",
           11
          ],
          [
           "Cambridge Utd",
           12
          ],
          [
           "Colchester Utd",
           13
          ],
          [
           "Crawley Town",
           14
          ],
          [
           "Crewe Alexandra",
           15
          ],
          [
           "Stevenage",
           16
          ],
          [
           "Cheltenham",
           17
          ],
          [
           "Grimsby Town",
           18
          ],
          [
           "Yeovil Town",
           19
          ],
          [
           "Port Vale",
           20
          ],
          [
           "FG Rovers",
           21
          ],
          [
           "Morecambe",
           22
          ],
          [
           "Barnet",
           23
          ],
          [
           "Chesterfield",
           24
          ],
          [
           "Swindon Town",
           1
          ],
          [
           "Crewe Alexandra",
           2
          ],
          [
           "Plymouth Argyle",
           3
          ],
          [
           "Cheltenham",
           4
          ],
          [
           "Exeter City",
           5
          ],
          [
           "Colchester Utd",
           6
          ],
          [
           "Northampton",
           7
          ],
          [
           "Port Vale",
           8
          ],
          [
           "Bradford City",
           9
          ],
          [
           "FG Rovers",
           10
          ],
          [
           "Salford City",
           11
          ],
          [
           "Walsall",
           12
          ],
          [
           "Crawley Town",
           13
          ],
          [
           "Newport County",
           14
          ],
          [
           "Grimsby Town",
           15
          ],
          [
           "Cambridge Utd",
           16
          ],
          [
           "Leyton Orient",
           17
          ],
          [
           "Carlisle United",
           18
          ],
          [
           "Oldham Athletic",
           19
          ],
          [
           "Scunthorpe Utd",
           20
          ],
          [
           "Mansfield Town",
           21
          ],
          [
           "Morecambe",
           22
          ],
          [
           "Stevenage",
           23
          ],
          [
           "Macclesfield",
           24
          ],
          [
           "Cheltenham",
           1
          ],
          [
           "Cambridge Utd",
           2
          ],
          [
           "Bolton",
           3
          ],
          [
           "Morecambe",
           4
          ],
          [
           "Newport County",
           5
          ],
          [
           "FG Rovers",
           6
          ],
          [
           "Tranmere Rovers",
           7
          ],
          [
           "Salford City",
           8
          ],
          [
           "Exeter City",
           9
          ],
          [
           "Carlisle United",
           10
          ],
          [
           "Leyton Orient",
           11
          ],
          [
           "Crawley Town",
           12
          ],
          [
           "Port Vale",
           13
          ],
          [
           "Stevenage",
           14
          ],
          [
           "Bradford City",
           15
          ],
          [
           "Mansfield Town",
           16
          ],
          [
           "Harrogate",
           17
          ],
          [
           "Oldham Athletic",
           18
          ],
          [
           "Walsall",
           19
          ],
          [
           "Colchester Utd",
           20
          ],
          [
           "Barrow",
           21
          ],
          [
           "Scunthorpe Utd",
           22
          ],
          [
           "Southend United",
           23
          ],
          [
           "Grimsby Town",
           24
          ],
          [
           "FG Rovers",
           1
          ],
          [
           "Exeter City",
           2
          ],
          [
           "Port Vale",
           3
          ],
          [
           "Swindon Town",
           4
          ],
          [
           "Northampton",
           5
          ],
          [
           "Leyton Orient",
           6
          ],
          [
           "Harrogate",
           7
          ],
          [
           "Newport County",
           8
          ],
          [
           "Sutton United",
           9
          ],
          [
           "Bradford City",
           10
          ],
          [
           "Tranmere Rovers",
           11
          ],
          [
           "Hartlepool Utd",
           12
          ],
          [
           "Rochdale",
           13
          ],
          [
           "Bristol Rovers",
           14
          ],
          [
           "Walsall",
           15
          ],
          [
           "Salford City",
           16
          ],
          [
           "Mansfield Town",
           17
          ],
          [
           "Crawley Town",
           18
          ],
          [
           "Barrow",
           19
          ],
          [
           "Colchester Utd",
           20
          ],
          [
           "Stevenage",
           21
          ],
          [
           "Oldham Athletic",
           22
          ],
          [
           "Carlisle United",
           23
          ],
          [
           "Scunthorpe Utd",
           24
          ]
         ],
         "hovertemplate": "SoT/90=%{x}<br>Pts=%{y}<br>Squad=%{customdata[0]}<br>Rk=%{customdata[1]}<extra></extra>",
         "legendgroup": "",
         "marker": {
          "color": "#636efa",
          "symbol": "circle"
         },
         "mode": "markers",
         "name": "",
         "orientation": "v",
         "showlegend": false,
         "type": "scatter",
         "x": [
          4.39,
          4.72,
          5.74,
          5.39,
          4.72,
          4.61,
          4.39,
          4.37,
          4.48,
          5.11,
          3.65,
          4.24,
          5.28,
          4.02,
          4.46,
          4.24,
          5.2,
          4.26,
          4.7,
          4.91,
          3.65,
          4.41,
          3.76,
          3.76,
          5.41,
          6.26,
          4.98,
          5.39,
          4.74,
          5.35,
          5.35,
          5,
          4.65,
          4.72,
          4.96,
          6.65,
          5.33,
          5.54,
          3.76,
          4.67,
          4.39,
          4.24,
          4.85,
          4.93,
          4.83,
          5.28,
          4.07,
          3.5,
          5.54,
          4.98,
          4.67,
          5.46,
          4.67,
          4.8,
          4.59,
          3.59,
          3.85,
          4.46,
          4.37,
          4.46,
          3.83,
          4.07,
          3.96,
          4.46,
          4.13,
          4.3,
          4.5,
          4,
          3.11,
          3.78,
          3.8,
          3.93,
          4.17,
          5.13,
          4.09,
          4.22,
          4.72,
          3.93,
          4.11,
          3.74,
          3.8,
          4.07,
          4.35,
          4.3,
          3.96,
          3.17,
          3.8,
          4.48,
          3.72,
          4.52,
          3.93,
          3.37,
          3.17,
          2.7,
          3.17,
          3.59,
          4.43,
          5.93,
          5.33,
          5.65,
          5.22,
          4.87,
          5,
          4.41,
          4.17,
          4.3,
          3.78,
          4.35,
          3.3,
          4.35,
          3.83,
          4.09,
          4.26,
          3.35,
          3.33,
          3.13,
          4.3,
          3.8,
          3.74,
          3.35,
          5.43,
          4.41,
          5.04,
          4.98,
          4.72,
          4.39,
          4.61,
          4.46,
          4.04,
          4.43,
          4.07,
          4.22,
          4.59,
          3.83,
          4.2,
          3.61,
          4.11,
          3.93,
          3.26,
          3.8,
          3.61,
          3.87,
          3.2,
          3.33,
          4.91,
          5.22,
          5.61,
          4.67,
          3.76,
          4.87,
          4.35,
          4.43,
          4.28,
          4.39,
          4.17,
          4.37,
          4.07,
          3.96,
          4.07,
          3.65,
          4.93,
          3.8,
          3.8,
          3.65,
          3.35,
          3.57,
          3.89,
          4.17,
          4.47,
          5.19,
          4.62,
          3.58,
          3.86,
          4.51,
          4.43,
          4.22,
          3.38,
          4.31,
          4.22,
          4.14,
          4.35,
          3.31,
          3.78,
          3.7,
          3.83,
          4.11,
          4.24,
          4.03,
          4.47,
          3.11,
          3.61,
          3.59,
          4.41,
          4.17,
          3.83,
          3.89,
          3.96,
          4.09,
          3.2,
          4.11,
          4.15,
          4.52,
          3.09,
          3.72,
          3.74,
          3.57,
          3.89,
          4.26,
          4.28,
          4.35,
          3.39,
          3.02,
          3.74,
          3.09,
          2.61,
          2.93,
          5,
          4.59,
          4.71,
          5.44,
          3.47,
          4.35,
          4.76,
          5,
          4.41,
          4,
          3.06,
          3.35,
          3.71,
          3.47,
          3.59,
          4.71,
          3.82,
          3.12,
          3.53,
          2.87,
          3.41,
          3.06,
          3.88,
          2.71
         ],
         "xaxis": "x",
         "y": [
          93,
          88,
          84,
          83,
          81,
          77,
          72,
          70,
          68,
          67,
          66,
          59,
          57,
          57,
          56,
          54,
          54,
          50,
          50,
          48,
          46,
          46,
          44,
          37,
          83,
          79,
          78,
          76,
          75,
          73,
          69,
          67,
          65,
          64,
          61,
          61,
          60,
          60,
          60,
          58,
          55,
          54,
          53,
          53,
          52,
          51,
          51,
          48,
          84,
          81,
          81,
          76,
          72,
          72,
          71,
          62,
          60,
          60,
          60,
          59,
          59,
          58,
          57,
          55,
          55,
          54,
          53,
          53,
          53,
          50,
          50,
          45,
          94,
          89,
          85,
          84,
          84,
          72,
          71,
          68,
          65,
          64,
          63,
          61,
          61,
          59,
          58,
          57,
          56,
          52,
          51,
          50,
          48,
          45,
          41,
          39,
          99,
          86,
          85,
          85,
          81,
          78,
          75,
          69,
          68,
          67,
          66,
          64,
          64,
          64,
          62,
          51,
          51,
          48,
          48,
          47,
          46,
          43,
          34,
          34,
          87,
          87,
          85,
          77,
          71,
          71,
          70,
          69,
          69,
          67,
          66,
          66,
          65,
          62,
          57,
          56,
          55,
          52,
          51,
          50,
          50,
          48,
          46,
          36,
          93,
          88,
          84,
          80,
          77,
          75,
          75,
          72,
          68,
          67,
          64,
          64,
          62,
          59,
          56,
          55,
          51,
          51,
          48,
          47,
          47,
          46,
          46,
          38,
          69,
          69,
          68,
          64,
          65,
          58,
          58,
          57,
          54,
          49,
          50,
          47,
          48,
          46,
          47,
          45,
          42,
          42,
          41,
          40,
          38,
          32,
          22,
          19,
          82,
          80,
          79,
          78,
          73,
          73,
          73,
          71,
          70,
          66,
          61,
          61,
          60,
          60,
          59,
          58,
          57,
          54,
          53,
          51,
          50,
          48,
          45,
          43,
          34,
          32,
          29,
          29,
          28,
          27,
          26,
          26,
          26,
          23,
          23,
          23,
          22,
          22,
          21,
          20,
          20,
          20,
          19,
          17,
          17,
          15,
          13,
          12
         ],
         "yaxis": "y"
        },
        {
         "hovertemplate": "<b>OLS trendline</b><br>Pts = 13.2935 * SoT/90 + 1.41669<br>R<sup>2</sup>=0.257738<br><br>SoT/90=%{x}<br>Pts=%{y} <b>(trend)</b><extra></extra>",
         "legendgroup": "",
         "marker": {
          "color": "#636efa",
          "symbol": "circle"
         },
         "mode": "lines",
         "name": "",
         "showlegend": false,
         "type": "scatter",
         "x": [
          2.61,
          2.7,
          2.71,
          2.87,
          2.93,
          3.02,
          3.06,
          3.06,
          3.09,
          3.09,
          3.11,
          3.11,
          3.12,
          3.13,
          3.17,
          3.17,
          3.17,
          3.2,
          3.2,
          3.26,
          3.3,
          3.31,
          3.33,
          3.33,
          3.35,
          3.35,
          3.35,
          3.35,
          3.37,
          3.38,
          3.39,
          3.41,
          3.47,
          3.47,
          3.5,
          3.53,
          3.57,
          3.57,
          3.58,
          3.59,
          3.59,
          3.59,
          3.59,
          3.61,
          3.61,
          3.61,
          3.65,
          3.65,
          3.65,
          3.65,
          3.7,
          3.71,
          3.72,
          3.72,
          3.74,
          3.74,
          3.74,
          3.74,
          3.76,
          3.76,
          3.76,
          3.76,
          3.78,
          3.78,
          3.78,
          3.8,
          3.8,
          3.8,
          3.8,
          3.8,
          3.8,
          3.8,
          3.82,
          3.83,
          3.83,
          3.83,
          3.83,
          3.83,
          3.85,
          3.86,
          3.87,
          3.88,
          3.89,
          3.89,
          3.89,
          3.93,
          3.93,
          3.93,
          3.93,
          3.96,
          3.96,
          3.96,
          3.96,
          4,
          4,
          4.02,
          4.03,
          4.04,
          4.07,
          4.07,
          4.07,
          4.07,
          4.07,
          4.07,
          4.09,
          4.09,
          4.09,
          4.11,
          4.11,
          4.11,
          4.11,
          4.13,
          4.14,
          4.15,
          4.17,
          4.17,
          4.17,
          4.17,
          4.17,
          4.2,
          4.22,
          4.22,
          4.22,
          4.22,
          4.24,
          4.24,
          4.24,
          4.24,
          4.26,
          4.26,
          4.26,
          4.28,
          4.28,
          4.3,
          4.3,
          4.3,
          4.3,
          4.31,
          4.35,
          4.35,
          4.35,
          4.35,
          4.35,
          4.35,
          4.35,
          4.37,
          4.37,
          4.37,
          4.39,
          4.39,
          4.39,
          4.39,
          4.39,
          4.41,
          4.41,
          4.41,
          4.41,
          4.41,
          4.43,
          4.43,
          4.43,
          4.43,
          4.46,
          4.46,
          4.46,
          4.46,
          4.46,
          4.47,
          4.47,
          4.48,
          4.48,
          4.5,
          4.51,
          4.52,
          4.52,
          4.59,
          4.59,
          4.59,
          4.61,
          4.61,
          4.62,
          4.65,
          4.67,
          4.67,
          4.67,
          4.67,
          4.7,
          4.71,
          4.71,
          4.72,
          4.72,
          4.72,
          4.72,
          4.72,
          4.74,
          4.76,
          4.8,
          4.83,
          4.85,
          4.87,
          4.87,
          4.91,
          4.91,
          4.93,
          4.93,
          4.96,
          4.98,
          4.98,
          4.98,
          5,
          5,
          5,
          5,
          5.04,
          5.11,
          5.13,
          5.19,
          5.2,
          5.22,
          5.22,
          5.28,
          5.28,
          5.33,
          5.33,
          5.35,
          5.35,
          5.39,
          5.39,
          5.41,
          5.43,
          5.44,
          5.46,
          5.54,
          5.54,
          5.61,
          5.65,
          5.74,
          5.93,
          6.26,
          6.65
         ],
         "xaxis": "x",
         "y": [
          36.11264899386475,
          37.309061273366986,
          37.441995971089455,
          39.56895113464898,
          40.3665593209838,
          41.56297160048602,
          42.094710391375905,
          42.094710391375905,
          42.49351448454331,
          42.49351448454331,
          42.759383879988256,
          42.759383879988256,
          42.892318577710725,
          43.025253275433194,
          43.556992066323076,
          43.556992066323076,
          43.556992066323076,
          43.95579615949049,
          43.95579615949049,
          44.7534043458253,
          45.285143136715185,
          45.41807783443765,
          45.6839472298826,
          45.6839472298826,
          45.949816625327536,
          45.949816625327536,
          45.949816625327536,
          45.949816625327536,
          46.21568602077247,
          46.34862071849494,
          46.48155541621742,
          46.747424811662356,
          47.545032997997176,
          47.545032997997176,
          47.94383709116459,
          48.342641184331995,
          48.87437997522187,
          48.87437997522187,
          49.00731467294435,
          49.140249370666815,
          49.140249370666815,
          49.140249370666815,
          49.140249370666815,
          49.40611876611175,
          49.40611876611175,
          49.40611876611175,
          49.937857557001635,
          49.937857557001635,
          49.937857557001635,
          49.937857557001635,
          50.602531045613986,
          50.735465743336455,
          50.86840044105893,
          50.86840044105893,
          51.13426983650387,
          51.13426983650387,
          51.13426983650387,
          51.13426983650387,
          51.400139231948806,
          51.400139231948806,
          51.400139231948806,
          51.400139231948806,
          51.666008627393744,
          51.666008627393744,
          51.666008627393744,
          51.93187802283868,
          51.93187802283868,
          51.93187802283868,
          51.93187802283868,
          51.93187802283868,
          51.93187802283868,
          51.93187802283868,
          52.197747418283626,
          52.330682116006095,
          52.330682116006095,
          52.330682116006095,
          52.330682116006095,
          52.330682116006095,
          52.59655151145104,
          52.7294862091735,
          52.86242090689598,
          52.995355604618446,
          53.128290302340915,
          53.128290302340915,
          53.128290302340915,
          53.6600290932308,
          53.6600290932308,
          53.6600290932308,
          53.6600290932308,
          54.0588331863982,
          54.0588331863982,
          54.0588331863982,
          54.0588331863982,
          54.590571977288086,
          54.590571977288086,
          54.85644137273302,
          54.9893760704555,
          55.12231076817797,
          55.52111486134538,
          55.52111486134538,
          55.52111486134538,
          55.52111486134538,
          55.52111486134538,
          55.52111486134538,
          55.78698425679031,
          55.78698425679031,
          55.78698425679031,
          56.05285365223526,
          56.05285365223526,
          56.05285365223526,
          56.05285365223526,
          56.318723047680194,
          56.45165774540266,
          56.58459244312514,
          56.85046183857008,
          56.85046183857008,
          56.85046183857008,
          56.85046183857008,
          56.85046183857008,
          57.24926593173749,
          57.51513532718242,
          57.51513532718242,
          57.51513532718242,
          57.51513532718242,
          57.781004722627365,
          57.781004722627365,
          57.781004722627365,
          57.781004722627365,
          58.0468741180723,
          58.0468741180723,
          58.0468741180723,
          58.31274351351725,
          58.31274351351725,
          58.578612908962185,
          58.578612908962185,
          58.578612908962185,
          58.578612908962185,
          58.711547606684654,
          59.24328639757453,
          59.24328639757453,
          59.24328639757453,
          59.24328639757453,
          59.24328639757453,
          59.24328639757453,
          59.24328639757453,
          59.509155793019474,
          59.509155793019474,
          59.509155793019474,
          59.77502518846441,
          59.77502518846441,
          59.77502518846441,
          59.77502518846441,
          59.77502518846441,
          60.040894583909356,
          60.040894583909356,
          60.040894583909356,
          60.040894583909356,
          60.040894583909356,
          60.306763979354294,
          60.306763979354294,
          60.306763979354294,
          60.306763979354294,
          60.70556807252171,
          60.70556807252171,
          60.70556807252171,
          60.70556807252171,
          60.70556807252171,
          60.838502770244176,
          60.838502770244176,
          60.97143746796665,
          60.97143746796665,
          61.23730686341158,
          61.37024156113405,
          61.50317625885652,
          61.50317625885652,
          62.433719142913816,
          62.433719142913816,
          62.433719142913816,
          62.69958853835876,
          62.69958853835876,
          62.83252323608123,
          63.23132732924864,
          63.49719672469357,
          63.49719672469357,
          63.49719672469357,
          63.49719672469357,
          63.89600081786099,
          64.02893551558346,
          64.02893551558346,
          64.16187021330592,
          64.16187021330592,
          64.16187021330592,
          64.16187021330592,
          64.16187021330592,
          64.42773960875087,
          64.6936090041958,
          65.22534779508568,
          65.6241518882531,
          65.89002128369802,
          66.15589067914297,
          66.15589067914297,
          66.68762947003285,
          66.68762947003285,
          66.95349886547778,
          66.95349886547778,
          67.3523029586452,
          67.61817235409015,
          67.61817235409015,
          67.61817235409015,
          67.88404174953507,
          67.88404174953507,
          67.88404174953507,
          67.88404174953507,
          68.41578054042496,
          69.34632342448225,
          69.61219281992719,
          70.40980100626201,
          70.54273570398448,
          70.80860509942941,
          70.80860509942941,
          71.60621328576424,
          71.60621328576424,
          72.27088677437659,
          72.27088677437659,
          72.53675616982153,
          72.53675616982153,
          73.0684949607114,
          73.0684949607114,
          73.33436435615636,
          73.60023375160128,
          73.73316844932377,
          73.9990378447687,
          75.06251542654846,
          75.06251542654846,
          75.99305831060575,
          76.52479710149564,
          77.72120938099786,
          80.24696863772479,
          84.6338136625663,
          89.81826687374263
         ],
         "yaxis": "y"
        }
       ],
       "layout": {
        "legend": {
         "tracegroupgap": 0
        },
        "margin": {
         "t": 60
        },
        "template": {
         "data": {
          "bar": [
           {
            "error_x": {
             "color": "#2a3f5f"
            },
            "error_y": {
             "color": "#2a3f5f"
            },
            "marker": {
             "line": {
              "color": "#E5ECF6",
              "width": 0.5
             },
             "pattern": {
              "fillmode": "overlay",
              "size": 10,
              "solidity": 0.2
             }
            },
            "type": "bar"
           }
          ],
          "barpolar": [
           {
            "marker": {
             "line": {
              "color": "#E5ECF6",
              "width": 0.5
             },
             "pattern": {
              "fillmode": "overlay",
              "size": 10,
              "solidity": 0.2
             }
            },
            "type": "barpolar"
           }
          ],
          "carpet": [
           {
            "aaxis": {
             "endlinecolor": "#2a3f5f",
             "gridcolor": "white",
             "linecolor": "white",
             "minorgridcolor": "white",
             "startlinecolor": "#2a3f5f"
            },
            "baxis": {
             "endlinecolor": "#2a3f5f",
             "gridcolor": "white",
             "linecolor": "white",
             "minorgridcolor": "white",
             "startlinecolor": "#2a3f5f"
            },
            "type": "carpet"
           }
          ],
          "choropleth": [
           {
            "colorbar": {
             "outlinewidth": 0,
             "ticks": ""
            },
            "type": "choropleth"
           }
          ],
          "contour": [
           {
            "colorbar": {
             "outlinewidth": 0,
             "ticks": ""
            },
            "colorscale": [
             [
              0,
              "#0d0887"
             ],
             [
              0.1111111111111111,
              "#46039f"
             ],
             [
              0.2222222222222222,
              "#7201a8"
             ],
             [
              0.3333333333333333,
              "#9c179e"
             ],
             [
              0.4444444444444444,
              "#bd3786"
             ],
             [
              0.5555555555555556,
              "#d8576b"
             ],
             [
              0.6666666666666666,
              "#ed7953"
             ],
             [
              0.7777777777777778,
              "#fb9f3a"
             ],
             [
              0.8888888888888888,
              "#fdca26"
             ],
             [
              1,
              "#f0f921"
             ]
            ],
            "type": "contour"
           }
          ],
          "contourcarpet": [
           {
            "colorbar": {
             "outlinewidth": 0,
             "ticks": ""
            },
            "type": "contourcarpet"
           }
          ],
          "heatmap": [
           {
            "colorbar": {
             "outlinewidth": 0,
             "ticks": ""
            },
            "colorscale": [
             [
              0,
              "#0d0887"
             ],
             [
              0.1111111111111111,
              "#46039f"
             ],
             [
              0.2222222222222222,
              "#7201a8"
             ],
             [
              0.3333333333333333,
              "#9c179e"
             ],
             [
              0.4444444444444444,
              "#bd3786"
             ],
             [
              0.5555555555555556,
              "#d8576b"
             ],
             [
              0.6666666666666666,
              "#ed7953"
             ],
             [
              0.7777777777777778,
              "#fb9f3a"
             ],
             [
              0.8888888888888888,
              "#fdca26"
             ],
             [
              1,
              "#f0f921"
             ]
            ],
            "type": "heatmap"
           }
          ],
          "heatmapgl": [
           {
            "colorbar": {
             "outlinewidth": 0,
             "ticks": ""
            },
            "colorscale": [
             [
              0,
              "#0d0887"
             ],
             [
              0.1111111111111111,
              "#46039f"
             ],
             [
              0.2222222222222222,
              "#7201a8"
             ],
             [
              0.3333333333333333,
              "#9c179e"
             ],
             [
              0.4444444444444444,
              "#bd3786"
             ],
             [
              0.5555555555555556,
              "#d8576b"
             ],
             [
              0.6666666666666666,
              "#ed7953"
             ],
             [
              0.7777777777777778,
              "#fb9f3a"
             ],
             [
              0.8888888888888888,
              "#fdca26"
             ],
             [
              1,
              "#f0f921"
             ]
            ],
            "type": "heatmapgl"
           }
          ],
          "histogram": [
           {
            "marker": {
             "pattern": {
              "fillmode": "overlay",
              "size": 10,
              "solidity": 0.2
             }
            },
            "type": "histogram"
           }
          ],
          "histogram2d": [
           {
            "colorbar": {
             "outlinewidth": 0,
             "ticks": ""
            },
            "colorscale": [
             [
              0,
              "#0d0887"
             ],
             [
              0.1111111111111111,
              "#46039f"
             ],
             [
              0.2222222222222222,
              "#7201a8"
             ],
             [
              0.3333333333333333,
              "#9c179e"
             ],
             [
              0.4444444444444444,
              "#bd3786"
             ],
             [
              0.5555555555555556,
              "#d8576b"
             ],
             [
              0.6666666666666666,
              "#ed7953"
             ],
             [
              0.7777777777777778,
              "#fb9f3a"
             ],
             [
              0.8888888888888888,
              "#fdca26"
             ],
             [
              1,
              "#f0f921"
             ]
            ],
            "type": "histogram2d"
           }
          ],
          "histogram2dcontour": [
           {
            "colorbar": {
             "outlinewidth": 0,
             "ticks": ""
            },
            "colorscale": [
             [
              0,
              "#0d0887"
             ],
             [
              0.1111111111111111,
              "#46039f"
             ],
             [
              0.2222222222222222,
              "#7201a8"
             ],
             [
              0.3333333333333333,
              "#9c179e"
             ],
             [
              0.4444444444444444,
              "#bd3786"
             ],
             [
              0.5555555555555556,
              "#d8576b"
             ],
             [
              0.6666666666666666,
              "#ed7953"
             ],
             [
              0.7777777777777778,
              "#fb9f3a"
             ],
             [
              0.8888888888888888,
              "#fdca26"
             ],
             [
              1,
              "#f0f921"
             ]
            ],
            "type": "histogram2dcontour"
           }
          ],
          "mesh3d": [
           {
            "colorbar": {
             "outlinewidth": 0,
             "ticks": ""
            },
            "type": "mesh3d"
           }
          ],
          "parcoords": [
           {
            "line": {
             "colorbar": {
              "outlinewidth": 0,
              "ticks": ""
             }
            },
            "type": "parcoords"
           }
          ],
          "pie": [
           {
            "automargin": true,
            "type": "pie"
           }
          ],
          "scatter": [
           {
            "marker": {
             "colorbar": {
              "outlinewidth": 0,
              "ticks": ""
             }
            },
            "type": "scatter"
           }
          ],
          "scatter3d": [
           {
            "line": {
             "colorbar": {
              "outlinewidth": 0,
              "ticks": ""
             }
            },
            "marker": {
             "colorbar": {
              "outlinewidth": 0,
              "ticks": ""
             }
            },
            "type": "scatter3d"
           }
          ],
          "scattercarpet": [
           {
            "marker": {
             "colorbar": {
              "outlinewidth": 0,
              "ticks": ""
             }
            },
            "type": "scattercarpet"
           }
          ],
          "scattergeo": [
           {
            "marker": {
             "colorbar": {
              "outlinewidth": 0,
              "ticks": ""
             }
            },
            "type": "scattergeo"
           }
          ],
          "scattergl": [
           {
            "marker": {
             "colorbar": {
              "outlinewidth": 0,
              "ticks": ""
             }
            },
            "type": "scattergl"
           }
          ],
          "scattermapbox": [
           {
            "marker": {
             "colorbar": {
              "outlinewidth": 0,
              "ticks": ""
             }
            },
            "type": "scattermapbox"
           }
          ],
          "scatterpolar": [
           {
            "marker": {
             "colorbar": {
              "outlinewidth": 0,
              "ticks": ""
             }
            },
            "type": "scatterpolar"
           }
          ],
          "scatterpolargl": [
           {
            "marker": {
             "colorbar": {
              "outlinewidth": 0,
              "ticks": ""
             }
            },
            "type": "scatterpolargl"
           }
          ],
          "scatterternary": [
           {
            "marker": {
             "colorbar": {
              "outlinewidth": 0,
              "ticks": ""
             }
            },
            "type": "scatterternary"
           }
          ],
          "surface": [
           {
            "colorbar": {
             "outlinewidth": 0,
             "ticks": ""
            },
            "colorscale": [
             [
              0,
              "#0d0887"
             ],
             [
              0.1111111111111111,
              "#46039f"
             ],
             [
              0.2222222222222222,
              "#7201a8"
             ],
             [
              0.3333333333333333,
              "#9c179e"
             ],
             [
              0.4444444444444444,
              "#bd3786"
             ],
             [
              0.5555555555555556,
              "#d8576b"
             ],
             [
              0.6666666666666666,
              "#ed7953"
             ],
             [
              0.7777777777777778,
              "#fb9f3a"
             ],
             [
              0.8888888888888888,
              "#fdca26"
             ],
             [
              1,
              "#f0f921"
             ]
            ],
            "type": "surface"
           }
          ],
          "table": [
           {
            "cells": {
             "fill": {
              "color": "#EBF0F8"
             },
             "line": {
              "color": "white"
             }
            },
            "header": {
             "fill": {
              "color": "#C8D4E3"
             },
             "line": {
              "color": "white"
             }
            },
            "type": "table"
           }
          ]
         },
         "layout": {
          "annotationdefaults": {
           "arrowcolor": "#2a3f5f",
           "arrowhead": 0,
           "arrowwidth": 1
          },
          "autotypenumbers": "strict",
          "coloraxis": {
           "colorbar": {
            "outlinewidth": 0,
            "ticks": ""
           }
          },
          "colorscale": {
           "diverging": [
            [
             0,
             "#8e0152"
            ],
            [
             0.1,
             "#c51b7d"
            ],
            [
             0.2,
             "#de77ae"
            ],
            [
             0.3,
             "#f1b6da"
            ],
            [
             0.4,
             "#fde0ef"
            ],
            [
             0.5,
             "#f7f7f7"
            ],
            [
             0.6,
             "#e6f5d0"
            ],
            [
             0.7,
             "#b8e186"
            ],
            [
             0.8,
             "#7fbc41"
            ],
            [
             0.9,
             "#4d9221"
            ],
            [
             1,
             "#276419"
            ]
           ],
           "sequential": [
            [
             0,
             "#0d0887"
            ],
            [
             0.1111111111111111,
             "#46039f"
            ],
            [
             0.2222222222222222,
             "#7201a8"
            ],
            [
             0.3333333333333333,
             "#9c179e"
            ],
            [
             0.4444444444444444,
             "#bd3786"
            ],
            [
             0.5555555555555556,
             "#d8576b"
            ],
            [
             0.6666666666666666,
             "#ed7953"
            ],
            [
             0.7777777777777778,
             "#fb9f3a"
            ],
            [
             0.8888888888888888,
             "#fdca26"
            ],
            [
             1,
             "#f0f921"
            ]
           ],
           "sequentialminus": [
            [
             0,
             "#0d0887"
            ],
            [
             0.1111111111111111,
             "#46039f"
            ],
            [
             0.2222222222222222,
             "#7201a8"
            ],
            [
             0.3333333333333333,
             "#9c179e"
            ],
            [
             0.4444444444444444,
             "#bd3786"
            ],
            [
             0.5555555555555556,
             "#d8576b"
            ],
            [
             0.6666666666666666,
             "#ed7953"
            ],
            [
             0.7777777777777778,
             "#fb9f3a"
            ],
            [
             0.8888888888888888,
             "#fdca26"
            ],
            [
             1,
             "#f0f921"
            ]
           ]
          },
          "colorway": [
           "#636efa",
           "#EF553B",
           "#00cc96",
           "#ab63fa",
           "#FFA15A",
           "#19d3f3",
           "#FF6692",
           "#B6E880",
           "#FF97FF",
           "#FECB52"
          ],
          "font": {
           "color": "#2a3f5f"
          },
          "geo": {
           "bgcolor": "white",
           "lakecolor": "white",
           "landcolor": "#E5ECF6",
           "showlakes": true,
           "showland": true,
           "subunitcolor": "white"
          },
          "hoverlabel": {
           "align": "left"
          },
          "hovermode": "closest",
          "mapbox": {
           "style": "light"
          },
          "paper_bgcolor": "white",
          "plot_bgcolor": "#E5ECF6",
          "polar": {
           "angularaxis": {
            "gridcolor": "white",
            "linecolor": "white",
            "ticks": ""
           },
           "bgcolor": "#E5ECF6",
           "radialaxis": {
            "gridcolor": "white",
            "linecolor": "white",
            "ticks": ""
           }
          },
          "scene": {
           "xaxis": {
            "backgroundcolor": "#E5ECF6",
            "gridcolor": "white",
            "gridwidth": 2,
            "linecolor": "white",
            "showbackground": true,
            "ticks": "",
            "zerolinecolor": "white"
           },
           "yaxis": {
            "backgroundcolor": "#E5ECF6",
            "gridcolor": "white",
            "gridwidth": 2,
            "linecolor": "white",
            "showbackground": true,
            "ticks": "",
            "zerolinecolor": "white"
           },
           "zaxis": {
            "backgroundcolor": "#E5ECF6",
            "gridcolor": "white",
            "gridwidth": 2,
            "linecolor": "white",
            "showbackground": true,
            "ticks": "",
            "zerolinecolor": "white"
           }
          },
          "shapedefaults": {
           "line": {
            "color": "#2a3f5f"
           }
          },
          "ternary": {
           "aaxis": {
            "gridcolor": "white",
            "linecolor": "white",
            "ticks": ""
           },
           "baxis": {
            "gridcolor": "white",
            "linecolor": "white",
            "ticks": ""
           },
           "bgcolor": "#E5ECF6",
           "caxis": {
            "gridcolor": "white",
            "linecolor": "white",
            "ticks": ""
           }
          },
          "title": {
           "x": 0.05
          },
          "xaxis": {
           "automargin": true,
           "gridcolor": "white",
           "linecolor": "white",
           "ticks": "",
           "title": {
            "standoff": 15
           },
           "zerolinecolor": "white",
           "zerolinewidth": 2
          },
          "yaxis": {
           "automargin": true,
           "gridcolor": "white",
           "linecolor": "white",
           "ticks": "",
           "title": {
            "standoff": 15
           },
           "zerolinecolor": "white",
           "zerolinewidth": 2
          }
         }
        },
        "xaxis": {
         "anchor": "y",
         "domain": [
          0,
          1
         ],
         "title": {
          "text": "SoT/90"
         }
        },
        "yaxis": {
         "anchor": "x",
         "domain": [
          0,
          1
         ],
         "title": {
          "text": "Pts"
         }
        }
       }
      },
      "text/html": [
       "<div>                            <div id=\"c8b4cfc6-a966-463c-bca3-122c76577410\" class=\"plotly-graph-div\" style=\"height:525px; width:100%;\"></div>            <script type=\"text/javascript\">                require([\"plotly\"], function(Plotly) {                    window.PLOTLYENV=window.PLOTLYENV || {};                                    if (document.getElementById(\"c8b4cfc6-a966-463c-bca3-122c76577410\")) {                    Plotly.newPlot(                        \"c8b4cfc6-a966-463c-bca3-122c76577410\",                        [{\"customdata\":[[\"Swindon Town\",1],[\"Shrewsbury\",2],[\"Crawley Town\",3],[\"Southend United\",4],[\"Torquay United\",5],[\"Cheltenham\",6],[\"Crewe Alexandra\",7],[\"Gillingham\",8],[\"Oxford United\",9],[\"Rotherham Utd\",10],[\"Aldershot Town\",11],[\"Port Vale\",12],[\"Bristol Rovers\",13],[\"Acc'ton Stanley\",14],[\"Morecambe\",15],[\"AFC Wimbledon\",16],[\"Burton Albion\",17],[\"Bradford City\",18],[\"Dag & Red\",19],[\"Northampton\",20],[\"Plymouth Argyle\",21],[\"Barnet\",22],[\"Hereford United\",23],[\"Macclesfield\",24],[\"Gillingham\",1],[\"Rotherham Utd\",2],[\"Port Vale\",3],[\"Burton Albion\",4],[\"Cheltenham\",5],[\"Northampton\",6],[\"Bradford City\",7],[\"Chesterfield\",8],[\"Oxford United\",9],[\"Exeter City\",10],[\"Southend United\",11],[\"Rochdale\",12],[\"Fleetwood Town\",13],[\"Bristol Rovers\",14],[\"Wycombe\",15],[\"Morecambe\",16],[\"York City\",17],[\"Acc'ton Stanley\",18],[\"Torquay United\",19],[\"AFC Wimbledon\",20],[\"Plymouth Argyle\",21],[\"Dag & Red\",22],[\"Barnet\",23],[\"Aldershot Town\",24],[\"Chesterfield\",1],[\"Scunthorpe Utd\",2],[\"Rochdale\",3],[\"Fleetwood Town\",4],[\"Southend United\",5],[\"Burton Albion\",6],[\"York City\",7],[\"Oxford United\",8],[\"Dag & Red\",9],[\"Plymouth Argyle\",10],[\"Mansfield Town\",11],[\"Bury\",12],[\"Portsmouth\",13],[\"Newport County\",14],[\"Acc'ton Stanley\",15],[\"Exeter City\",16],[\"Cheltenham\",17],[\"Morecambe\",18],[\"Hartlepool Utd\",19],[\"AFC Wimbledon\",20],[\"Northampton\",21],[\"Wycombe\",22],[\"Bristol Rovers\",23],[\"Torquay United\",24],[\"Burton Albion\",1],[\"Shrewsbury\",2],[\"Bury\",3],[\"Wycombe\",4],[\"Southend United\",5],[\"Stevenage\",6],[\"Plymouth Argyle\",7],[\"Luton Town\",8],[\"Newport County\",9],[\"Exeter City\",10],[\"Morecambe\",11],[\"Northampton\",12],[\"Oxford United\",13],[\"Dag & Red\",14],[\"AFC Wimbledon\",15],[\"Portsmouth\",16],[\"Acc'ton Stanley\",17],[\"York City\",18],[\"Cambridge Utd\",19],[\"Carlisle United\",20],[\"Mansfield Town\",21],[\"Hartlepool Utd\",22],[\"Cheltenham\",23],[\"Tranmere Rovers\",24],[\"Northampton\",1],[\"Oxford United\",2],[\"Bristol Rovers\",3],[\"Acc'ton Stanley\",4],[\"Plymouth Argyle\",5],[\"Portsmouth\",6],[\"AFC Wimbledon\",7],[\"Leyton Orient\",8],[\"Cambridge Utd\",9],[\"Carlisle United\",10],[\"Luton Town\",11],[\"Mansfield Town\",12],[\"Wycombe\",13],[\"Exeter City\",14],[\"Barnet\",15],[\"Hartlepool Utd\",16],[\"Notts County\",17],[\"Stevenage\",18],[\"Yeovil Town\",19],[\"Crawley Town\",20],[\"Morecambe\",21],[\"Newport County\",22],[\"Dag & Red\",23],[\"York City\",24],[\"Portsmouth\",1],[\"Plymouth Argyle\",2],[\"Doncaster\",3],[\"Luton Town\",4],[\"Exeter City\",5],[\"Carlisle United\",6],[\"Blackpool\",7],[\"Colchester Utd\",8],[\"Wycombe\",9],[\"Stevenage\",10],[\"Cambridge Utd\",11],[\"Mansfield Town\",12],[\"Acc'ton Stanley\",13],[\"Grimsby Town\",14],[\"Barnet\",15],[\"Notts County\",16],[\"Crewe Alexandra\",17],[\"Morecambe\",18],[\"Crawley Town\",19],[\"Yeovil Town\",20],[\"Cheltenham\",21],[\"Newport County\",22],[\"Hartlepool Utd\",23],[\"Leyton Orient\",24],[\"Acc'ton Stanley\",1],[\"Luton Town\",2],[\"Wycombe\",3],[\"Exeter City\",4],[\"Notts County\",5],[\"Coventry City\",6],[\"Lincoln City\",7],[\"Mansfield Town\",8],[\"Swindon Town\",9],[\"Carlisle United\",10],[\"Newport County\",11],[\"Cambridge Utd\",12],[\"Colchester Utd\",13],[\"Crawley Town\",14],[\"Crewe Alexandra\",15],[\"Stevenage\",16],[\"Cheltenham\",17],[\"Grimsby Town\",18],[\"Yeovil Town\",19],[\"Port Vale\",20],[\"FG Rovers\",21],[\"Morecambe\",22],[\"Barnet\",23],[\"Chesterfield\",24],[\"Swindon Town\",1],[\"Crewe Alexandra\",2],[\"Plymouth Argyle\",3],[\"Cheltenham\",4],[\"Exeter City\",5],[\"Colchester Utd\",6],[\"Northampton\",7],[\"Port Vale\",8],[\"Bradford City\",9],[\"FG Rovers\",10],[\"Salford City\",11],[\"Walsall\",12],[\"Crawley Town\",13],[\"Newport County\",14],[\"Grimsby Town\",15],[\"Cambridge Utd\",16],[\"Leyton Orient\",17],[\"Carlisle United\",18],[\"Oldham Athletic\",19],[\"Scunthorpe Utd\",20],[\"Mansfield Town\",21],[\"Morecambe\",22],[\"Stevenage\",23],[\"Macclesfield\",24],[\"Cheltenham\",1],[\"Cambridge Utd\",2],[\"Bolton\",3],[\"Morecambe\",4],[\"Newport County\",5],[\"FG Rovers\",6],[\"Tranmere Rovers\",7],[\"Salford City\",8],[\"Exeter City\",9],[\"Carlisle United\",10],[\"Leyton Orient\",11],[\"Crawley Town\",12],[\"Port Vale\",13],[\"Stevenage\",14],[\"Bradford City\",15],[\"Mansfield Town\",16],[\"Harrogate\",17],[\"Oldham Athletic\",18],[\"Walsall\",19],[\"Colchester Utd\",20],[\"Barrow\",21],[\"Scunthorpe Utd\",22],[\"Southend United\",23],[\"Grimsby Town\",24],[\"FG Rovers\",1],[\"Exeter City\",2],[\"Port Vale\",3],[\"Swindon Town\",4],[\"Northampton\",5],[\"Leyton Orient\",6],[\"Harrogate\",7],[\"Newport County\",8],[\"Sutton United\",9],[\"Bradford City\",10],[\"Tranmere Rovers\",11],[\"Hartlepool Utd\",12],[\"Rochdale\",13],[\"Bristol Rovers\",14],[\"Walsall\",15],[\"Salford City\",16],[\"Mansfield Town\",17],[\"Crawley Town\",18],[\"Barrow\",19],[\"Colchester Utd\",20],[\"Stevenage\",21],[\"Oldham Athletic\",22],[\"Carlisle United\",23],[\"Scunthorpe Utd\",24]],\"hovertemplate\":\"SoT/90=%{x}<br>Pts=%{y}<br>Squad=%{customdata[0]}<br>Rk=%{customdata[1]}<extra></extra>\",\"legendgroup\":\"\",\"marker\":{\"color\":\"#636efa\",\"symbol\":\"circle\"},\"mode\":\"markers\",\"name\":\"\",\"orientation\":\"v\",\"showlegend\":false,\"type\":\"scatter\",\"x\":[4.39,4.72,5.74,5.39,4.72,4.61,4.39,4.37,4.48,5.11,3.65,4.24,5.28,4.02,4.46,4.24,5.2,4.26,4.7,4.91,3.65,4.41,3.76,3.76,5.41,6.26,4.98,5.39,4.74,5.35,5.35,5.0,4.65,4.72,4.96,6.65,5.33,5.54,3.76,4.67,4.39,4.24,4.85,4.93,4.83,5.28,4.07,3.5,5.54,4.98,4.67,5.46,4.67,4.8,4.59,3.59,3.85,4.46,4.37,4.46,3.83,4.07,3.96,4.46,4.13,4.3,4.5,4.0,3.11,3.78,3.8,3.93,4.17,5.13,4.09,4.22,4.72,3.93,4.11,3.74,3.8,4.07,4.35,4.3,3.96,3.17,3.8,4.48,3.72,4.52,3.93,3.37,3.17,2.7,3.17,3.59,4.43,5.93,5.33,5.65,5.22,4.87,5.0,4.41,4.17,4.3,3.78,4.35,3.3,4.35,3.83,4.09,4.26,3.35,3.33,3.13,4.3,3.8,3.74,3.35,5.43,4.41,5.04,4.98,4.72,4.39,4.61,4.46,4.04,4.43,4.07,4.22,4.59,3.83,4.2,3.61,4.11,3.93,3.26,3.8,3.61,3.87,3.2,3.33,4.91,5.22,5.61,4.67,3.76,4.87,4.35,4.43,4.28,4.39,4.17,4.37,4.07,3.96,4.07,3.65,4.93,3.8,3.8,3.65,3.35,3.57,3.89,4.17,4.47,5.19,4.62,3.58,3.86,4.51,4.43,4.22,3.38,4.31,4.22,4.14,4.35,3.31,3.78,3.7,3.83,4.11,4.24,4.03,4.47,3.11,3.61,3.59,4.41,4.17,3.83,3.89,3.96,4.09,3.2,4.11,4.15,4.52,3.09,3.72,3.74,3.57,3.89,4.26,4.28,4.35,3.39,3.02,3.74,3.09,2.61,2.93,5.0,4.59,4.71,5.44,3.47,4.35,4.76,5.0,4.41,4.0,3.06,3.35,3.71,3.47,3.59,4.71,3.82,3.12,3.53,2.87,3.41,3.06,3.88,2.71],\"xaxis\":\"x\",\"y\":[93,88,84,83,81,77,72,70,68,67,66,59,57,57,56,54,54,50,50,48,46,46,44,37,83,79,78,76,75,73,69,67,65,64,61,61,60,60,60,58,55,54,53,53,52,51,51,48,84,81,81,76,72,72,71,62,60,60,60,59,59,58,57,55,55,54,53,53,53,50,50,45,94,89,85,84,84,72,71,68,65,64,63,61,61,59,58,57,56,52,51,50,48,45,41,39,99,86,85,85,81,78,75,69,68,67,66,64,64,64,62,51,51,48,48,47,46,43,34,34,87,87,85,77,71,71,70,69,69,67,66,66,65,62,57,56,55,52,51,50,50,48,46,36,93,88,84,80,77,75,75,72,68,67,64,64,62,59,56,55,51,51,48,47,47,46,46,38,69,69,68,64,65,58,58,57,54,49,50,47,48,46,47,45,42,42,41,40,38,32,22,19,82,80,79,78,73,73,73,71,70,66,61,61,60,60,59,58,57,54,53,51,50,48,45,43,34,32,29,29,28,27,26,26,26,23,23,23,22,22,21,20,20,20,19,17,17,15,13,12],\"yaxis\":\"y\"},{\"hovertemplate\":\"<b>OLS trendline</b><br>Pts = 13.2935 * SoT/90 + 1.41669<br>R<sup>2</sup>=0.257738<br><br>SoT/90=%{x}<br>Pts=%{y} <b>(trend)</b><extra></extra>\",\"legendgroup\":\"\",\"marker\":{\"color\":\"#636efa\",\"symbol\":\"circle\"},\"mode\":\"lines\",\"name\":\"\",\"showlegend\":false,\"type\":\"scatter\",\"x\":[2.61,2.7,2.71,2.87,2.93,3.02,3.06,3.06,3.09,3.09,3.11,3.11,3.12,3.13,3.17,3.17,3.17,3.2,3.2,3.26,3.3,3.31,3.33,3.33,3.35,3.35,3.35,3.35,3.37,3.38,3.39,3.41,3.47,3.47,3.5,3.53,3.57,3.57,3.58,3.59,3.59,3.59,3.59,3.61,3.61,3.61,3.65,3.65,3.65,3.65,3.7,3.71,3.72,3.72,3.74,3.74,3.74,3.74,3.76,3.76,3.76,3.76,3.78,3.78,3.78,3.8,3.8,3.8,3.8,3.8,3.8,3.8,3.82,3.83,3.83,3.83,3.83,3.83,3.85,3.86,3.87,3.88,3.89,3.89,3.89,3.93,3.93,3.93,3.93,3.96,3.96,3.96,3.96,4.0,4.0,4.02,4.03,4.04,4.07,4.07,4.07,4.07,4.07,4.07,4.09,4.09,4.09,4.11,4.11,4.11,4.11,4.13,4.14,4.15,4.17,4.17,4.17,4.17,4.17,4.2,4.22,4.22,4.22,4.22,4.24,4.24,4.24,4.24,4.26,4.26,4.26,4.28,4.28,4.3,4.3,4.3,4.3,4.31,4.35,4.35,4.35,4.35,4.35,4.35,4.35,4.37,4.37,4.37,4.39,4.39,4.39,4.39,4.39,4.41,4.41,4.41,4.41,4.41,4.43,4.43,4.43,4.43,4.46,4.46,4.46,4.46,4.46,4.47,4.47,4.48,4.48,4.5,4.51,4.52,4.52,4.59,4.59,4.59,4.61,4.61,4.62,4.65,4.67,4.67,4.67,4.67,4.7,4.71,4.71,4.72,4.72,4.72,4.72,4.72,4.74,4.76,4.8,4.83,4.85,4.87,4.87,4.91,4.91,4.93,4.93,4.96,4.98,4.98,4.98,5.0,5.0,5.0,5.0,5.04,5.11,5.13,5.19,5.2,5.22,5.22,5.28,5.28,5.33,5.33,5.35,5.35,5.39,5.39,5.41,5.43,5.44,5.46,5.54,5.54,5.61,5.65,5.74,5.93,6.26,6.65],\"xaxis\":\"x\",\"y\":[36.11264899386475,37.309061273366986,37.441995971089455,39.56895113464898,40.3665593209838,41.56297160048602,42.094710391375905,42.094710391375905,42.49351448454331,42.49351448454331,42.759383879988256,42.759383879988256,42.892318577710725,43.025253275433194,43.556992066323076,43.556992066323076,43.556992066323076,43.95579615949049,43.95579615949049,44.7534043458253,45.285143136715185,45.41807783443765,45.6839472298826,45.6839472298826,45.949816625327536,45.949816625327536,45.949816625327536,45.949816625327536,46.21568602077247,46.34862071849494,46.48155541621742,46.747424811662356,47.545032997997176,47.545032997997176,47.94383709116459,48.342641184331995,48.87437997522187,48.87437997522187,49.00731467294435,49.140249370666815,49.140249370666815,49.140249370666815,49.140249370666815,49.40611876611175,49.40611876611175,49.40611876611175,49.937857557001635,49.937857557001635,49.937857557001635,49.937857557001635,50.602531045613986,50.735465743336455,50.86840044105893,50.86840044105893,51.13426983650387,51.13426983650387,51.13426983650387,51.13426983650387,51.400139231948806,51.400139231948806,51.400139231948806,51.400139231948806,51.666008627393744,51.666008627393744,51.666008627393744,51.93187802283868,51.93187802283868,51.93187802283868,51.93187802283868,51.93187802283868,51.93187802283868,51.93187802283868,52.197747418283626,52.330682116006095,52.330682116006095,52.330682116006095,52.330682116006095,52.330682116006095,52.59655151145104,52.7294862091735,52.86242090689598,52.995355604618446,53.128290302340915,53.128290302340915,53.128290302340915,53.6600290932308,53.6600290932308,53.6600290932308,53.6600290932308,54.0588331863982,54.0588331863982,54.0588331863982,54.0588331863982,54.590571977288086,54.590571977288086,54.85644137273302,54.9893760704555,55.12231076817797,55.52111486134538,55.52111486134538,55.52111486134538,55.52111486134538,55.52111486134538,55.52111486134538,55.78698425679031,55.78698425679031,55.78698425679031,56.05285365223526,56.05285365223526,56.05285365223526,56.05285365223526,56.318723047680194,56.45165774540266,56.58459244312514,56.85046183857008,56.85046183857008,56.85046183857008,56.85046183857008,56.85046183857008,57.24926593173749,57.51513532718242,57.51513532718242,57.51513532718242,57.51513532718242,57.781004722627365,57.781004722627365,57.781004722627365,57.781004722627365,58.0468741180723,58.0468741180723,58.0468741180723,58.31274351351725,58.31274351351725,58.578612908962185,58.578612908962185,58.578612908962185,58.578612908962185,58.711547606684654,59.24328639757453,59.24328639757453,59.24328639757453,59.24328639757453,59.24328639757453,59.24328639757453,59.24328639757453,59.509155793019474,59.509155793019474,59.509155793019474,59.77502518846441,59.77502518846441,59.77502518846441,59.77502518846441,59.77502518846441,60.040894583909356,60.040894583909356,60.040894583909356,60.040894583909356,60.040894583909356,60.306763979354294,60.306763979354294,60.306763979354294,60.306763979354294,60.70556807252171,60.70556807252171,60.70556807252171,60.70556807252171,60.70556807252171,60.838502770244176,60.838502770244176,60.97143746796665,60.97143746796665,61.23730686341158,61.37024156113405,61.50317625885652,61.50317625885652,62.433719142913816,62.433719142913816,62.433719142913816,62.69958853835876,62.69958853835876,62.83252323608123,63.23132732924864,63.49719672469357,63.49719672469357,63.49719672469357,63.49719672469357,63.89600081786099,64.02893551558346,64.02893551558346,64.16187021330592,64.16187021330592,64.16187021330592,64.16187021330592,64.16187021330592,64.42773960875087,64.6936090041958,65.22534779508568,65.6241518882531,65.89002128369802,66.15589067914297,66.15589067914297,66.68762947003285,66.68762947003285,66.95349886547778,66.95349886547778,67.3523029586452,67.61817235409015,67.61817235409015,67.61817235409015,67.88404174953507,67.88404174953507,67.88404174953507,67.88404174953507,68.41578054042496,69.34632342448225,69.61219281992719,70.40980100626201,70.54273570398448,70.80860509942941,70.80860509942941,71.60621328576424,71.60621328576424,72.27088677437659,72.27088677437659,72.53675616982153,72.53675616982153,73.0684949607114,73.0684949607114,73.33436435615636,73.60023375160128,73.73316844932377,73.9990378447687,75.06251542654846,75.06251542654846,75.99305831060575,76.52479710149564,77.72120938099786,80.24696863772479,84.6338136625663,89.81826687374263],\"yaxis\":\"y\"}],                        {\"legend\":{\"tracegroupgap\":0},\"margin\":{\"t\":60},\"template\":{\"data\":{\"bar\":[{\"error_x\":{\"color\":\"#2a3f5f\"},\"error_y\":{\"color\":\"#2a3f5f\"},\"marker\":{\"line\":{\"color\":\"#E5ECF6\",\"width\":0.5},\"pattern\":{\"fillmode\":\"overlay\",\"size\":10,\"solidity\":0.2}},\"type\":\"bar\"}],\"barpolar\":[{\"marker\":{\"line\":{\"color\":\"#E5ECF6\",\"width\":0.5},\"pattern\":{\"fillmode\":\"overlay\",\"size\":10,\"solidity\":0.2}},\"type\":\"barpolar\"}],\"carpet\":[{\"aaxis\":{\"endlinecolor\":\"#2a3f5f\",\"gridcolor\":\"white\",\"linecolor\":\"white\",\"minorgridcolor\":\"white\",\"startlinecolor\":\"#2a3f5f\"},\"baxis\":{\"endlinecolor\":\"#2a3f5f\",\"gridcolor\":\"white\",\"linecolor\":\"white\",\"minorgridcolor\":\"white\",\"startlinecolor\":\"#2a3f5f\"},\"type\":\"carpet\"}],\"choropleth\":[{\"colorbar\":{\"outlinewidth\":0,\"ticks\":\"\"},\"type\":\"choropleth\"}],\"contour\":[{\"colorbar\":{\"outlinewidth\":0,\"ticks\":\"\"},\"colorscale\":[[0.0,\"#0d0887\"],[0.1111111111111111,\"#46039f\"],[0.2222222222222222,\"#7201a8\"],[0.3333333333333333,\"#9c179e\"],[0.4444444444444444,\"#bd3786\"],[0.5555555555555556,\"#d8576b\"],[0.6666666666666666,\"#ed7953\"],[0.7777777777777778,\"#fb9f3a\"],[0.8888888888888888,\"#fdca26\"],[1.0,\"#f0f921\"]],\"type\":\"contour\"}],\"contourcarpet\":[{\"colorbar\":{\"outlinewidth\":0,\"ticks\":\"\"},\"type\":\"contourcarpet\"}],\"heatmap\":[{\"colorbar\":{\"outlinewidth\":0,\"ticks\":\"\"},\"colorscale\":[[0.0,\"#0d0887\"],[0.1111111111111111,\"#46039f\"],[0.2222222222222222,\"#7201a8\"],[0.3333333333333333,\"#9c179e\"],[0.4444444444444444,\"#bd3786\"],[0.5555555555555556,\"#d8576b\"],[0.6666666666666666,\"#ed7953\"],[0.7777777777777778,\"#fb9f3a\"],[0.8888888888888888,\"#fdca26\"],[1.0,\"#f0f921\"]],\"type\":\"heatmap\"}],\"heatmapgl\":[{\"colorbar\":{\"outlinewidth\":0,\"ticks\":\"\"},\"colorscale\":[[0.0,\"#0d0887\"],[0.1111111111111111,\"#46039f\"],[0.2222222222222222,\"#7201a8\"],[0.3333333333333333,\"#9c179e\"],[0.4444444444444444,\"#bd3786\"],[0.5555555555555556,\"#d8576b\"],[0.6666666666666666,\"#ed7953\"],[0.7777777777777778,\"#fb9f3a\"],[0.8888888888888888,\"#fdca26\"],[1.0,\"#f0f921\"]],\"type\":\"heatmapgl\"}],\"histogram\":[{\"marker\":{\"pattern\":{\"fillmode\":\"overlay\",\"size\":10,\"solidity\":0.2}},\"type\":\"histogram\"}],\"histogram2d\":[{\"colorbar\":{\"outlinewidth\":0,\"ticks\":\"\"},\"colorscale\":[[0.0,\"#0d0887\"],[0.1111111111111111,\"#46039f\"],[0.2222222222222222,\"#7201a8\"],[0.3333333333333333,\"#9c179e\"],[0.4444444444444444,\"#bd3786\"],[0.5555555555555556,\"#d8576b\"],[0.6666666666666666,\"#ed7953\"],[0.7777777777777778,\"#fb9f3a\"],[0.8888888888888888,\"#fdca26\"],[1.0,\"#f0f921\"]],\"type\":\"histogram2d\"}],\"histogram2dcontour\":[{\"colorbar\":{\"outlinewidth\":0,\"ticks\":\"\"},\"colorscale\":[[0.0,\"#0d0887\"],[0.1111111111111111,\"#46039f\"],[0.2222222222222222,\"#7201a8\"],[0.3333333333333333,\"#9c179e\"],[0.4444444444444444,\"#bd3786\"],[0.5555555555555556,\"#d8576b\"],[0.6666666666666666,\"#ed7953\"],[0.7777777777777778,\"#fb9f3a\"],[0.8888888888888888,\"#fdca26\"],[1.0,\"#f0f921\"]],\"type\":\"histogram2dcontour\"}],\"mesh3d\":[{\"colorbar\":{\"outlinewidth\":0,\"ticks\":\"\"},\"type\":\"mesh3d\"}],\"parcoords\":[{\"line\":{\"colorbar\":{\"outlinewidth\":0,\"ticks\":\"\"}},\"type\":\"parcoords\"}],\"pie\":[{\"automargin\":true,\"type\":\"pie\"}],\"scatter\":[{\"marker\":{\"colorbar\":{\"outlinewidth\":0,\"ticks\":\"\"}},\"type\":\"scatter\"}],\"scatter3d\":[{\"line\":{\"colorbar\":{\"outlinewidth\":0,\"ticks\":\"\"}},\"marker\":{\"colorbar\":{\"outlinewidth\":0,\"ticks\":\"\"}},\"type\":\"scatter3d\"}],\"scattercarpet\":[{\"marker\":{\"colorbar\":{\"outlinewidth\":0,\"ticks\":\"\"}},\"type\":\"scattercarpet\"}],\"scattergeo\":[{\"marker\":{\"colorbar\":{\"outlinewidth\":0,\"ticks\":\"\"}},\"type\":\"scattergeo\"}],\"scattergl\":[{\"marker\":{\"colorbar\":{\"outlinewidth\":0,\"ticks\":\"\"}},\"type\":\"scattergl\"}],\"scattermapbox\":[{\"marker\":{\"colorbar\":{\"outlinewidth\":0,\"ticks\":\"\"}},\"type\":\"scattermapbox\"}],\"scatterpolar\":[{\"marker\":{\"colorbar\":{\"outlinewidth\":0,\"ticks\":\"\"}},\"type\":\"scatterpolar\"}],\"scatterpolargl\":[{\"marker\":{\"colorbar\":{\"outlinewidth\":0,\"ticks\":\"\"}},\"type\":\"scatterpolargl\"}],\"scatterternary\":[{\"marker\":{\"colorbar\":{\"outlinewidth\":0,\"ticks\":\"\"}},\"type\":\"scatterternary\"}],\"surface\":[{\"colorbar\":{\"outlinewidth\":0,\"ticks\":\"\"},\"colorscale\":[[0.0,\"#0d0887\"],[0.1111111111111111,\"#46039f\"],[0.2222222222222222,\"#7201a8\"],[0.3333333333333333,\"#9c179e\"],[0.4444444444444444,\"#bd3786\"],[0.5555555555555556,\"#d8576b\"],[0.6666666666666666,\"#ed7953\"],[0.7777777777777778,\"#fb9f3a\"],[0.8888888888888888,\"#fdca26\"],[1.0,\"#f0f921\"]],\"type\":\"surface\"}],\"table\":[{\"cells\":{\"fill\":{\"color\":\"#EBF0F8\"},\"line\":{\"color\":\"white\"}},\"header\":{\"fill\":{\"color\":\"#C8D4E3\"},\"line\":{\"color\":\"white\"}},\"type\":\"table\"}]},\"layout\":{\"annotationdefaults\":{\"arrowcolor\":\"#2a3f5f\",\"arrowhead\":0,\"arrowwidth\":1},\"autotypenumbers\":\"strict\",\"coloraxis\":{\"colorbar\":{\"outlinewidth\":0,\"ticks\":\"\"}},\"colorscale\":{\"diverging\":[[0,\"#8e0152\"],[0.1,\"#c51b7d\"],[0.2,\"#de77ae\"],[0.3,\"#f1b6da\"],[0.4,\"#fde0ef\"],[0.5,\"#f7f7f7\"],[0.6,\"#e6f5d0\"],[0.7,\"#b8e186\"],[0.8,\"#7fbc41\"],[0.9,\"#4d9221\"],[1,\"#276419\"]],\"sequential\":[[0.0,\"#0d0887\"],[0.1111111111111111,\"#46039f\"],[0.2222222222222222,\"#7201a8\"],[0.3333333333333333,\"#9c179e\"],[0.4444444444444444,\"#bd3786\"],[0.5555555555555556,\"#d8576b\"],[0.6666666666666666,\"#ed7953\"],[0.7777777777777778,\"#fb9f3a\"],[0.8888888888888888,\"#fdca26\"],[1.0,\"#f0f921\"]],\"sequentialminus\":[[0.0,\"#0d0887\"],[0.1111111111111111,\"#46039f\"],[0.2222222222222222,\"#7201a8\"],[0.3333333333333333,\"#9c179e\"],[0.4444444444444444,\"#bd3786\"],[0.5555555555555556,\"#d8576b\"],[0.6666666666666666,\"#ed7953\"],[0.7777777777777778,\"#fb9f3a\"],[0.8888888888888888,\"#fdca26\"],[1.0,\"#f0f921\"]]},\"colorway\":[\"#636efa\",\"#EF553B\",\"#00cc96\",\"#ab63fa\",\"#FFA15A\",\"#19d3f3\",\"#FF6692\",\"#B6E880\",\"#FF97FF\",\"#FECB52\"],\"font\":{\"color\":\"#2a3f5f\"},\"geo\":{\"bgcolor\":\"white\",\"lakecolor\":\"white\",\"landcolor\":\"#E5ECF6\",\"showlakes\":true,\"showland\":true,\"subunitcolor\":\"white\"},\"hoverlabel\":{\"align\":\"left\"},\"hovermode\":\"closest\",\"mapbox\":{\"style\":\"light\"},\"paper_bgcolor\":\"white\",\"plot_bgcolor\":\"#E5ECF6\",\"polar\":{\"angularaxis\":{\"gridcolor\":\"white\",\"linecolor\":\"white\",\"ticks\":\"\"},\"bgcolor\":\"#E5ECF6\",\"radialaxis\":{\"gridcolor\":\"white\",\"linecolor\":\"white\",\"ticks\":\"\"}},\"scene\":{\"xaxis\":{\"backgroundcolor\":\"#E5ECF6\",\"gridcolor\":\"white\",\"gridwidth\":2,\"linecolor\":\"white\",\"showbackground\":true,\"ticks\":\"\",\"zerolinecolor\":\"white\"},\"yaxis\":{\"backgroundcolor\":\"#E5ECF6\",\"gridcolor\":\"white\",\"gridwidth\":2,\"linecolor\":\"white\",\"showbackground\":true,\"ticks\":\"\",\"zerolinecolor\":\"white\"},\"zaxis\":{\"backgroundcolor\":\"#E5ECF6\",\"gridcolor\":\"white\",\"gridwidth\":2,\"linecolor\":\"white\",\"showbackground\":true,\"ticks\":\"\",\"zerolinecolor\":\"white\"}},\"shapedefaults\":{\"line\":{\"color\":\"#2a3f5f\"}},\"ternary\":{\"aaxis\":{\"gridcolor\":\"white\",\"linecolor\":\"white\",\"ticks\":\"\"},\"baxis\":{\"gridcolor\":\"white\",\"linecolor\":\"white\",\"ticks\":\"\"},\"bgcolor\":\"#E5ECF6\",\"caxis\":{\"gridcolor\":\"white\",\"linecolor\":\"white\",\"ticks\":\"\"}},\"title\":{\"x\":0.05},\"xaxis\":{\"automargin\":true,\"gridcolor\":\"white\",\"linecolor\":\"white\",\"ticks\":\"\",\"title\":{\"standoff\":15},\"zerolinecolor\":\"white\",\"zerolinewidth\":2},\"yaxis\":{\"automargin\":true,\"gridcolor\":\"white\",\"linecolor\":\"white\",\"ticks\":\"\",\"title\":{\"standoff\":15},\"zerolinecolor\":\"white\",\"zerolinewidth\":2}}},\"xaxis\":{\"anchor\":\"y\",\"domain\":[0.0,1.0],\"title\":{\"text\":\"SoT/90\"}},\"yaxis\":{\"anchor\":\"x\",\"domain\":[0.0,1.0],\"title\":{\"text\":\"Pts\"}}},                        {\"responsive\": true}                    ).then(function(){\n",
       "                            \n",
       "var gd = document.getElementById('c8b4cfc6-a966-463c-bca3-122c76577410');\n",
       "var x = new MutationObserver(function (mutations, observer) {{\n",
       "        var display = window.getComputedStyle(gd).display;\n",
       "        if (!display || display === 'none') {{\n",
       "            console.log([gd, 'removed!']);\n",
       "            Plotly.purge(gd);\n",
       "            observer.disconnect();\n",
       "        }}\n",
       "}});\n",
       "\n",
       "// Listen for the removal of the full notebook cells\n",
       "var notebookContainer = gd.closest('#notebook-container');\n",
       "if (notebookContainer) {{\n",
       "    x.observe(notebookContainer, {childList: true});\n",
       "}}\n",
       "\n",
       "// Listen for the clearing of the current output cell\n",
       "var outputEl = gd.closest('.output');\n",
       "if (outputEl) {{\n",
       "    x.observe(outputEl, {childList: true});\n",
       "}}\n",
       "\n",
       "                        })                };                });            </script>        </div>"
      ]
     },
     "metadata": {},
     "output_type": "display_data"
    }
   ],
   "source": [
    "fig = px.scatter(overall_df,x='SoT/90',y='Pts',hover_data=['Squad','Rk'],trendline='ols')\n",
    "fig.show()"
   ]
  },
  {
   "cell_type": "code",
   "execution_count": 75,
   "id": "declared-azerbaijan",
   "metadata": {},
   "outputs": [],
   "source": [
    "overall_df_updated = overall_df[overall_df['year'].isin(['2011', '2012', '2013', '2014', '2015', '2016', '2017',\n",
    "       '2020'])]"
   ]
  },
  {
   "cell_type": "code",
   "execution_count": 76,
   "id": "outdoor-bracelet",
   "metadata": {},
   "outputs": [
    {
     "data": {
      "text/plain": [
       "array(['2011', '2012', '2013', '2014', '2015', '2016', '2017', '2020'],\n",
       "      dtype=object)"
      ]
     },
     "execution_count": 76,
     "metadata": {},
     "output_type": "execute_result"
    }
   ],
   "source": [
    "overall_df_updated['year'].unique()"
   ]
  },
  {
   "cell_type": "code",
   "execution_count": 77,
   "id": "excellent-merit",
   "metadata": {},
   "outputs": [
    {
     "data": {
      "text/plain": [
       "array(['2011', '2012', '2013', '2014', '2015', '2016', '2017', '2019',\n",
       "       '2020', '2021'], dtype=object)"
      ]
     },
     "execution_count": 77,
     "metadata": {},
     "output_type": "execute_result"
    }
   ],
   "source": [
    "overall_df['year'].unique()"
   ]
  },
  {
   "cell_type": "code",
   "execution_count": 83,
   "id": "judicial-cradle",
   "metadata": {},
   "outputs": [
    {
     "data": {
      "application/vnd.plotly.v1+json": {
       "config": {
        "plotlyServerURL": "https://plot.ly"
       },
       "data": [
        {
         "customdata": [
          [
           "Swindon Town",
           1,
           "2011"
          ],
          [
           "Shrewsbury",
           2,
           "2011"
          ],
          [
           "Crawley Town",
           3,
           "2011"
          ],
          [
           "Southend United",
           4,
           "2011"
          ],
          [
           "Torquay United",
           5,
           "2011"
          ],
          [
           "Cheltenham",
           6,
           "2011"
          ],
          [
           "Crewe Alexandra",
           7,
           "2011"
          ],
          [
           "Gillingham",
           8,
           "2011"
          ],
          [
           "Oxford United",
           9,
           "2011"
          ],
          [
           "Rotherham Utd",
           10,
           "2011"
          ],
          [
           "Aldershot Town",
           11,
           "2011"
          ],
          [
           "Port Vale",
           12,
           "2011"
          ],
          [
           "Bristol Rovers",
           13,
           "2011"
          ],
          [
           "Acc'ton Stanley",
           14,
           "2011"
          ],
          [
           "Morecambe",
           15,
           "2011"
          ],
          [
           "AFC Wimbledon",
           16,
           "2011"
          ],
          [
           "Burton Albion",
           17,
           "2011"
          ],
          [
           "Bradford City",
           18,
           "2011"
          ],
          [
           "Dag & Red",
           19,
           "2011"
          ],
          [
           "Northampton",
           20,
           "2011"
          ],
          [
           "Plymouth Argyle",
           21,
           "2011"
          ],
          [
           "Barnet",
           22,
           "2011"
          ],
          [
           "Hereford United",
           23,
           "2011"
          ],
          [
           "Macclesfield",
           24,
           "2011"
          ],
          [
           "Gillingham",
           1,
           "2012"
          ],
          [
           "Rotherham Utd",
           2,
           "2012"
          ],
          [
           "Port Vale",
           3,
           "2012"
          ],
          [
           "Burton Albion",
           4,
           "2012"
          ],
          [
           "Cheltenham",
           5,
           "2012"
          ],
          [
           "Northampton",
           6,
           "2012"
          ],
          [
           "Bradford City",
           7,
           "2012"
          ],
          [
           "Chesterfield",
           8,
           "2012"
          ],
          [
           "Oxford United",
           9,
           "2012"
          ],
          [
           "Exeter City",
           10,
           "2012"
          ],
          [
           "Southend United",
           11,
           "2012"
          ],
          [
           "Rochdale",
           12,
           "2012"
          ],
          [
           "Fleetwood Town",
           13,
           "2012"
          ],
          [
           "Bristol Rovers",
           14,
           "2012"
          ],
          [
           "Wycombe",
           15,
           "2012"
          ],
          [
           "Morecambe",
           16,
           "2012"
          ],
          [
           "York City",
           17,
           "2012"
          ],
          [
           "Acc'ton Stanley",
           18,
           "2012"
          ],
          [
           "Torquay United",
           19,
           "2012"
          ],
          [
           "AFC Wimbledon",
           20,
           "2012"
          ],
          [
           "Plymouth Argyle",
           21,
           "2012"
          ],
          [
           "Dag & Red",
           22,
           "2012"
          ],
          [
           "Barnet",
           23,
           "2012"
          ],
          [
           "Aldershot Town",
           24,
           "2012"
          ],
          [
           "Chesterfield",
           1,
           "2013"
          ],
          [
           "Scunthorpe Utd",
           2,
           "2013"
          ],
          [
           "Rochdale",
           3,
           "2013"
          ],
          [
           "Fleetwood Town",
           4,
           "2013"
          ],
          [
           "Southend United",
           5,
           "2013"
          ],
          [
           "Burton Albion",
           6,
           "2013"
          ],
          [
           "York City",
           7,
           "2013"
          ],
          [
           "Oxford United",
           8,
           "2013"
          ],
          [
           "Dag & Red",
           9,
           "2013"
          ],
          [
           "Plymouth Argyle",
           10,
           "2013"
          ],
          [
           "Mansfield Town",
           11,
           "2013"
          ],
          [
           "Bury",
           12,
           "2013"
          ],
          [
           "Portsmouth",
           13,
           "2013"
          ],
          [
           "Newport County",
           14,
           "2013"
          ],
          [
           "Acc'ton Stanley",
           15,
           "2013"
          ],
          [
           "Exeter City",
           16,
           "2013"
          ],
          [
           "Cheltenham",
           17,
           "2013"
          ],
          [
           "Morecambe",
           18,
           "2013"
          ],
          [
           "Hartlepool Utd",
           19,
           "2013"
          ],
          [
           "AFC Wimbledon",
           20,
           "2013"
          ],
          [
           "Northampton",
           21,
           "2013"
          ],
          [
           "Wycombe",
           22,
           "2013"
          ],
          [
           "Bristol Rovers",
           23,
           "2013"
          ],
          [
           "Torquay United",
           24,
           "2013"
          ],
          [
           "Burton Albion",
           1,
           "2014"
          ],
          [
           "Shrewsbury",
           2,
           "2014"
          ],
          [
           "Bury",
           3,
           "2014"
          ],
          [
           "Wycombe",
           4,
           "2014"
          ],
          [
           "Southend United",
           5,
           "2014"
          ],
          [
           "Stevenage",
           6,
           "2014"
          ],
          [
           "Plymouth Argyle",
           7,
           "2014"
          ],
          [
           "Luton Town",
           8,
           "2014"
          ],
          [
           "Newport County",
           9,
           "2014"
          ],
          [
           "Exeter City",
           10,
           "2014"
          ],
          [
           "Morecambe",
           11,
           "2014"
          ],
          [
           "Northampton",
           12,
           "2014"
          ],
          [
           "Oxford United",
           13,
           "2014"
          ],
          [
           "Dag & Red",
           14,
           "2014"
          ],
          [
           "AFC Wimbledon",
           15,
           "2014"
          ],
          [
           "Portsmouth",
           16,
           "2014"
          ],
          [
           "Acc'ton Stanley",
           17,
           "2014"
          ],
          [
           "York City",
           18,
           "2014"
          ],
          [
           "Cambridge Utd",
           19,
           "2014"
          ],
          [
           "Carlisle United",
           20,
           "2014"
          ],
          [
           "Mansfield Town",
           21,
           "2014"
          ],
          [
           "Hartlepool Utd",
           22,
           "2014"
          ],
          [
           "Cheltenham",
           23,
           "2014"
          ],
          [
           "Tranmere Rovers",
           24,
           "2014"
          ],
          [
           "Northampton",
           1,
           "2015"
          ],
          [
           "Oxford United",
           2,
           "2015"
          ],
          [
           "Bristol Rovers",
           3,
           "2015"
          ],
          [
           "Acc'ton Stanley",
           4,
           "2015"
          ],
          [
           "Plymouth Argyle",
           5,
           "2015"
          ],
          [
           "Portsmouth",
           6,
           "2015"
          ],
          [
           "AFC Wimbledon",
           7,
           "2015"
          ],
          [
           "Leyton Orient",
           8,
           "2015"
          ],
          [
           "Cambridge Utd",
           9,
           "2015"
          ],
          [
           "Carlisle United",
           10,
           "2015"
          ],
          [
           "Luton Town",
           11,
           "2015"
          ],
          [
           "Mansfield Town",
           12,
           "2015"
          ],
          [
           "Wycombe",
           13,
           "2015"
          ],
          [
           "Exeter City",
           14,
           "2015"
          ],
          [
           "Barnet",
           15,
           "2015"
          ],
          [
           "Hartlepool Utd",
           16,
           "2015"
          ],
          [
           "Notts County",
           17,
           "2015"
          ],
          [
           "Stevenage",
           18,
           "2015"
          ],
          [
           "Yeovil Town",
           19,
           "2015"
          ],
          [
           "Crawley Town",
           20,
           "2015"
          ],
          [
           "Morecambe",
           21,
           "2015"
          ],
          [
           "Newport County",
           22,
           "2015"
          ],
          [
           "Dag & Red",
           23,
           "2015"
          ],
          [
           "York City",
           24,
           "2015"
          ],
          [
           "Portsmouth",
           1,
           "2016"
          ],
          [
           "Plymouth Argyle",
           2,
           "2016"
          ],
          [
           "Doncaster",
           3,
           "2016"
          ],
          [
           "Luton Town",
           4,
           "2016"
          ],
          [
           "Exeter City",
           5,
           "2016"
          ],
          [
           "Carlisle United",
           6,
           "2016"
          ],
          [
           "Blackpool",
           7,
           "2016"
          ],
          [
           "Colchester Utd",
           8,
           "2016"
          ],
          [
           "Wycombe",
           9,
           "2016"
          ],
          [
           "Stevenage",
           10,
           "2016"
          ],
          [
           "Cambridge Utd",
           11,
           "2016"
          ],
          [
           "Mansfield Town",
           12,
           "2016"
          ],
          [
           "Acc'ton Stanley",
           13,
           "2016"
          ],
          [
           "Grimsby Town",
           14,
           "2016"
          ],
          [
           "Barnet",
           15,
           "2016"
          ],
          [
           "Notts County",
           16,
           "2016"
          ],
          [
           "Crewe Alexandra",
           17,
           "2016"
          ],
          [
           "Morecambe",
           18,
           "2016"
          ],
          [
           "Crawley Town",
           19,
           "2016"
          ],
          [
           "Yeovil Town",
           20,
           "2016"
          ],
          [
           "Cheltenham",
           21,
           "2016"
          ],
          [
           "Newport County",
           22,
           "2016"
          ],
          [
           "Hartlepool Utd",
           23,
           "2016"
          ],
          [
           "Leyton Orient",
           24,
           "2016"
          ],
          [
           "Acc'ton Stanley",
           1,
           "2017"
          ],
          [
           "Luton Town",
           2,
           "2017"
          ],
          [
           "Wycombe",
           3,
           "2017"
          ],
          [
           "Exeter City",
           4,
           "2017"
          ],
          [
           "Notts County",
           5,
           "2017"
          ],
          [
           "Coventry City",
           6,
           "2017"
          ],
          [
           "Lincoln City",
           7,
           "2017"
          ],
          [
           "Mansfield Town",
           8,
           "2017"
          ],
          [
           "Swindon Town",
           9,
           "2017"
          ],
          [
           "Carlisle United",
           10,
           "2017"
          ],
          [
           "Newport County",
           11,
           "2017"
          ],
          [
           "Cambridge Utd",
           12,
           "2017"
          ],
          [
           "Colchester Utd",
           13,
           "2017"
          ],
          [
           "Crawley Town",
           14,
           "2017"
          ],
          [
           "Crewe Alexandra",
           15,
           "2017"
          ],
          [
           "Stevenage",
           16,
           "2017"
          ],
          [
           "Cheltenham",
           17,
           "2017"
          ],
          [
           "Grimsby Town",
           18,
           "2017"
          ],
          [
           "Yeovil Town",
           19,
           "2017"
          ],
          [
           "Port Vale",
           20,
           "2017"
          ],
          [
           "FG Rovers",
           21,
           "2017"
          ],
          [
           "Morecambe",
           22,
           "2017"
          ],
          [
           "Barnet",
           23,
           "2017"
          ],
          [
           "Chesterfield",
           24,
           "2017"
          ],
          [
           "Cheltenham",
           1,
           "2020"
          ],
          [
           "Cambridge Utd",
           2,
           "2020"
          ],
          [
           "Bolton",
           3,
           "2020"
          ],
          [
           "Morecambe",
           4,
           "2020"
          ],
          [
           "Newport County",
           5,
           "2020"
          ],
          [
           "FG Rovers",
           6,
           "2020"
          ],
          [
           "Tranmere Rovers",
           7,
           "2020"
          ],
          [
           "Salford City",
           8,
           "2020"
          ],
          [
           "Exeter City",
           9,
           "2020"
          ],
          [
           "Carlisle United",
           10,
           "2020"
          ],
          [
           "Leyton Orient",
           11,
           "2020"
          ],
          [
           "Crawley Town",
           12,
           "2020"
          ],
          [
           "Port Vale",
           13,
           "2020"
          ],
          [
           "Stevenage",
           14,
           "2020"
          ],
          [
           "Bradford City",
           15,
           "2020"
          ],
          [
           "Mansfield Town",
           16,
           "2020"
          ],
          [
           "Harrogate",
           17,
           "2020"
          ],
          [
           "Oldham Athletic",
           18,
           "2020"
          ],
          [
           "Walsall",
           19,
           "2020"
          ],
          [
           "Colchester Utd",
           20,
           "2020"
          ],
          [
           "Barrow",
           21,
           "2020"
          ],
          [
           "Scunthorpe Utd",
           22,
           "2020"
          ],
          [
           "Southend United",
           23,
           "2020"
          ],
          [
           "Grimsby Town",
           24,
           "2020"
          ]
         ],
         "hovertemplate": "G+A-PK/90=%{x}<br>Pts/MP=%{y}<br>Squad=%{customdata[0]}<br>Rk=%{customdata[1]}<br>year=%{customdata[2]}<extra></extra>",
         "legendgroup": "",
         "marker": {
          "color": "#636efa",
          "symbol": "circle"
         },
         "mode": "markers",
         "name": "",
         "orientation": "v",
         "showlegend": false,
         "type": "scatter",
         "x": [
          2.65,
          2.37,
          2.54,
          2.67,
          2.17,
          2.24,
          2.28,
          2.5,
          2.15,
          2.35,
          1.87,
          2.15,
          1.83,
          1.98,
          2.11,
          2.02,
          1.98,
          1.7,
          1.8,
          1.98,
          1.41,
          1.78,
          1.7,
          1.17,
          2.2,
          2.5,
          3.04,
          2.35,
          1.98,
          2.33,
          2.04,
          2.33,
          2.11,
          2.26,
          2.26,
          2.37,
          2.09,
          1.89,
          1.61,
          1.89,
          1.67,
          1.76,
          1.91,
          1.74,
          1.35,
          1.89,
          1.63,
          1.37,
          2.33,
          2.17,
          2.17,
          1.91,
          2.02,
          1.41,
          1.46,
          1.59,
          1.52,
          1.59,
          1.57,
          2,
          1.76,
          1.67,
          1.65,
          1.72,
          1.59,
          1.52,
          1.52,
          1.43,
          1.26,
          1.46,
          1.3,
          1.5,
          2.13,
          2.15,
          2.04,
          2.15,
          1.72,
          1.96,
          1.7,
          1.93,
          1.72,
          1.85,
          1.7,
          2.11,
          1.39,
          2.04,
          1.83,
          1.7,
          1.63,
          1.63,
          2.11,
          1.93,
          1.24,
          1.26,
          1.17,
          1.57,
          2.98,
          2.89,
          2.65,
          2.33,
          2.54,
          2.65,
          2.26,
          1.96,
          2.24,
          2.3,
          2.07,
          2.04,
          1.52,
          2.26,
          2.13,
          1.63,
          1.8,
          1.83,
          1.39,
          1.39,
          2.17,
          1.5,
          1.78,
          1.76,
          2.63,
          2.52,
          2.8,
          2.2,
          2.54,
          2.24,
          2.17,
          2.26,
          1.93,
          2.07,
          1.83,
          1.74,
          2,
          1.8,
          1.85,
          1.83,
          2.15,
          1.48,
          1.67,
          1.52,
          1.76,
          1.61,
          1.67,
          1.52,
          2.39,
          3.11,
          2.59,
          2.07,
          2.28,
          2.13,
          2.2,
          2.07,
          2.2,
          2.02,
          2.09,
          1.91,
          1.83,
          1.98,
          1.98,
          2,
          2.3,
          1.22,
          1.91,
          1.59,
          1.8,
          1.43,
          1.61,
          1.5,
          1.87,
          2.24,
          1.96,
          2.3,
          1.61,
          1.89,
          1.67,
          1.87,
          2.39,
          2.11,
          1.85,
          1.85,
          1.87,
          1.26,
          1.72,
          1.85,
          1.87,
          2.35,
          1.5,
          1.43,
          1.52,
          1.5,
          0.96,
          1.28
         ],
         "xaxis": "x",
         "y": [
          2.02,
          1.91,
          1.83,
          1.8,
          1.76,
          1.67,
          1.57,
          1.52,
          1.48,
          1.46,
          1.43,
          1.28,
          1.24,
          1.24,
          1.22,
          1.17,
          1.17,
          1.09,
          1.09,
          1.04,
          1,
          1,
          0.96,
          0.8,
          1.8,
          1.72,
          1.7,
          1.65,
          1.63,
          1.59,
          1.5,
          1.46,
          1.41,
          1.39,
          1.33,
          1.33,
          1.3,
          1.3,
          1.3,
          1.26,
          1.2,
          1.17,
          1.15,
          1.15,
          1.13,
          1.11,
          1.11,
          1.04,
          1.83,
          1.76,
          1.76,
          1.65,
          1.57,
          1.57,
          1.54,
          1.35,
          1.3,
          1.3,
          1.3,
          1.28,
          1.28,
          1.26,
          1.24,
          1.2,
          1.2,
          1.17,
          1.15,
          1.15,
          1.15,
          1.09,
          1.09,
          0.98,
          2.04,
          1.93,
          1.85,
          1.83,
          1.83,
          1.57,
          1.54,
          1.48,
          1.41,
          1.39,
          1.37,
          1.33,
          1.33,
          1.28,
          1.26,
          1.24,
          1.22,
          1.13,
          1.11,
          1.09,
          1.04,
          0.98,
          0.89,
          0.85,
          2.15,
          1.87,
          1.85,
          1.85,
          1.76,
          1.7,
          1.63,
          1.5,
          1.48,
          1.46,
          1.43,
          1.39,
          1.39,
          1.39,
          1.35,
          1.11,
          1.11,
          1.04,
          1.04,
          1.02,
          1,
          0.93,
          0.74,
          0.74,
          1.89,
          1.89,
          1.85,
          1.67,
          1.54,
          1.54,
          1.52,
          1.5,
          1.5,
          1.46,
          1.43,
          1.43,
          1.41,
          1.35,
          1.24,
          1.22,
          1.2,
          1.13,
          1.11,
          1.09,
          1.09,
          1.04,
          1,
          0.78,
          2.02,
          1.91,
          1.83,
          1.74,
          1.67,
          1.63,
          1.63,
          1.57,
          1.48,
          1.46,
          1.39,
          1.39,
          1.35,
          1.28,
          1.22,
          1.2,
          1.11,
          1.11,
          1.04,
          1.02,
          1.02,
          1,
          1,
          0.83,
          1.78,
          1.74,
          1.72,
          1.7,
          1.59,
          1.59,
          1.59,
          1.54,
          1.52,
          1.43,
          1.33,
          1.33,
          1.3,
          1.3,
          1.28,
          1.26,
          1.24,
          1.17,
          1.15,
          1.11,
          1.09,
          1.04,
          0.98,
          0.93
         ],
         "yaxis": "y"
        },
        {
         "hovertemplate": "<b>OLS trendline</b><br>Pts/MP = 0.547964 * G+A-PK/90 + 0.310236<br>R<sup>2</sup>=0.520010<br><br>G+A-PK/90=%{x}<br>Pts/MP=%{y} <b>(trend)</b><extra></extra>",
         "legendgroup": "",
         "marker": {
          "color": "#636efa",
          "symbol": "circle"
         },
         "mode": "lines",
         "name": "",
         "showlegend": false,
         "type": "scatter",
         "x": [
          0.96,
          1.17,
          1.17,
          1.22,
          1.24,
          1.26,
          1.26,
          1.26,
          1.28,
          1.3,
          1.35,
          1.37,
          1.39,
          1.39,
          1.39,
          1.41,
          1.41,
          1.43,
          1.43,
          1.43,
          1.46,
          1.46,
          1.48,
          1.5,
          1.5,
          1.5,
          1.5,
          1.5,
          1.52,
          1.52,
          1.52,
          1.52,
          1.52,
          1.52,
          1.52,
          1.57,
          1.57,
          1.59,
          1.59,
          1.59,
          1.59,
          1.61,
          1.61,
          1.61,
          1.61,
          1.63,
          1.63,
          1.63,
          1.63,
          1.65,
          1.67,
          1.67,
          1.67,
          1.67,
          1.67,
          1.7,
          1.7,
          1.7,
          1.7,
          1.7,
          1.72,
          1.72,
          1.72,
          1.72,
          1.74,
          1.74,
          1.76,
          1.76,
          1.76,
          1.76,
          1.78,
          1.78,
          1.8,
          1.8,
          1.8,
          1.8,
          1.83,
          1.83,
          1.83,
          1.83,
          1.83,
          1.83,
          1.85,
          1.85,
          1.85,
          1.85,
          1.85,
          1.87,
          1.87,
          1.87,
          1.87,
          1.87,
          1.89,
          1.89,
          1.89,
          1.89,
          1.91,
          1.91,
          1.91,
          1.91,
          1.93,
          1.93,
          1.93,
          1.96,
          1.96,
          1.96,
          1.98,
          1.98,
          1.98,
          1.98,
          1.98,
          1.98,
          2,
          2,
          2,
          2.02,
          2.02,
          2.02,
          2.04,
          2.04,
          2.04,
          2.04,
          2.07,
          2.07,
          2.07,
          2.07,
          2.09,
          2.09,
          2.11,
          2.11,
          2.11,
          2.11,
          2.11,
          2.13,
          2.13,
          2.13,
          2.15,
          2.15,
          2.15,
          2.15,
          2.15,
          2.17,
          2.17,
          2.17,
          2.17,
          2.17,
          2.2,
          2.2,
          2.2,
          2.2,
          2.24,
          2.24,
          2.24,
          2.24,
          2.26,
          2.26,
          2.26,
          2.26,
          2.26,
          2.28,
          2.28,
          2.3,
          2.3,
          2.3,
          2.33,
          2.33,
          2.33,
          2.33,
          2.35,
          2.35,
          2.35,
          2.37,
          2.37,
          2.39,
          2.39,
          2.5,
          2.5,
          2.52,
          2.54,
          2.54,
          2.54,
          2.59,
          2.63,
          2.65,
          2.65,
          2.65,
          2.67,
          2.8,
          2.89,
          2.98,
          3.04,
          3.11
         ],
         "xaxis": "x",
         "y": [
          0.8362818192007309,
          0.9513542576513648,
          0.9513542576513648,
          0.9787524572824682,
          0.9897117371349096,
          1.000671016987351,
          1.000671016987351,
          1.000671016987351,
          1.0116302968397923,
          1.0225895766922335,
          1.049987776323337,
          1.0609470561757783,
          1.0719063360282197,
          1.0719063360282197,
          1.0719063360282197,
          1.0828656158806609,
          1.0828656158806609,
          1.0938248957331023,
          1.0938248957331023,
          1.0938248957331023,
          1.1102638155117643,
          1.1102638155117643,
          1.1212230953642055,
          1.1321823752166469,
          1.1321823752166469,
          1.1321823752166469,
          1.1321823752166469,
          1.1321823752166469,
          1.1431416550690883,
          1.1431416550690883,
          1.1431416550690883,
          1.1431416550690883,
          1.1431416550690883,
          1.1431416550690883,
          1.1431416550690883,
          1.1705398547001917,
          1.1705398547001917,
          1.1814991345526331,
          1.1814991345526331,
          1.1814991345526331,
          1.1814991345526331,
          1.1924584144050745,
          1.1924584144050745,
          1.1924584144050745,
          1.1924584144050745,
          1.2034176942575157,
          1.2034176942575157,
          1.2034176942575157,
          1.2034176942575157,
          1.214376974109957,
          1.2253362539623982,
          1.2253362539623982,
          1.2253362539623982,
          1.2253362539623982,
          1.2253362539623982,
          1.2417751737410603,
          1.2417751737410603,
          1.2417751737410603,
          1.2417751737410603,
          1.2417751737410603,
          1.2527344535935017,
          1.2527344535935017,
          1.2527344535935017,
          1.2527344535935017,
          1.263693733445943,
          1.263693733445943,
          1.2746530132983844,
          1.2746530132983844,
          1.2746530132983844,
          1.2746530132983844,
          1.2856122931508258,
          1.2856122931508258,
          1.2965715730032672,
          1.2965715730032672,
          1.2965715730032672,
          1.2965715730032672,
          1.3130104927819293,
          1.3130104927819293,
          1.3130104927819293,
          1.3130104927819293,
          1.3130104927819293,
          1.3130104927819293,
          1.3239697726343707,
          1.3239697726343707,
          1.3239697726343707,
          1.3239697726343707,
          1.3239697726343707,
          1.334929052486812,
          1.334929052486812,
          1.334929052486812,
          1.334929052486812,
          1.334929052486812,
          1.345888332339253,
          1.345888332339253,
          1.345888332339253,
          1.345888332339253,
          1.3568476121916944,
          1.3568476121916944,
          1.3568476121916944,
          1.3568476121916944,
          1.3678068920441357,
          1.3678068920441357,
          1.3678068920441357,
          1.3842458118227978,
          1.3842458118227978,
          1.3842458118227978,
          1.3952050916752392,
          1.3952050916752392,
          1.3952050916752392,
          1.3952050916752392,
          1.3952050916752392,
          1.3952050916752392,
          1.4061643715276806,
          1.4061643715276806,
          1.4061643715276806,
          1.417123651380122,
          1.417123651380122,
          1.417123651380122,
          1.4280829312325634,
          1.4280829312325634,
          1.4280829312325634,
          1.4280829312325634,
          1.444521851011225,
          1.444521851011225,
          1.444521851011225,
          1.444521851011225,
          1.4554811308636664,
          1.4554811308636664,
          1.4664404107161078,
          1.4664404107161078,
          1.4664404107161078,
          1.4664404107161078,
          1.4664404107161078,
          1.4773996905685491,
          1.4773996905685491,
          1.4773996905685491,
          1.4883589704209905,
          1.4883589704209905,
          1.4883589704209905,
          1.4883589704209905,
          1.4883589704209905,
          1.499318250273432,
          1.499318250273432,
          1.499318250273432,
          1.499318250273432,
          1.499318250273432,
          1.515757170052094,
          1.515757170052094,
          1.515757170052094,
          1.515757170052094,
          1.5376757297569768,
          1.5376757297569768,
          1.5376757297569768,
          1.5376757297569768,
          1.5486350096094177,
          1.5486350096094177,
          1.5486350096094177,
          1.5486350096094177,
          1.5486350096094177,
          1.559594289461859,
          1.559594289461859,
          1.5705535693143005,
          1.5705535693143005,
          1.5705535693143005,
          1.5869924890929625,
          1.5869924890929625,
          1.5869924890929625,
          1.5869924890929625,
          1.597951768945404,
          1.597951768945404,
          1.597951768945404,
          1.6089110487978453,
          1.6089110487978453,
          1.6198703286502867,
          1.6198703286502867,
          1.6801463678387139,
          1.6801463678387139,
          1.6911056476911552,
          1.7020649275435966,
          1.7020649275435966,
          1.7020649275435966,
          1.7294631271747,
          1.7513816868795824,
          1.7623409667320238,
          1.7623409667320238,
          1.7623409667320238,
          1.7733002465844652,
          1.8445355656253342,
          1.89385232496132,
          1.9431690842973062,
          1.9760469238546303,
          2.0144044033381747
         ],
         "yaxis": "y"
        }
       ],
       "layout": {
        "legend": {
         "tracegroupgap": 0
        },
        "margin": {
         "t": 60
        },
        "template": {
         "data": {
          "bar": [
           {
            "error_x": {
             "color": "#2a3f5f"
            },
            "error_y": {
             "color": "#2a3f5f"
            },
            "marker": {
             "line": {
              "color": "#E5ECF6",
              "width": 0.5
             },
             "pattern": {
              "fillmode": "overlay",
              "size": 10,
              "solidity": 0.2
             }
            },
            "type": "bar"
           }
          ],
          "barpolar": [
           {
            "marker": {
             "line": {
              "color": "#E5ECF6",
              "width": 0.5
             },
             "pattern": {
              "fillmode": "overlay",
              "size": 10,
              "solidity": 0.2
             }
            },
            "type": "barpolar"
           }
          ],
          "carpet": [
           {
            "aaxis": {
             "endlinecolor": "#2a3f5f",
             "gridcolor": "white",
             "linecolor": "white",
             "minorgridcolor": "white",
             "startlinecolor": "#2a3f5f"
            },
            "baxis": {
             "endlinecolor": "#2a3f5f",
             "gridcolor": "white",
             "linecolor": "white",
             "minorgridcolor": "white",
             "startlinecolor": "#2a3f5f"
            },
            "type": "carpet"
           }
          ],
          "choropleth": [
           {
            "colorbar": {
             "outlinewidth": 0,
             "ticks": ""
            },
            "type": "choropleth"
           }
          ],
          "contour": [
           {
            "colorbar": {
             "outlinewidth": 0,
             "ticks": ""
            },
            "colorscale": [
             [
              0,
              "#0d0887"
             ],
             [
              0.1111111111111111,
              "#46039f"
             ],
             [
              0.2222222222222222,
              "#7201a8"
             ],
             [
              0.3333333333333333,
              "#9c179e"
             ],
             [
              0.4444444444444444,
              "#bd3786"
             ],
             [
              0.5555555555555556,
              "#d8576b"
             ],
             [
              0.6666666666666666,
              "#ed7953"
             ],
             [
              0.7777777777777778,
              "#fb9f3a"
             ],
             [
              0.8888888888888888,
              "#fdca26"
             ],
             [
              1,
              "#f0f921"
             ]
            ],
            "type": "contour"
           }
          ],
          "contourcarpet": [
           {
            "colorbar": {
             "outlinewidth": 0,
             "ticks": ""
            },
            "type": "contourcarpet"
           }
          ],
          "heatmap": [
           {
            "colorbar": {
             "outlinewidth": 0,
             "ticks": ""
            },
            "colorscale": [
             [
              0,
              "#0d0887"
             ],
             [
              0.1111111111111111,
              "#46039f"
             ],
             [
              0.2222222222222222,
              "#7201a8"
             ],
             [
              0.3333333333333333,
              "#9c179e"
             ],
             [
              0.4444444444444444,
              "#bd3786"
             ],
             [
              0.5555555555555556,
              "#d8576b"
             ],
             [
              0.6666666666666666,
              "#ed7953"
             ],
             [
              0.7777777777777778,
              "#fb9f3a"
             ],
             [
              0.8888888888888888,
              "#fdca26"
             ],
             [
              1,
              "#f0f921"
             ]
            ],
            "type": "heatmap"
           }
          ],
          "heatmapgl": [
           {
            "colorbar": {
             "outlinewidth": 0,
             "ticks": ""
            },
            "colorscale": [
             [
              0,
              "#0d0887"
             ],
             [
              0.1111111111111111,
              "#46039f"
             ],
             [
              0.2222222222222222,
              "#7201a8"
             ],
             [
              0.3333333333333333,
              "#9c179e"
             ],
             [
              0.4444444444444444,
              "#bd3786"
             ],
             [
              0.5555555555555556,
              "#d8576b"
             ],
             [
              0.6666666666666666,
              "#ed7953"
             ],
             [
              0.7777777777777778,
              "#fb9f3a"
             ],
             [
              0.8888888888888888,
              "#fdca26"
             ],
             [
              1,
              "#f0f921"
             ]
            ],
            "type": "heatmapgl"
           }
          ],
          "histogram": [
           {
            "marker": {
             "pattern": {
              "fillmode": "overlay",
              "size": 10,
              "solidity": 0.2
             }
            },
            "type": "histogram"
           }
          ],
          "histogram2d": [
           {
            "colorbar": {
             "outlinewidth": 0,
             "ticks": ""
            },
            "colorscale": [
             [
              0,
              "#0d0887"
             ],
             [
              0.1111111111111111,
              "#46039f"
             ],
             [
              0.2222222222222222,
              "#7201a8"
             ],
             [
              0.3333333333333333,
              "#9c179e"
             ],
             [
              0.4444444444444444,
              "#bd3786"
             ],
             [
              0.5555555555555556,
              "#d8576b"
             ],
             [
              0.6666666666666666,
              "#ed7953"
             ],
             [
              0.7777777777777778,
              "#fb9f3a"
             ],
             [
              0.8888888888888888,
              "#fdca26"
             ],
             [
              1,
              "#f0f921"
             ]
            ],
            "type": "histogram2d"
           }
          ],
          "histogram2dcontour": [
           {
            "colorbar": {
             "outlinewidth": 0,
             "ticks": ""
            },
            "colorscale": [
             [
              0,
              "#0d0887"
             ],
             [
              0.1111111111111111,
              "#46039f"
             ],
             [
              0.2222222222222222,
              "#7201a8"
             ],
             [
              0.3333333333333333,
              "#9c179e"
             ],
             [
              0.4444444444444444,
              "#bd3786"
             ],
             [
              0.5555555555555556,
              "#d8576b"
             ],
             [
              0.6666666666666666,
              "#ed7953"
             ],
             [
              0.7777777777777778,
              "#fb9f3a"
             ],
             [
              0.8888888888888888,
              "#fdca26"
             ],
             [
              1,
              "#f0f921"
             ]
            ],
            "type": "histogram2dcontour"
           }
          ],
          "mesh3d": [
           {
            "colorbar": {
             "outlinewidth": 0,
             "ticks": ""
            },
            "type": "mesh3d"
           }
          ],
          "parcoords": [
           {
            "line": {
             "colorbar": {
              "outlinewidth": 0,
              "ticks": ""
             }
            },
            "type": "parcoords"
           }
          ],
          "pie": [
           {
            "automargin": true,
            "type": "pie"
           }
          ],
          "scatter": [
           {
            "marker": {
             "colorbar": {
              "outlinewidth": 0,
              "ticks": ""
             }
            },
            "type": "scatter"
           }
          ],
          "scatter3d": [
           {
            "line": {
             "colorbar": {
              "outlinewidth": 0,
              "ticks": ""
             }
            },
            "marker": {
             "colorbar": {
              "outlinewidth": 0,
              "ticks": ""
             }
            },
            "type": "scatter3d"
           }
          ],
          "scattercarpet": [
           {
            "marker": {
             "colorbar": {
              "outlinewidth": 0,
              "ticks": ""
             }
            },
            "type": "scattercarpet"
           }
          ],
          "scattergeo": [
           {
            "marker": {
             "colorbar": {
              "outlinewidth": 0,
              "ticks": ""
             }
            },
            "type": "scattergeo"
           }
          ],
          "scattergl": [
           {
            "marker": {
             "colorbar": {
              "outlinewidth": 0,
              "ticks": ""
             }
            },
            "type": "scattergl"
           }
          ],
          "scattermapbox": [
           {
            "marker": {
             "colorbar": {
              "outlinewidth": 0,
              "ticks": ""
             }
            },
            "type": "scattermapbox"
           }
          ],
          "scatterpolar": [
           {
            "marker": {
             "colorbar": {
              "outlinewidth": 0,
              "ticks": ""
             }
            },
            "type": "scatterpolar"
           }
          ],
          "scatterpolargl": [
           {
            "marker": {
             "colorbar": {
              "outlinewidth": 0,
              "ticks": ""
             }
            },
            "type": "scatterpolargl"
           }
          ],
          "scatterternary": [
           {
            "marker": {
             "colorbar": {
              "outlinewidth": 0,
              "ticks": ""
             }
            },
            "type": "scatterternary"
           }
          ],
          "surface": [
           {
            "colorbar": {
             "outlinewidth": 0,
             "ticks": ""
            },
            "colorscale": [
             [
              0,
              "#0d0887"
             ],
             [
              0.1111111111111111,
              "#46039f"
             ],
             [
              0.2222222222222222,
              "#7201a8"
             ],
             [
              0.3333333333333333,
              "#9c179e"
             ],
             [
              0.4444444444444444,
              "#bd3786"
             ],
             [
              0.5555555555555556,
              "#d8576b"
             ],
             [
              0.6666666666666666,
              "#ed7953"
             ],
             [
              0.7777777777777778,
              "#fb9f3a"
             ],
             [
              0.8888888888888888,
              "#fdca26"
             ],
             [
              1,
              "#f0f921"
             ]
            ],
            "type": "surface"
           }
          ],
          "table": [
           {
            "cells": {
             "fill": {
              "color": "#EBF0F8"
             },
             "line": {
              "color": "white"
             }
            },
            "header": {
             "fill": {
              "color": "#C8D4E3"
             },
             "line": {
              "color": "white"
             }
            },
            "type": "table"
           }
          ]
         },
         "layout": {
          "annotationdefaults": {
           "arrowcolor": "#2a3f5f",
           "arrowhead": 0,
           "arrowwidth": 1
          },
          "autotypenumbers": "strict",
          "coloraxis": {
           "colorbar": {
            "outlinewidth": 0,
            "ticks": ""
           }
          },
          "colorscale": {
           "diverging": [
            [
             0,
             "#8e0152"
            ],
            [
             0.1,
             "#c51b7d"
            ],
            [
             0.2,
             "#de77ae"
            ],
            [
             0.3,
             "#f1b6da"
            ],
            [
             0.4,
             "#fde0ef"
            ],
            [
             0.5,
             "#f7f7f7"
            ],
            [
             0.6,
             "#e6f5d0"
            ],
            [
             0.7,
             "#b8e186"
            ],
            [
             0.8,
             "#7fbc41"
            ],
            [
             0.9,
             "#4d9221"
            ],
            [
             1,
             "#276419"
            ]
           ],
           "sequential": [
            [
             0,
             "#0d0887"
            ],
            [
             0.1111111111111111,
             "#46039f"
            ],
            [
             0.2222222222222222,
             "#7201a8"
            ],
            [
             0.3333333333333333,
             "#9c179e"
            ],
            [
             0.4444444444444444,
             "#bd3786"
            ],
            [
             0.5555555555555556,
             "#d8576b"
            ],
            [
             0.6666666666666666,
             "#ed7953"
            ],
            [
             0.7777777777777778,
             "#fb9f3a"
            ],
            [
             0.8888888888888888,
             "#fdca26"
            ],
            [
             1,
             "#f0f921"
            ]
           ],
           "sequentialminus": [
            [
             0,
             "#0d0887"
            ],
            [
             0.1111111111111111,
             "#46039f"
            ],
            [
             0.2222222222222222,
             "#7201a8"
            ],
            [
             0.3333333333333333,
             "#9c179e"
            ],
            [
             0.4444444444444444,
             "#bd3786"
            ],
            [
             0.5555555555555556,
             "#d8576b"
            ],
            [
             0.6666666666666666,
             "#ed7953"
            ],
            [
             0.7777777777777778,
             "#fb9f3a"
            ],
            [
             0.8888888888888888,
             "#fdca26"
            ],
            [
             1,
             "#f0f921"
            ]
           ]
          },
          "colorway": [
           "#636efa",
           "#EF553B",
           "#00cc96",
           "#ab63fa",
           "#FFA15A",
           "#19d3f3",
           "#FF6692",
           "#B6E880",
           "#FF97FF",
           "#FECB52"
          ],
          "font": {
           "color": "#2a3f5f"
          },
          "geo": {
           "bgcolor": "white",
           "lakecolor": "white",
           "landcolor": "#E5ECF6",
           "showlakes": true,
           "showland": true,
           "subunitcolor": "white"
          },
          "hoverlabel": {
           "align": "left"
          },
          "hovermode": "closest",
          "mapbox": {
           "style": "light"
          },
          "paper_bgcolor": "white",
          "plot_bgcolor": "#E5ECF6",
          "polar": {
           "angularaxis": {
            "gridcolor": "white",
            "linecolor": "white",
            "ticks": ""
           },
           "bgcolor": "#E5ECF6",
           "radialaxis": {
            "gridcolor": "white",
            "linecolor": "white",
            "ticks": ""
           }
          },
          "scene": {
           "xaxis": {
            "backgroundcolor": "#E5ECF6",
            "gridcolor": "white",
            "gridwidth": 2,
            "linecolor": "white",
            "showbackground": true,
            "ticks": "",
            "zerolinecolor": "white"
           },
           "yaxis": {
            "backgroundcolor": "#E5ECF6",
            "gridcolor": "white",
            "gridwidth": 2,
            "linecolor": "white",
            "showbackground": true,
            "ticks": "",
            "zerolinecolor": "white"
           },
           "zaxis": {
            "backgroundcolor": "#E5ECF6",
            "gridcolor": "white",
            "gridwidth": 2,
            "linecolor": "white",
            "showbackground": true,
            "ticks": "",
            "zerolinecolor": "white"
           }
          },
          "shapedefaults": {
           "line": {
            "color": "#2a3f5f"
           }
          },
          "ternary": {
           "aaxis": {
            "gridcolor": "white",
            "linecolor": "white",
            "ticks": ""
           },
           "baxis": {
            "gridcolor": "white",
            "linecolor": "white",
            "ticks": ""
           },
           "bgcolor": "#E5ECF6",
           "caxis": {
            "gridcolor": "white",
            "linecolor": "white",
            "ticks": ""
           }
          },
          "title": {
           "x": 0.05
          },
          "xaxis": {
           "automargin": true,
           "gridcolor": "white",
           "linecolor": "white",
           "ticks": "",
           "title": {
            "standoff": 15
           },
           "zerolinecolor": "white",
           "zerolinewidth": 2
          },
          "yaxis": {
           "automargin": true,
           "gridcolor": "white",
           "linecolor": "white",
           "ticks": "",
           "title": {
            "standoff": 15
           },
           "zerolinecolor": "white",
           "zerolinewidth": 2
          }
         }
        },
        "xaxis": {
         "anchor": "y",
         "domain": [
          0,
          1
         ],
         "title": {
          "text": "G+A-PK/90"
         }
        },
        "yaxis": {
         "anchor": "x",
         "domain": [
          0,
          1
         ],
         "title": {
          "text": "Pts/MP"
         }
        }
       }
      },
      "text/html": [
       "<div>                            <div id=\"0fe26cdf-d10a-4aa1-9723-d0e5bac743d3\" class=\"plotly-graph-div\" style=\"height:525px; width:100%;\"></div>            <script type=\"text/javascript\">                require([\"plotly\"], function(Plotly) {                    window.PLOTLYENV=window.PLOTLYENV || {};                                    if (document.getElementById(\"0fe26cdf-d10a-4aa1-9723-d0e5bac743d3\")) {                    Plotly.newPlot(                        \"0fe26cdf-d10a-4aa1-9723-d0e5bac743d3\",                        [{\"customdata\":[[\"Swindon Town\",1,\"2011\"],[\"Shrewsbury\",2,\"2011\"],[\"Crawley Town\",3,\"2011\"],[\"Southend United\",4,\"2011\"],[\"Torquay United\",5,\"2011\"],[\"Cheltenham\",6,\"2011\"],[\"Crewe Alexandra\",7,\"2011\"],[\"Gillingham\",8,\"2011\"],[\"Oxford United\",9,\"2011\"],[\"Rotherham Utd\",10,\"2011\"],[\"Aldershot Town\",11,\"2011\"],[\"Port Vale\",12,\"2011\"],[\"Bristol Rovers\",13,\"2011\"],[\"Acc'ton Stanley\",14,\"2011\"],[\"Morecambe\",15,\"2011\"],[\"AFC Wimbledon\",16,\"2011\"],[\"Burton Albion\",17,\"2011\"],[\"Bradford City\",18,\"2011\"],[\"Dag & Red\",19,\"2011\"],[\"Northampton\",20,\"2011\"],[\"Plymouth Argyle\",21,\"2011\"],[\"Barnet\",22,\"2011\"],[\"Hereford United\",23,\"2011\"],[\"Macclesfield\",24,\"2011\"],[\"Gillingham\",1,\"2012\"],[\"Rotherham Utd\",2,\"2012\"],[\"Port Vale\",3,\"2012\"],[\"Burton Albion\",4,\"2012\"],[\"Cheltenham\",5,\"2012\"],[\"Northampton\",6,\"2012\"],[\"Bradford City\",7,\"2012\"],[\"Chesterfield\",8,\"2012\"],[\"Oxford United\",9,\"2012\"],[\"Exeter City\",10,\"2012\"],[\"Southend United\",11,\"2012\"],[\"Rochdale\",12,\"2012\"],[\"Fleetwood Town\",13,\"2012\"],[\"Bristol Rovers\",14,\"2012\"],[\"Wycombe\",15,\"2012\"],[\"Morecambe\",16,\"2012\"],[\"York City\",17,\"2012\"],[\"Acc'ton Stanley\",18,\"2012\"],[\"Torquay United\",19,\"2012\"],[\"AFC Wimbledon\",20,\"2012\"],[\"Plymouth Argyle\",21,\"2012\"],[\"Dag & Red\",22,\"2012\"],[\"Barnet\",23,\"2012\"],[\"Aldershot Town\",24,\"2012\"],[\"Chesterfield\",1,\"2013\"],[\"Scunthorpe Utd\",2,\"2013\"],[\"Rochdale\",3,\"2013\"],[\"Fleetwood Town\",4,\"2013\"],[\"Southend United\",5,\"2013\"],[\"Burton Albion\",6,\"2013\"],[\"York City\",7,\"2013\"],[\"Oxford United\",8,\"2013\"],[\"Dag & Red\",9,\"2013\"],[\"Plymouth Argyle\",10,\"2013\"],[\"Mansfield Town\",11,\"2013\"],[\"Bury\",12,\"2013\"],[\"Portsmouth\",13,\"2013\"],[\"Newport County\",14,\"2013\"],[\"Acc'ton Stanley\",15,\"2013\"],[\"Exeter City\",16,\"2013\"],[\"Cheltenham\",17,\"2013\"],[\"Morecambe\",18,\"2013\"],[\"Hartlepool Utd\",19,\"2013\"],[\"AFC Wimbledon\",20,\"2013\"],[\"Northampton\",21,\"2013\"],[\"Wycombe\",22,\"2013\"],[\"Bristol Rovers\",23,\"2013\"],[\"Torquay United\",24,\"2013\"],[\"Burton Albion\",1,\"2014\"],[\"Shrewsbury\",2,\"2014\"],[\"Bury\",3,\"2014\"],[\"Wycombe\",4,\"2014\"],[\"Southend United\",5,\"2014\"],[\"Stevenage\",6,\"2014\"],[\"Plymouth Argyle\",7,\"2014\"],[\"Luton Town\",8,\"2014\"],[\"Newport County\",9,\"2014\"],[\"Exeter City\",10,\"2014\"],[\"Morecambe\",11,\"2014\"],[\"Northampton\",12,\"2014\"],[\"Oxford United\",13,\"2014\"],[\"Dag & Red\",14,\"2014\"],[\"AFC Wimbledon\",15,\"2014\"],[\"Portsmouth\",16,\"2014\"],[\"Acc'ton Stanley\",17,\"2014\"],[\"York City\",18,\"2014\"],[\"Cambridge Utd\",19,\"2014\"],[\"Carlisle United\",20,\"2014\"],[\"Mansfield Town\",21,\"2014\"],[\"Hartlepool Utd\",22,\"2014\"],[\"Cheltenham\",23,\"2014\"],[\"Tranmere Rovers\",24,\"2014\"],[\"Northampton\",1,\"2015\"],[\"Oxford United\",2,\"2015\"],[\"Bristol Rovers\",3,\"2015\"],[\"Acc'ton Stanley\",4,\"2015\"],[\"Plymouth Argyle\",5,\"2015\"],[\"Portsmouth\",6,\"2015\"],[\"AFC Wimbledon\",7,\"2015\"],[\"Leyton Orient\",8,\"2015\"],[\"Cambridge Utd\",9,\"2015\"],[\"Carlisle United\",10,\"2015\"],[\"Luton Town\",11,\"2015\"],[\"Mansfield Town\",12,\"2015\"],[\"Wycombe\",13,\"2015\"],[\"Exeter City\",14,\"2015\"],[\"Barnet\",15,\"2015\"],[\"Hartlepool Utd\",16,\"2015\"],[\"Notts County\",17,\"2015\"],[\"Stevenage\",18,\"2015\"],[\"Yeovil Town\",19,\"2015\"],[\"Crawley Town\",20,\"2015\"],[\"Morecambe\",21,\"2015\"],[\"Newport County\",22,\"2015\"],[\"Dag & Red\",23,\"2015\"],[\"York City\",24,\"2015\"],[\"Portsmouth\",1,\"2016\"],[\"Plymouth Argyle\",2,\"2016\"],[\"Doncaster\",3,\"2016\"],[\"Luton Town\",4,\"2016\"],[\"Exeter City\",5,\"2016\"],[\"Carlisle United\",6,\"2016\"],[\"Blackpool\",7,\"2016\"],[\"Colchester Utd\",8,\"2016\"],[\"Wycombe\",9,\"2016\"],[\"Stevenage\",10,\"2016\"],[\"Cambridge Utd\",11,\"2016\"],[\"Mansfield Town\",12,\"2016\"],[\"Acc'ton Stanley\",13,\"2016\"],[\"Grimsby Town\",14,\"2016\"],[\"Barnet\",15,\"2016\"],[\"Notts County\",16,\"2016\"],[\"Crewe Alexandra\",17,\"2016\"],[\"Morecambe\",18,\"2016\"],[\"Crawley Town\",19,\"2016\"],[\"Yeovil Town\",20,\"2016\"],[\"Cheltenham\",21,\"2016\"],[\"Newport County\",22,\"2016\"],[\"Hartlepool Utd\",23,\"2016\"],[\"Leyton Orient\",24,\"2016\"],[\"Acc'ton Stanley\",1,\"2017\"],[\"Luton Town\",2,\"2017\"],[\"Wycombe\",3,\"2017\"],[\"Exeter City\",4,\"2017\"],[\"Notts County\",5,\"2017\"],[\"Coventry City\",6,\"2017\"],[\"Lincoln City\",7,\"2017\"],[\"Mansfield Town\",8,\"2017\"],[\"Swindon Town\",9,\"2017\"],[\"Carlisle United\",10,\"2017\"],[\"Newport County\",11,\"2017\"],[\"Cambridge Utd\",12,\"2017\"],[\"Colchester Utd\",13,\"2017\"],[\"Crawley Town\",14,\"2017\"],[\"Crewe Alexandra\",15,\"2017\"],[\"Stevenage\",16,\"2017\"],[\"Cheltenham\",17,\"2017\"],[\"Grimsby Town\",18,\"2017\"],[\"Yeovil Town\",19,\"2017\"],[\"Port Vale\",20,\"2017\"],[\"FG Rovers\",21,\"2017\"],[\"Morecambe\",22,\"2017\"],[\"Barnet\",23,\"2017\"],[\"Chesterfield\",24,\"2017\"],[\"Cheltenham\",1,\"2020\"],[\"Cambridge Utd\",2,\"2020\"],[\"Bolton\",3,\"2020\"],[\"Morecambe\",4,\"2020\"],[\"Newport County\",5,\"2020\"],[\"FG Rovers\",6,\"2020\"],[\"Tranmere Rovers\",7,\"2020\"],[\"Salford City\",8,\"2020\"],[\"Exeter City\",9,\"2020\"],[\"Carlisle United\",10,\"2020\"],[\"Leyton Orient\",11,\"2020\"],[\"Crawley Town\",12,\"2020\"],[\"Port Vale\",13,\"2020\"],[\"Stevenage\",14,\"2020\"],[\"Bradford City\",15,\"2020\"],[\"Mansfield Town\",16,\"2020\"],[\"Harrogate\",17,\"2020\"],[\"Oldham Athletic\",18,\"2020\"],[\"Walsall\",19,\"2020\"],[\"Colchester Utd\",20,\"2020\"],[\"Barrow\",21,\"2020\"],[\"Scunthorpe Utd\",22,\"2020\"],[\"Southend United\",23,\"2020\"],[\"Grimsby Town\",24,\"2020\"]],\"hovertemplate\":\"G+A-PK/90=%{x}<br>Pts/MP=%{y}<br>Squad=%{customdata[0]}<br>Rk=%{customdata[1]}<br>year=%{customdata[2]}<extra></extra>\",\"legendgroup\":\"\",\"marker\":{\"color\":\"#636efa\",\"symbol\":\"circle\"},\"mode\":\"markers\",\"name\":\"\",\"orientation\":\"v\",\"showlegend\":false,\"type\":\"scatter\",\"x\":[2.65,2.37,2.54,2.67,2.17,2.24,2.28,2.5,2.15,2.35,1.87,2.15,1.83,1.98,2.11,2.02,1.98,1.7,1.8,1.98,1.41,1.78,1.7,1.17,2.2,2.5,3.04,2.35,1.98,2.33,2.04,2.33,2.11,2.26,2.26,2.37,2.09,1.89,1.61,1.89,1.67,1.76,1.91,1.74,1.35,1.89,1.63,1.37,2.33,2.17,2.17,1.91,2.02,1.41,1.46,1.59,1.52,1.59,1.57,2.0,1.76,1.67,1.65,1.72,1.59,1.52,1.52,1.43,1.26,1.46,1.3,1.5,2.13,2.15,2.04,2.15,1.72,1.96,1.7,1.93,1.72,1.85,1.7,2.11,1.39,2.04,1.83,1.7,1.63,1.63,2.11,1.93,1.24,1.26,1.17,1.57,2.98,2.89,2.65,2.33,2.54,2.65,2.26,1.96,2.24,2.3,2.07,2.04,1.52,2.26,2.13,1.63,1.8,1.83,1.39,1.39,2.17,1.5,1.78,1.76,2.63,2.52,2.8,2.2,2.54,2.24,2.17,2.26,1.93,2.07,1.83,1.74,2.0,1.8,1.85,1.83,2.15,1.48,1.67,1.52,1.76,1.61,1.67,1.52,2.39,3.11,2.59,2.07,2.28,2.13,2.2,2.07,2.2,2.02,2.09,1.91,1.83,1.98,1.98,2.0,2.3,1.22,1.91,1.59,1.8,1.43,1.61,1.5,1.87,2.24,1.96,2.3,1.61,1.89,1.67,1.87,2.39,2.11,1.85,1.85,1.87,1.26,1.72,1.85,1.87,2.35,1.5,1.43,1.52,1.5,0.96,1.28],\"xaxis\":\"x\",\"y\":[2.02,1.91,1.83,1.8,1.76,1.67,1.57,1.52,1.48,1.46,1.43,1.28,1.24,1.24,1.22,1.17,1.17,1.09,1.09,1.04,1.0,1.0,0.96,0.8,1.8,1.72,1.7,1.65,1.63,1.59,1.5,1.46,1.41,1.39,1.33,1.33,1.3,1.3,1.3,1.26,1.2,1.17,1.15,1.15,1.13,1.11,1.11,1.04,1.83,1.76,1.76,1.65,1.57,1.57,1.54,1.35,1.3,1.3,1.3,1.28,1.28,1.26,1.24,1.2,1.2,1.17,1.15,1.15,1.15,1.09,1.09,0.98,2.04,1.93,1.85,1.83,1.83,1.57,1.54,1.48,1.41,1.39,1.37,1.33,1.33,1.28,1.26,1.24,1.22,1.13,1.11,1.09,1.04,0.98,0.89,0.85,2.15,1.87,1.85,1.85,1.76,1.7,1.63,1.5,1.48,1.46,1.43,1.39,1.39,1.39,1.35,1.11,1.11,1.04,1.04,1.02,1.0,0.93,0.74,0.74,1.89,1.89,1.85,1.67,1.54,1.54,1.52,1.5,1.5,1.46,1.43,1.43,1.41,1.35,1.24,1.22,1.2,1.13,1.11,1.09,1.09,1.04,1.0,0.78,2.02,1.91,1.83,1.74,1.67,1.63,1.63,1.57,1.48,1.46,1.39,1.39,1.35,1.28,1.22,1.2,1.11,1.11,1.04,1.02,1.02,1.0,1.0,0.83,1.78,1.74,1.72,1.7,1.59,1.59,1.59,1.54,1.52,1.43,1.33,1.33,1.3,1.3,1.28,1.26,1.24,1.17,1.15,1.11,1.09,1.04,0.98,0.93],\"yaxis\":\"y\"},{\"hovertemplate\":\"<b>OLS trendline</b><br>Pts/MP = 0.547964 * G+A-PK/90 + 0.310236<br>R<sup>2</sup>=0.520010<br><br>G+A-PK/90=%{x}<br>Pts/MP=%{y} <b>(trend)</b><extra></extra>\",\"legendgroup\":\"\",\"marker\":{\"color\":\"#636efa\",\"symbol\":\"circle\"},\"mode\":\"lines\",\"name\":\"\",\"showlegend\":false,\"type\":\"scatter\",\"x\":[0.96,1.17,1.17,1.22,1.24,1.26,1.26,1.26,1.28,1.3,1.35,1.37,1.39,1.39,1.39,1.41,1.41,1.43,1.43,1.43,1.46,1.46,1.48,1.5,1.5,1.5,1.5,1.5,1.52,1.52,1.52,1.52,1.52,1.52,1.52,1.57,1.57,1.59,1.59,1.59,1.59,1.61,1.61,1.61,1.61,1.63,1.63,1.63,1.63,1.65,1.67,1.67,1.67,1.67,1.67,1.7,1.7,1.7,1.7,1.7,1.72,1.72,1.72,1.72,1.74,1.74,1.76,1.76,1.76,1.76,1.78,1.78,1.8,1.8,1.8,1.8,1.83,1.83,1.83,1.83,1.83,1.83,1.85,1.85,1.85,1.85,1.85,1.87,1.87,1.87,1.87,1.87,1.89,1.89,1.89,1.89,1.91,1.91,1.91,1.91,1.93,1.93,1.93,1.96,1.96,1.96,1.98,1.98,1.98,1.98,1.98,1.98,2.0,2.0,2.0,2.02,2.02,2.02,2.04,2.04,2.04,2.04,2.07,2.07,2.07,2.07,2.09,2.09,2.11,2.11,2.11,2.11,2.11,2.13,2.13,2.13,2.15,2.15,2.15,2.15,2.15,2.17,2.17,2.17,2.17,2.17,2.2,2.2,2.2,2.2,2.24,2.24,2.24,2.24,2.26,2.26,2.26,2.26,2.26,2.28,2.28,2.3,2.3,2.3,2.33,2.33,2.33,2.33,2.35,2.35,2.35,2.37,2.37,2.39,2.39,2.5,2.5,2.52,2.54,2.54,2.54,2.59,2.63,2.65,2.65,2.65,2.67,2.8,2.89,2.98,3.04,3.11],\"xaxis\":\"x\",\"y\":[0.8362818192007309,0.9513542576513648,0.9513542576513648,0.9787524572824682,0.9897117371349096,1.000671016987351,1.000671016987351,1.000671016987351,1.0116302968397923,1.0225895766922335,1.049987776323337,1.0609470561757783,1.0719063360282197,1.0719063360282197,1.0719063360282197,1.0828656158806609,1.0828656158806609,1.0938248957331023,1.0938248957331023,1.0938248957331023,1.1102638155117643,1.1102638155117643,1.1212230953642055,1.1321823752166469,1.1321823752166469,1.1321823752166469,1.1321823752166469,1.1321823752166469,1.1431416550690883,1.1431416550690883,1.1431416550690883,1.1431416550690883,1.1431416550690883,1.1431416550690883,1.1431416550690883,1.1705398547001917,1.1705398547001917,1.1814991345526331,1.1814991345526331,1.1814991345526331,1.1814991345526331,1.1924584144050745,1.1924584144050745,1.1924584144050745,1.1924584144050745,1.2034176942575157,1.2034176942575157,1.2034176942575157,1.2034176942575157,1.214376974109957,1.2253362539623982,1.2253362539623982,1.2253362539623982,1.2253362539623982,1.2253362539623982,1.2417751737410603,1.2417751737410603,1.2417751737410603,1.2417751737410603,1.2417751737410603,1.2527344535935017,1.2527344535935017,1.2527344535935017,1.2527344535935017,1.263693733445943,1.263693733445943,1.2746530132983844,1.2746530132983844,1.2746530132983844,1.2746530132983844,1.2856122931508258,1.2856122931508258,1.2965715730032672,1.2965715730032672,1.2965715730032672,1.2965715730032672,1.3130104927819293,1.3130104927819293,1.3130104927819293,1.3130104927819293,1.3130104927819293,1.3130104927819293,1.3239697726343707,1.3239697726343707,1.3239697726343707,1.3239697726343707,1.3239697726343707,1.334929052486812,1.334929052486812,1.334929052486812,1.334929052486812,1.334929052486812,1.345888332339253,1.345888332339253,1.345888332339253,1.345888332339253,1.3568476121916944,1.3568476121916944,1.3568476121916944,1.3568476121916944,1.3678068920441357,1.3678068920441357,1.3678068920441357,1.3842458118227978,1.3842458118227978,1.3842458118227978,1.3952050916752392,1.3952050916752392,1.3952050916752392,1.3952050916752392,1.3952050916752392,1.3952050916752392,1.4061643715276806,1.4061643715276806,1.4061643715276806,1.417123651380122,1.417123651380122,1.417123651380122,1.4280829312325634,1.4280829312325634,1.4280829312325634,1.4280829312325634,1.444521851011225,1.444521851011225,1.444521851011225,1.444521851011225,1.4554811308636664,1.4554811308636664,1.4664404107161078,1.4664404107161078,1.4664404107161078,1.4664404107161078,1.4664404107161078,1.4773996905685491,1.4773996905685491,1.4773996905685491,1.4883589704209905,1.4883589704209905,1.4883589704209905,1.4883589704209905,1.4883589704209905,1.499318250273432,1.499318250273432,1.499318250273432,1.499318250273432,1.499318250273432,1.515757170052094,1.515757170052094,1.515757170052094,1.515757170052094,1.5376757297569768,1.5376757297569768,1.5376757297569768,1.5376757297569768,1.5486350096094177,1.5486350096094177,1.5486350096094177,1.5486350096094177,1.5486350096094177,1.559594289461859,1.559594289461859,1.5705535693143005,1.5705535693143005,1.5705535693143005,1.5869924890929625,1.5869924890929625,1.5869924890929625,1.5869924890929625,1.597951768945404,1.597951768945404,1.597951768945404,1.6089110487978453,1.6089110487978453,1.6198703286502867,1.6198703286502867,1.6801463678387139,1.6801463678387139,1.6911056476911552,1.7020649275435966,1.7020649275435966,1.7020649275435966,1.7294631271747,1.7513816868795824,1.7623409667320238,1.7623409667320238,1.7623409667320238,1.7733002465844652,1.8445355656253342,1.89385232496132,1.9431690842973062,1.9760469238546303,2.0144044033381747],\"yaxis\":\"y\"}],                        {\"legend\":{\"tracegroupgap\":0},\"margin\":{\"t\":60},\"template\":{\"data\":{\"bar\":[{\"error_x\":{\"color\":\"#2a3f5f\"},\"error_y\":{\"color\":\"#2a3f5f\"},\"marker\":{\"line\":{\"color\":\"#E5ECF6\",\"width\":0.5},\"pattern\":{\"fillmode\":\"overlay\",\"size\":10,\"solidity\":0.2}},\"type\":\"bar\"}],\"barpolar\":[{\"marker\":{\"line\":{\"color\":\"#E5ECF6\",\"width\":0.5},\"pattern\":{\"fillmode\":\"overlay\",\"size\":10,\"solidity\":0.2}},\"type\":\"barpolar\"}],\"carpet\":[{\"aaxis\":{\"endlinecolor\":\"#2a3f5f\",\"gridcolor\":\"white\",\"linecolor\":\"white\",\"minorgridcolor\":\"white\",\"startlinecolor\":\"#2a3f5f\"},\"baxis\":{\"endlinecolor\":\"#2a3f5f\",\"gridcolor\":\"white\",\"linecolor\":\"white\",\"minorgridcolor\":\"white\",\"startlinecolor\":\"#2a3f5f\"},\"type\":\"carpet\"}],\"choropleth\":[{\"colorbar\":{\"outlinewidth\":0,\"ticks\":\"\"},\"type\":\"choropleth\"}],\"contour\":[{\"colorbar\":{\"outlinewidth\":0,\"ticks\":\"\"},\"colorscale\":[[0.0,\"#0d0887\"],[0.1111111111111111,\"#46039f\"],[0.2222222222222222,\"#7201a8\"],[0.3333333333333333,\"#9c179e\"],[0.4444444444444444,\"#bd3786\"],[0.5555555555555556,\"#d8576b\"],[0.6666666666666666,\"#ed7953\"],[0.7777777777777778,\"#fb9f3a\"],[0.8888888888888888,\"#fdca26\"],[1.0,\"#f0f921\"]],\"type\":\"contour\"}],\"contourcarpet\":[{\"colorbar\":{\"outlinewidth\":0,\"ticks\":\"\"},\"type\":\"contourcarpet\"}],\"heatmap\":[{\"colorbar\":{\"outlinewidth\":0,\"ticks\":\"\"},\"colorscale\":[[0.0,\"#0d0887\"],[0.1111111111111111,\"#46039f\"],[0.2222222222222222,\"#7201a8\"],[0.3333333333333333,\"#9c179e\"],[0.4444444444444444,\"#bd3786\"],[0.5555555555555556,\"#d8576b\"],[0.6666666666666666,\"#ed7953\"],[0.7777777777777778,\"#fb9f3a\"],[0.8888888888888888,\"#fdca26\"],[1.0,\"#f0f921\"]],\"type\":\"heatmap\"}],\"heatmapgl\":[{\"colorbar\":{\"outlinewidth\":0,\"ticks\":\"\"},\"colorscale\":[[0.0,\"#0d0887\"],[0.1111111111111111,\"#46039f\"],[0.2222222222222222,\"#7201a8\"],[0.3333333333333333,\"#9c179e\"],[0.4444444444444444,\"#bd3786\"],[0.5555555555555556,\"#d8576b\"],[0.6666666666666666,\"#ed7953\"],[0.7777777777777778,\"#fb9f3a\"],[0.8888888888888888,\"#fdca26\"],[1.0,\"#f0f921\"]],\"type\":\"heatmapgl\"}],\"histogram\":[{\"marker\":{\"pattern\":{\"fillmode\":\"overlay\",\"size\":10,\"solidity\":0.2}},\"type\":\"histogram\"}],\"histogram2d\":[{\"colorbar\":{\"outlinewidth\":0,\"ticks\":\"\"},\"colorscale\":[[0.0,\"#0d0887\"],[0.1111111111111111,\"#46039f\"],[0.2222222222222222,\"#7201a8\"],[0.3333333333333333,\"#9c179e\"],[0.4444444444444444,\"#bd3786\"],[0.5555555555555556,\"#d8576b\"],[0.6666666666666666,\"#ed7953\"],[0.7777777777777778,\"#fb9f3a\"],[0.8888888888888888,\"#fdca26\"],[1.0,\"#f0f921\"]],\"type\":\"histogram2d\"}],\"histogram2dcontour\":[{\"colorbar\":{\"outlinewidth\":0,\"ticks\":\"\"},\"colorscale\":[[0.0,\"#0d0887\"],[0.1111111111111111,\"#46039f\"],[0.2222222222222222,\"#7201a8\"],[0.3333333333333333,\"#9c179e\"],[0.4444444444444444,\"#bd3786\"],[0.5555555555555556,\"#d8576b\"],[0.6666666666666666,\"#ed7953\"],[0.7777777777777778,\"#fb9f3a\"],[0.8888888888888888,\"#fdca26\"],[1.0,\"#f0f921\"]],\"type\":\"histogram2dcontour\"}],\"mesh3d\":[{\"colorbar\":{\"outlinewidth\":0,\"ticks\":\"\"},\"type\":\"mesh3d\"}],\"parcoords\":[{\"line\":{\"colorbar\":{\"outlinewidth\":0,\"ticks\":\"\"}},\"type\":\"parcoords\"}],\"pie\":[{\"automargin\":true,\"type\":\"pie\"}],\"scatter\":[{\"marker\":{\"colorbar\":{\"outlinewidth\":0,\"ticks\":\"\"}},\"type\":\"scatter\"}],\"scatter3d\":[{\"line\":{\"colorbar\":{\"outlinewidth\":0,\"ticks\":\"\"}},\"marker\":{\"colorbar\":{\"outlinewidth\":0,\"ticks\":\"\"}},\"type\":\"scatter3d\"}],\"scattercarpet\":[{\"marker\":{\"colorbar\":{\"outlinewidth\":0,\"ticks\":\"\"}},\"type\":\"scattercarpet\"}],\"scattergeo\":[{\"marker\":{\"colorbar\":{\"outlinewidth\":0,\"ticks\":\"\"}},\"type\":\"scattergeo\"}],\"scattergl\":[{\"marker\":{\"colorbar\":{\"outlinewidth\":0,\"ticks\":\"\"}},\"type\":\"scattergl\"}],\"scattermapbox\":[{\"marker\":{\"colorbar\":{\"outlinewidth\":0,\"ticks\":\"\"}},\"type\":\"scattermapbox\"}],\"scatterpolar\":[{\"marker\":{\"colorbar\":{\"outlinewidth\":0,\"ticks\":\"\"}},\"type\":\"scatterpolar\"}],\"scatterpolargl\":[{\"marker\":{\"colorbar\":{\"outlinewidth\":0,\"ticks\":\"\"}},\"type\":\"scatterpolargl\"}],\"scatterternary\":[{\"marker\":{\"colorbar\":{\"outlinewidth\":0,\"ticks\":\"\"}},\"type\":\"scatterternary\"}],\"surface\":[{\"colorbar\":{\"outlinewidth\":0,\"ticks\":\"\"},\"colorscale\":[[0.0,\"#0d0887\"],[0.1111111111111111,\"#46039f\"],[0.2222222222222222,\"#7201a8\"],[0.3333333333333333,\"#9c179e\"],[0.4444444444444444,\"#bd3786\"],[0.5555555555555556,\"#d8576b\"],[0.6666666666666666,\"#ed7953\"],[0.7777777777777778,\"#fb9f3a\"],[0.8888888888888888,\"#fdca26\"],[1.0,\"#f0f921\"]],\"type\":\"surface\"}],\"table\":[{\"cells\":{\"fill\":{\"color\":\"#EBF0F8\"},\"line\":{\"color\":\"white\"}},\"header\":{\"fill\":{\"color\":\"#C8D4E3\"},\"line\":{\"color\":\"white\"}},\"type\":\"table\"}]},\"layout\":{\"annotationdefaults\":{\"arrowcolor\":\"#2a3f5f\",\"arrowhead\":0,\"arrowwidth\":1},\"autotypenumbers\":\"strict\",\"coloraxis\":{\"colorbar\":{\"outlinewidth\":0,\"ticks\":\"\"}},\"colorscale\":{\"diverging\":[[0,\"#8e0152\"],[0.1,\"#c51b7d\"],[0.2,\"#de77ae\"],[0.3,\"#f1b6da\"],[0.4,\"#fde0ef\"],[0.5,\"#f7f7f7\"],[0.6,\"#e6f5d0\"],[0.7,\"#b8e186\"],[0.8,\"#7fbc41\"],[0.9,\"#4d9221\"],[1,\"#276419\"]],\"sequential\":[[0.0,\"#0d0887\"],[0.1111111111111111,\"#46039f\"],[0.2222222222222222,\"#7201a8\"],[0.3333333333333333,\"#9c179e\"],[0.4444444444444444,\"#bd3786\"],[0.5555555555555556,\"#d8576b\"],[0.6666666666666666,\"#ed7953\"],[0.7777777777777778,\"#fb9f3a\"],[0.8888888888888888,\"#fdca26\"],[1.0,\"#f0f921\"]],\"sequentialminus\":[[0.0,\"#0d0887\"],[0.1111111111111111,\"#46039f\"],[0.2222222222222222,\"#7201a8\"],[0.3333333333333333,\"#9c179e\"],[0.4444444444444444,\"#bd3786\"],[0.5555555555555556,\"#d8576b\"],[0.6666666666666666,\"#ed7953\"],[0.7777777777777778,\"#fb9f3a\"],[0.8888888888888888,\"#fdca26\"],[1.0,\"#f0f921\"]]},\"colorway\":[\"#636efa\",\"#EF553B\",\"#00cc96\",\"#ab63fa\",\"#FFA15A\",\"#19d3f3\",\"#FF6692\",\"#B6E880\",\"#FF97FF\",\"#FECB52\"],\"font\":{\"color\":\"#2a3f5f\"},\"geo\":{\"bgcolor\":\"white\",\"lakecolor\":\"white\",\"landcolor\":\"#E5ECF6\",\"showlakes\":true,\"showland\":true,\"subunitcolor\":\"white\"},\"hoverlabel\":{\"align\":\"left\"},\"hovermode\":\"closest\",\"mapbox\":{\"style\":\"light\"},\"paper_bgcolor\":\"white\",\"plot_bgcolor\":\"#E5ECF6\",\"polar\":{\"angularaxis\":{\"gridcolor\":\"white\",\"linecolor\":\"white\",\"ticks\":\"\"},\"bgcolor\":\"#E5ECF6\",\"radialaxis\":{\"gridcolor\":\"white\",\"linecolor\":\"white\",\"ticks\":\"\"}},\"scene\":{\"xaxis\":{\"backgroundcolor\":\"#E5ECF6\",\"gridcolor\":\"white\",\"gridwidth\":2,\"linecolor\":\"white\",\"showbackground\":true,\"ticks\":\"\",\"zerolinecolor\":\"white\"},\"yaxis\":{\"backgroundcolor\":\"#E5ECF6\",\"gridcolor\":\"white\",\"gridwidth\":2,\"linecolor\":\"white\",\"showbackground\":true,\"ticks\":\"\",\"zerolinecolor\":\"white\"},\"zaxis\":{\"backgroundcolor\":\"#E5ECF6\",\"gridcolor\":\"white\",\"gridwidth\":2,\"linecolor\":\"white\",\"showbackground\":true,\"ticks\":\"\",\"zerolinecolor\":\"white\"}},\"shapedefaults\":{\"line\":{\"color\":\"#2a3f5f\"}},\"ternary\":{\"aaxis\":{\"gridcolor\":\"white\",\"linecolor\":\"white\",\"ticks\":\"\"},\"baxis\":{\"gridcolor\":\"white\",\"linecolor\":\"white\",\"ticks\":\"\"},\"bgcolor\":\"#E5ECF6\",\"caxis\":{\"gridcolor\":\"white\",\"linecolor\":\"white\",\"ticks\":\"\"}},\"title\":{\"x\":0.05},\"xaxis\":{\"automargin\":true,\"gridcolor\":\"white\",\"linecolor\":\"white\",\"ticks\":\"\",\"title\":{\"standoff\":15},\"zerolinecolor\":\"white\",\"zerolinewidth\":2},\"yaxis\":{\"automargin\":true,\"gridcolor\":\"white\",\"linecolor\":\"white\",\"ticks\":\"\",\"title\":{\"standoff\":15},\"zerolinecolor\":\"white\",\"zerolinewidth\":2}}},\"xaxis\":{\"anchor\":\"y\",\"domain\":[0.0,1.0],\"title\":{\"text\":\"G+A-PK/90\"}},\"yaxis\":{\"anchor\":\"x\",\"domain\":[0.0,1.0],\"title\":{\"text\":\"Pts/MP\"}}},                        {\"responsive\": true}                    ).then(function(){\n",
       "                            \n",
       "var gd = document.getElementById('0fe26cdf-d10a-4aa1-9723-d0e5bac743d3');\n",
       "var x = new MutationObserver(function (mutations, observer) {{\n",
       "        var display = window.getComputedStyle(gd).display;\n",
       "        if (!display || display === 'none') {{\n",
       "            console.log([gd, 'removed!']);\n",
       "            Plotly.purge(gd);\n",
       "            observer.disconnect();\n",
       "        }}\n",
       "}});\n",
       "\n",
       "// Listen for the removal of the full notebook cells\n",
       "var notebookContainer = gd.closest('#notebook-container');\n",
       "if (notebookContainer) {{\n",
       "    x.observe(notebookContainer, {childList: true});\n",
       "}}\n",
       "\n",
       "// Listen for the clearing of the current output cell\n",
       "var outputEl = gd.closest('.output');\n",
       "if (outputEl) {{\n",
       "    x.observe(outputEl, {childList: true});\n",
       "}}\n",
       "\n",
       "                        })                };                });            </script>        </div>"
      ]
     },
     "metadata": {},
     "output_type": "display_data"
    }
   ],
   "source": [
    "fig = px.scatter(overall_df_updated,x='G+A-PK/90',y='Pts/MP',hover_data=['Squad','Rk','year'],trendline='ols')\n",
    "fig.show()"
   ]
  },
  {
   "cell_type": "code",
   "execution_count": null,
   "id": "detected-diving",
   "metadata": {},
   "outputs": [],
   "source": [
    "# predicting using linear regression"
   ]
  }
 ],
 "metadata": {
  "kernelspec": {
   "display_name": "Python 3",
   "language": "python",
   "name": "python3"
  },
  "language_info": {
   "codemirror_mode": {
    "name": "ipython",
    "version": 3
   },
   "file_extension": ".py",
   "mimetype": "text/x-python",
   "name": "python",
   "nbconvert_exporter": "python",
   "pygments_lexer": "ipython3",
   "version": "3.9.2"
  }
 },
 "nbformat": 4,
 "nbformat_minor": 5
}
